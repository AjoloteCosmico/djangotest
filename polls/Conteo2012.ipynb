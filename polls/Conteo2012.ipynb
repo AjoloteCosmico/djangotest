{
 "cells": [
  {
   "cell_type": "code",
   "execution_count": 1,
   "metadata": {},
   "outputs": [],
   "source": [
    "import pandas as pd\n",
    "import modules.EncuestasSQL as enc\n",
    "import importlib"
   ]
  },
  {
   "cell_type": "code",
   "execution_count": 36,
   "metadata": {},
   "outputs": [
    {
     "data": {
      "text/plain": [
       "<module 'modules.EncuestasSQL' from 'c:\\\\Apache24\\\\var\\\\www\\\\mytestsite\\\\polls\\\\modules\\\\EncuestasSQL.py'>"
      ]
     },
     "execution_count": 36,
     "metadata": {},
     "output_type": "execute_result"
    }
   ],
   "source": [
    "importlib.reload(enc)"
   ]
  },
  {
   "cell_type": "code",
   "execution_count": 2,
   "metadata": {},
   "outputs": [],
   "source": [
    "base2012=pd.read_spss('2012Celis.sav')"
   ]
  },
  {
   "cell_type": "code",
   "execution_count": 2,
   "metadata": {},
   "outputs": [],
   "source": [
    "dgae=pd.read_excel(\"modules/files/dgae.xlsx\")"
   ]
  },
  {
   "cell_type": "code",
   "execution_count": 3,
   "metadata": {},
   "outputs": [
    {
     "name": "stderr",
     "output_type": "stream",
     "text": [
      "c:\\Users\\fgonzalez\\AppData\\Local\\Programs\\Python\\Python310\\lib\\site-packages\\pandas\\io\\sql.py:762: UserWarning: pandas only support SQLAlchemy connectable(engine/connection) ordatabase string URI or sqlite3 DBAPI2 connectionother DBAPI2 objects are not tested, please consider using SQLAlchemy\n",
      "  warnings.warn(\n"
     ]
    },
    {
     "name": "stdout",
     "output_type": "stream",
     "text": [
      " EncuestasDB del PVE Comit 1.2.7\n"
     ]
    }
   ],
   "source": [
    "conexion=enc.EncuestasDB(dgae)"
   ]
  },
  {
   "cell_type": "code",
   "execution_count": 9,
   "metadata": {},
   "outputs": [],
   "source": [
    "cursor=conexion.cnx.cursor()"
   ]
  },
  {
   "cell_type": "code",
   "execution_count": 14,
   "metadata": {},
   "outputs": [],
   "source": [
    "conexion.cursor.execute(\"use encuestatest\")"
   ]
  },
  {
   "cell_type": "code",
   "execution_count": 31,
   "metadata": {},
   "outputs": [],
   "source": [
    "enc12=pd.read_sql(\"select cuenta,encuestador,nbr2,nbr3,ngr49 from respuesta1 where fec_capt > '2022-08-01'\",conexion.cnx)"
   ]
  },
  {
   "cell_type": "code",
   "execution_count": 25,
   "metadata": {},
   "outputs": [
    {
     "data": {
      "text/plain": [
       "0"
      ]
     },
     "execution_count": 25,
     "metadata": {},
     "output_type": "execute_result"
    }
   ],
   "source": [
    "#Hay numeros de cuenta repetidos?\n",
    "enc12[\"cuenta\"].size-enc12[\"cuenta\"].unique().size"
   ]
  },
  {
   "cell_type": "code",
   "execution_count": 32,
   "metadata": {},
   "outputs": [
    {
     "data": {
      "text/plain": [
       "array([17., nan, 12., 19., 21., 15., 13., 20.])"
      ]
     },
     "execution_count": 32,
     "metadata": {},
     "output_type": "execute_result"
    }
   ],
   "source": [
    "enc12[\"encuestador\"].unique()"
   ]
  },
  {
   "cell_type": "code",
   "execution_count": null,
   "metadata": {},
   "outputs": [],
   "source": [
    "#seleccionamos solo las encuestas hechas desde agosto\n",
    "#que es cuando entraron Malú e Ivonne\n",
    "enc12Agosto=pd.read_sql(\"select cuenta,encuestador,nbr2,nbr3,ngr49 from respuesta1 where fec_capt > '2022-08-01'\",conexion.cnx)"
   ]
  },
  {
   "cell_type": "code",
   "execution_count": 34,
   "metadata": {},
   "outputs": [
    {
     "data": {
      "text/plain": [
       "39"
      ]
     },
     "execution_count": 34,
     "metadata": {},
     "output_type": "execute_result"
    }
   ],
   "source": [
    "#Encuestas realizadas con la clave de Caro que en realidad hizó Malú\n",
    "enc12Agosto.loc[enc12Agosto[\"encuestador\"]==13,\"cuenta\"].size"
   ]
  },
  {
   "cell_type": "code",
   "execution_count": 35,
   "metadata": {},
   "outputs": [
    {
     "data": {
      "text/plain": [
       "6"
      ]
     },
     "execution_count": 35,
     "metadata": {},
     "output_type": "execute_result"
    }
   ],
   "source": [
    "#Encuestas realizadas con la clave de Elvira que en realidad hizó Ivonne\n",
    "enc12Agosto.loc[enc12Agosto[\"encuestador\"]==19,\"cuenta\"].size"
   ]
  },
  {
   "cell_type": "code",
   "execution_count": 62,
   "metadata": {},
   "outputs": [
    {
     "name": "stderr",
     "output_type": "stream",
     "text": [
      "c:\\Users\\fgonzalez\\AppData\\Local\\Programs\\Python\\Python310\\lib\\site-packages\\pandas\\io\\sql.py:762: UserWarning: pandas only support SQLAlchemy connectable(engine/connection) ordatabase string URI or sqlite3 DBAPI2 connectionother DBAPI2 objects are not tested, please consider using SQLAlchemy\n",
      "  warnings.warn(\n"
     ]
    },
    {
     "name": "stdout",
     "output_type": "stream",
     "text": [
      " EncuestasDB del PVE Comit 1.2.7\n"
     ]
    }
   ],
   "source": [
    "#Actualizar los cambios en el modulo ENCUESTASSQL\n",
    "importlib.reload(enc)\n",
    "conexion=enc.EncuestasDB(dgae)"
   ]
  },
  {
   "cell_type": "code",
   "execution_count": 63,
   "metadata": {},
   "outputs": [
    {
     "name": "stderr",
     "output_type": "stream",
     "text": [
      "c:\\Users\\fgonzalez\\AppData\\Local\\Programs\\Python\\Python310\\lib\\site-packages\\pandas\\io\\sql.py:762: UserWarning: pandas only support SQLAlchemy connectable(engine/connection) ordatabase string URI or sqlite3 DBAPI2 connectionother DBAPI2 objects are not tested, please consider using SQLAlchemy\n",
      "  warnings.warn(\n"
     ]
    },
    {
     "data": {
      "text/html": [
       "<div>\n",
       "<style scoped>\n",
       "    .dataframe tbody tr th:only-of-type {\n",
       "        vertical-align: middle;\n",
       "    }\n",
       "\n",
       "    .dataframe tbody tr th {\n",
       "        vertical-align: top;\n",
       "    }\n",
       "\n",
       "    .dataframe thead th {\n",
       "        text-align: right;\n",
       "    }\n",
       "</style>\n",
       "<table border=\"1\" class=\"dataframe\">\n",
       "  <thead>\n",
       "    <tr style=\"text-align: right;\">\n",
       "      <th></th>\n",
       "      <th>Encuestador</th>\n",
       "      <th>Realizadas</th>\n",
       "    </tr>\n",
       "  </thead>\n",
       "  <tbody>\n",
       "    <tr>\n",
       "      <th>0</th>\n",
       "      <td>Erendira</td>\n",
       "      <td>789</td>\n",
       "    </tr>\n",
       "    <tr>\n",
       "      <th>1</th>\n",
       "      <td>Mónica</td>\n",
       "      <td>624</td>\n",
       "    </tr>\n",
       "    <tr>\n",
       "      <th>2</th>\n",
       "      <td>César</td>\n",
       "      <td>523</td>\n",
       "    </tr>\n",
       "    <tr>\n",
       "      <th>3</th>\n",
       "      <td>María</td>\n",
       "      <td>41</td>\n",
       "    </tr>\n",
       "    <tr>\n",
       "      <th>4</th>\n",
       "      <td>Ivonne</td>\n",
       "      <td>19</td>\n",
       "    </tr>\n",
       "  </tbody>\n",
       "</table>\n",
       "</div>"
      ],
      "text/plain": [
       "  Encuestador  Realizadas\n",
       "0    Erendira         789\n",
       "1      Mónica         624\n",
       "2       César         523\n",
       "3       María          41\n",
       "4      Ivonne          19"
      ]
     },
     "execution_count": 63,
     "metadata": {},
     "output_type": "execute_result"
    }
   ],
   "source": [
    "conexion.cuentaPorEncuestador2012()"
   ]
  },
  {
   "cell_type": "code",
   "execution_count": 61,
   "metadata": {},
   "outputs": [
    {
     "name": "stdout",
     "output_type": "stream",
     "text": [
      "17\n",
      "12\n",
      "19\n",
      "21\n",
      "15\n",
      "13\n",
      "20\n"
     ]
    }
   ],
   "source": [
    "from cmath import isnan\n",
    "\n",
    "\n",
    "for i in enc12[\"encuestador\"].unique():\n",
    "    if  not(isnan(i)):\n",
    "        print(str(int(i)))"
   ]
  },
  {
   "cell_type": "code",
   "execution_count": 4,
   "metadata": {},
   "outputs": [
    {
     "name": "stderr",
     "output_type": "stream",
     "text": [
      "c:\\Users\\fgonzalez\\AppData\\Local\\Programs\\Python\\Python310\\lib\\site-packages\\pandas\\io\\sql.py:762: UserWarning: pandas only support SQLAlchemy connectable(engine/connection) ordatabase string URI or sqlite3 DBAPI2 connectionother DBAPI2 objects are not tested, please consider using SQLAlchemy\n",
      "  warnings.warn(\n",
      "c:\\Apache24\\var\\www\\mytestsite\\polls\\modules\\EncuestasSQL.py:174: FutureWarning: The frame.append method is deprecated and will be removed from pandas in a future version. Use pandas.concat instead.\n",
      "  conteo=conteo.append({\"Mes\": Meses[i[0][5:7]]+\" \"+i[0][0:4],\n",
      "c:\\Apache24\\var\\www\\mytestsite\\polls\\modules\\EncuestasSQL.py:174: FutureWarning: The frame.append method is deprecated and will be removed from pandas in a future version. Use pandas.concat instead.\n",
      "  conteo=conteo.append({\"Mes\": Meses[i[0][5:7]]+\" \"+i[0][0:4],\n",
      "c:\\Apache24\\var\\www\\mytestsite\\polls\\modules\\EncuestasSQL.py:174: FutureWarning: The frame.append method is deprecated and will be removed from pandas in a future version. Use pandas.concat instead.\n",
      "  conteo=conteo.append({\"Mes\": Meses[i[0][5:7]]+\" \"+i[0][0:4],\n",
      "c:\\Apache24\\var\\www\\mytestsite\\polls\\modules\\EncuestasSQL.py:174: FutureWarning: The frame.append method is deprecated and will be removed from pandas in a future version. Use pandas.concat instead.\n",
      "  conteo=conteo.append({\"Mes\": Meses[i[0][5:7]]+\" \"+i[0][0:4],\n",
      "c:\\Apache24\\var\\www\\mytestsite\\polls\\modules\\EncuestasSQL.py:174: FutureWarning: The frame.append method is deprecated and will be removed from pandas in a future version. Use pandas.concat instead.\n",
      "  conteo=conteo.append({\"Mes\": Meses[i[0][5:7]]+\" \"+i[0][0:4],\n",
      "c:\\Apache24\\var\\www\\mytestsite\\polls\\modules\\EncuestasSQL.py:174: FutureWarning: The frame.append method is deprecated and will be removed from pandas in a future version. Use pandas.concat instead.\n",
      "  conteo=conteo.append({\"Mes\": Meses[i[0][5:7]]+\" \"+i[0][0:4],\n",
      "c:\\Apache24\\var\\www\\mytestsite\\polls\\modules\\EncuestasSQL.py:174: FutureWarning: The frame.append method is deprecated and will be removed from pandas in a future version. Use pandas.concat instead.\n",
      "  conteo=conteo.append({\"Mes\": Meses[i[0][5:7]]+\" \"+i[0][0:4],\n",
      "c:\\Apache24\\var\\www\\mytestsite\\polls\\modules\\EncuestasSQL.py:174: FutureWarning: The frame.append method is deprecated and will be removed from pandas in a future version. Use pandas.concat instead.\n",
      "  conteo=conteo.append({\"Mes\": Meses[i[0][5:7]]+\" \"+i[0][0:4],\n",
      "c:\\Apache24\\var\\www\\mytestsite\\polls\\modules\\EncuestasSQL.py:174: FutureWarning: The frame.append method is deprecated and will be removed from pandas in a future version. Use pandas.concat instead.\n",
      "  conteo=conteo.append({\"Mes\": Meses[i[0][5:7]]+\" \"+i[0][0:4],\n",
      "c:\\Apache24\\var\\www\\mytestsite\\polls\\modules\\EncuestasSQL.py:174: FutureWarning: The frame.append method is deprecated and will be removed from pandas in a future version. Use pandas.concat instead.\n",
      "  conteo=conteo.append({\"Mes\": Meses[i[0][5:7]]+\" \"+i[0][0:4],\n",
      "c:\\Apache24\\var\\www\\mytestsite\\polls\\modules\\EncuestasSQL.py:174: FutureWarning: The frame.append method is deprecated and will be removed from pandas in a future version. Use pandas.concat instead.\n",
      "  conteo=conteo.append({\"Mes\": Meses[i[0][5:7]]+\" \"+i[0][0:4],\n",
      "c:\\Apache24\\var\\www\\mytestsite\\polls\\modules\\EncuestasSQL.py:174: FutureWarning: The frame.append method is deprecated and will be removed from pandas in a future version. Use pandas.concat instead.\n",
      "  conteo=conteo.append({\"Mes\": Meses[i[0][5:7]]+\" \"+i[0][0:4],\n",
      "c:\\Apache24\\var\\www\\mytestsite\\polls\\modules\\EncuestasSQL.py:174: FutureWarning: The frame.append method is deprecated and will be removed from pandas in a future version. Use pandas.concat instead.\n",
      "  conteo=conteo.append({\"Mes\": Meses[i[0][5:7]]+\" \"+i[0][0:4],\n",
      "c:\\Apache24\\var\\www\\mytestsite\\polls\\modules\\EncuestasSQL.py:174: FutureWarning: The frame.append method is deprecated and will be removed from pandas in a future version. Use pandas.concat instead.\n",
      "  conteo=conteo.append({\"Mes\": Meses[i[0][5:7]]+\" \"+i[0][0:4],\n"
     ]
    },
    {
     "data": {
      "text/html": [
       "<div>\n",
       "<style scoped>\n",
       "    .dataframe tbody tr th:only-of-type {\n",
       "        vertical-align: middle;\n",
       "    }\n",
       "\n",
       "    .dataframe tbody tr th {\n",
       "        vertical-align: top;\n",
       "    }\n",
       "\n",
       "    .dataframe thead th {\n",
       "        text-align: right;\n",
       "    }\n",
       "</style>\n",
       "<table border=\"1\" class=\"dataframe\">\n",
       "  <thead>\n",
       "    <tr style=\"text-align: right;\">\n",
       "      <th></th>\n",
       "      <th>Mes</th>\n",
       "      <th>realizadas</th>\n",
       "    </tr>\n",
       "  </thead>\n",
       "  <tbody>\n",
       "    <tr>\n",
       "      <th>0</th>\n",
       "      <td>Agosto 2021</td>\n",
       "      <td>281</td>\n",
       "    </tr>\n",
       "    <tr>\n",
       "      <th>1</th>\n",
       "      <td>Septiembre 2021</td>\n",
       "      <td>755</td>\n",
       "    </tr>\n",
       "    <tr>\n",
       "      <th>2</th>\n",
       "      <td>Octubre 2021</td>\n",
       "      <td>650</td>\n",
       "    </tr>\n",
       "    <tr>\n",
       "      <th>3</th>\n",
       "      <td>Noviembre 2021</td>\n",
       "      <td>397</td>\n",
       "    </tr>\n",
       "    <tr>\n",
       "      <th>4</th>\n",
       "      <td>Diciembre 2021</td>\n",
       "      <td>226</td>\n",
       "    </tr>\n",
       "    <tr>\n",
       "      <th>5</th>\n",
       "      <td>Enero 2022</td>\n",
       "      <td>116</td>\n",
       "    </tr>\n",
       "    <tr>\n",
       "      <th>6</th>\n",
       "      <td>Febrero 2022</td>\n",
       "      <td>160</td>\n",
       "    </tr>\n",
       "    <tr>\n",
       "      <th>7</th>\n",
       "      <td>Marzo 2022</td>\n",
       "      <td>57</td>\n",
       "    </tr>\n",
       "    <tr>\n",
       "      <th>8</th>\n",
       "      <td>Abril 2022</td>\n",
       "      <td>209</td>\n",
       "    </tr>\n",
       "    <tr>\n",
       "      <th>9</th>\n",
       "      <td>Mayo 2022</td>\n",
       "      <td>481</td>\n",
       "    </tr>\n",
       "    <tr>\n",
       "      <th>10</th>\n",
       "      <td>Junio 2022</td>\n",
       "      <td>74</td>\n",
       "    </tr>\n",
       "    <tr>\n",
       "      <th>11</th>\n",
       "      <td>Julio 2022</td>\n",
       "      <td>37</td>\n",
       "    </tr>\n",
       "    <tr>\n",
       "      <th>12</th>\n",
       "      <td>Agosto 2022</td>\n",
       "      <td>44</td>\n",
       "    </tr>\n",
       "    <tr>\n",
       "      <th>13</th>\n",
       "      <td>Septiembre 2022</td>\n",
       "      <td>174</td>\n",
       "    </tr>\n",
       "  </tbody>\n",
       "</table>\n",
       "</div>"
      ],
      "text/plain": [
       "                Mes realizadas\n",
       "0       Agosto 2021        281\n",
       "1   Septiembre 2021        755\n",
       "2      Octubre 2021        650\n",
       "3    Noviembre 2021        397\n",
       "4    Diciembre 2021        226\n",
       "5        Enero 2022        116\n",
       "6      Febrero 2022        160\n",
       "7        Marzo 2022         57\n",
       "8        Abril 2022        209\n",
       "9         Mayo 2022        481\n",
       "10       Junio 2022         74\n",
       "11       Julio 2022         37\n",
       "12      Agosto 2022         44\n",
       "13  Septiembre 2022        174"
      ]
     },
     "execution_count": 4,
     "metadata": {},
     "output_type": "execute_result"
    }
   ],
   "source": [
    "conexion.cuentaPorMes2012()"
   ]
  },
  {
   "cell_type": "code",
   "execution_count": null,
   "metadata": {},
   "outputs": [],
   "source": [
    "for i in enc"
   ]
  }
 ],
 "metadata": {
  "kernelspec": {
   "display_name": "Python 3.10.7 64-bit",
   "language": "python",
   "name": "python3"
  },
  "language_info": {
   "codemirror_mode": {
    "name": "ipython",
    "version": 3
   },
   "file_extension": ".py",
   "mimetype": "text/x-python",
   "name": "python",
   "nbconvert_exporter": "python",
   "pygments_lexer": "ipython3",
   "version": "3.10.7"
  },
  "orig_nbformat": 4,
  "vscode": {
   "interpreter": {
    "hash": "691c30968716edfc9a50ab67417207932f1639e5a02ab9a46676693cc08be54b"
   }
  }
 },
 "nbformat": 4,
 "nbformat_minor": 2
}
