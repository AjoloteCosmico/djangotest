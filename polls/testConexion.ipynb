{
 "cells": [
  {
   "cell_type": "code",
   "execution_count": 1,
   "metadata": {},
   "outputs": [],
   "source": [
    "#TODO: Arreglar fallas de origen \"/files\"\n",
    "#me parece que falta agregar el archivo \"Nuevasmuestras.xlsx\"\n",
    "\n",
    "from modules.EncuestasSQL import EncuestasDB"
   ]
  },
  {
   "cell_type": "code",
   "execution_count": 4,
   "metadata": {},
   "outputs": [],
   "source": [
    "import pandas as pd\n",
    "import plotly.express as px\n",
    "import time "
   ]
  },
  {
   "cell_type": "code",
   "execution_count": 5,
   "metadata": {},
   "outputs": [
    {
     "name": "stdout",
     "output_type": "stream",
     "text": [
      "41.53278994560242\n"
     ]
    }
   ],
   "source": [
    "t = time.time()\n",
    "dgae=pd.read_excel(\"modules/files/dgae.xlsx\")\n",
    "print(time.time()-t)"
   ]
  },
  {
   "cell_type": "code",
   "execution_count": 6,
   "metadata": {},
   "outputs": [
    {
     "name": "stderr",
     "output_type": "stream",
     "text": [
      "C:\\Users\\hrangel\\Anaconda3\\lib\\site-packages\\pandas\\io\\sql.py:761: UserWarning: pandas only support SQLAlchemy connectable(engine/connection) ordatabase string URI or sqlite3 DBAPI2 connectionother DBAPI2 objects are not tested, please consider using SQLAlchemy\n",
      "  warnings.warn(\n"
     ]
    },
    {
     "name": "stdout",
     "output_type": "stream",
     "text": [
      " EncuestasDB del PVE Comit 1.2.6\n",
      "0.49541592597961426\n"
     ]
    },
    {
     "name": "stderr",
     "output_type": "stream",
     "text": [
      "C:\\Users\\hrangel\\Documents\\Django\\djangotest\\polls\\modules\\EncuestasSQL.py:120: FutureWarning: The frame.append method is deprecated and will be removed from pandas in a future version. Use pandas.concat instead.\n",
      "  conteo=conteo.append({\"Mes\": Meses[i[0][5:7]]+\" \"+i[0][0:4],\n",
      "C:\\Users\\hrangel\\Documents\\Django\\djangotest\\polls\\modules\\EncuestasSQL.py:120: FutureWarning: The frame.append method is deprecated and will be removed from pandas in a future version. Use pandas.concat instead.\n",
      "  conteo=conteo.append({\"Mes\": Meses[i[0][5:7]]+\" \"+i[0][0:4],\n",
      "C:\\Users\\hrangel\\Documents\\Django\\djangotest\\polls\\modules\\EncuestasSQL.py:120: FutureWarning: The frame.append method is deprecated and will be removed from pandas in a future version. Use pandas.concat instead.\n",
      "  conteo=conteo.append({\"Mes\": Meses[i[0][5:7]]+\" \"+i[0][0:4],\n",
      "C:\\Users\\hrangel\\Documents\\Django\\djangotest\\polls\\modules\\EncuestasSQL.py:120: FutureWarning: The frame.append method is deprecated and will be removed from pandas in a future version. Use pandas.concat instead.\n",
      "  conteo=conteo.append({\"Mes\": Meses[i[0][5:7]]+\" \"+i[0][0:4],\n",
      "C:\\Users\\hrangel\\Documents\\Django\\djangotest\\polls\\modules\\EncuestasSQL.py:120: FutureWarning: The frame.append method is deprecated and will be removed from pandas in a future version. Use pandas.concat instead.\n",
      "  conteo=conteo.append({\"Mes\": Meses[i[0][5:7]]+\" \"+i[0][0:4],\n",
      "C:\\Users\\hrangel\\Documents\\Django\\djangotest\\polls\\modules\\EncuestasSQL.py:120: FutureWarning: The frame.append method is deprecated and will be removed from pandas in a future version. Use pandas.concat instead.\n",
      "  conteo=conteo.append({\"Mes\": Meses[i[0][5:7]]+\" \"+i[0][0:4],\n",
      "C:\\Users\\hrangel\\Documents\\Django\\djangotest\\polls\\modules\\EncuestasSQL.py:120: FutureWarning: The frame.append method is deprecated and will be removed from pandas in a future version. Use pandas.concat instead.\n",
      "  conteo=conteo.append({\"Mes\": Meses[i[0][5:7]]+\" \"+i[0][0:4],\n",
      "C:\\Users\\hrangel\\Documents\\Django\\djangotest\\polls\\modules\\EncuestasSQL.py:120: FutureWarning: The frame.append method is deprecated and will be removed from pandas in a future version. Use pandas.concat instead.\n",
      "  conteo=conteo.append({\"Mes\": Meses[i[0][5:7]]+\" \"+i[0][0:4],\n",
      "C:\\Users\\hrangel\\Documents\\Django\\djangotest\\polls\\modules\\EncuestasSQL.py:120: FutureWarning: The frame.append method is deprecated and will be removed from pandas in a future version. Use pandas.concat instead.\n",
      "  conteo=conteo.append({\"Mes\": Meses[i[0][5:7]]+\" \"+i[0][0:4],\n",
      "C:\\Users\\hrangel\\Documents\\Django\\djangotest\\polls\\modules\\EncuestasSQL.py:120: FutureWarning: The frame.append method is deprecated and will be removed from pandas in a future version. Use pandas.concat instead.\n",
      "  conteo=conteo.append({\"Mes\": Meses[i[0][5:7]]+\" \"+i[0][0:4],\n",
      "C:\\Users\\hrangel\\Documents\\Django\\djangotest\\polls\\modules\\EncuestasSQL.py:120: FutureWarning: The frame.append method is deprecated and will be removed from pandas in a future version. Use pandas.concat instead.\n",
      "  conteo=conteo.append({\"Mes\": Meses[i[0][5:7]]+\" \"+i[0][0:4],\n",
      "C:\\Users\\hrangel\\Documents\\Django\\djangotest\\polls\\modules\\EncuestasSQL.py:120: FutureWarning: The frame.append method is deprecated and will be removed from pandas in a future version. Use pandas.concat instead.\n",
      "  conteo=conteo.append({\"Mes\": Meses[i[0][5:7]]+\" \"+i[0][0:4],\n",
      "C:\\Users\\hrangel\\Documents\\Django\\djangotest\\polls\\modules\\EncuestasSQL.py:120: FutureWarning: The frame.append method is deprecated and will be removed from pandas in a future version. Use pandas.concat instead.\n",
      "  conteo=conteo.append({\"Mes\": Meses[i[0][5:7]]+\" \"+i[0][0:4],\n",
      "C:\\Users\\hrangel\\Documents\\Django\\djangotest\\polls\\modules\\EncuestasSQL.py:120: FutureWarning: The frame.append method is deprecated and will be removed from pandas in a future version. Use pandas.concat instead.\n",
      "  conteo=conteo.append({\"Mes\": Meses[i[0][5:7]]+\" \"+i[0][0:4],\n",
      "C:\\Users\\hrangel\\Documents\\Django\\djangotest\\polls\\modules\\EncuestasSQL.py:120: FutureWarning: The frame.append method is deprecated and will be removed from pandas in a future version. Use pandas.concat instead.\n",
      "  conteo=conteo.append({\"Mes\": Meses[i[0][5:7]]+\" \"+i[0][0:4],\n",
      "C:\\Users\\hrangel\\Documents\\Django\\djangotest\\polls\\modules\\EncuestasSQL.py:120: FutureWarning: The frame.append method is deprecated and will be removed from pandas in a future version. Use pandas.concat instead.\n",
      "  conteo=conteo.append({\"Mes\": Meses[i[0][5:7]]+\" \"+i[0][0:4],\n",
      "C:\\Users\\hrangel\\Documents\\Django\\djangotest\\polls\\modules\\EncuestasSQL.py:120: FutureWarning: The frame.append method is deprecated and will be removed from pandas in a future version. Use pandas.concat instead.\n",
      "  conteo=conteo.append({\"Mes\": Meses[i[0][5:7]]+\" \"+i[0][0:4],\n",
      "C:\\Users\\hrangel\\Documents\\Django\\djangotest\\polls\\modules\\EncuestasSQL.py:120: FutureWarning: The frame.append method is deprecated and will be removed from pandas in a future version. Use pandas.concat instead.\n",
      "  conteo=conteo.append({\"Mes\": Meses[i[0][5:7]]+\" \"+i[0][0:4],\n",
      "C:\\Users\\hrangel\\Documents\\Django\\djangotest\\polls\\modules\\EncuestasSQL.py:120: FutureWarning: The frame.append method is deprecated and will be removed from pandas in a future version. Use pandas.concat instead.\n",
      "  conteo=conteo.append({\"Mes\": Meses[i[0][5:7]]+\" \"+i[0][0:4],\n",
      "C:\\Users\\hrangel\\Documents\\Django\\djangotest\\polls\\modules\\EncuestasSQL.py:120: FutureWarning: The frame.append method is deprecated and will be removed from pandas in a future version. Use pandas.concat instead.\n",
      "  conteo=conteo.append({\"Mes\": Meses[i[0][5:7]]+\" \"+i[0][0:4],\n",
      "C:\\Users\\hrangel\\Documents\\Django\\djangotest\\polls\\modules\\EncuestasSQL.py:120: FutureWarning: The frame.append method is deprecated and will be removed from pandas in a future version. Use pandas.concat instead.\n",
      "  conteo=conteo.append({\"Mes\": Meses[i[0][5:7]]+\" \"+i[0][0:4],\n",
      "C:\\Users\\hrangel\\Documents\\Django\\djangotest\\polls\\modules\\EncuestasSQL.py:120: FutureWarning: The frame.append method is deprecated and will be removed from pandas in a future version. Use pandas.concat instead.\n",
      "  conteo=conteo.append({\"Mes\": Meses[i[0][5:7]]+\" \"+i[0][0:4],\n",
      "C:\\Users\\hrangel\\Documents\\Django\\djangotest\\polls\\modules\\EncuestasSQL.py:120: FutureWarning: The frame.append method is deprecated and will be removed from pandas in a future version. Use pandas.concat instead.\n",
      "  conteo=conteo.append({\"Mes\": Meses[i[0][5:7]]+\" \"+i[0][0:4],\n",
      "C:\\Users\\hrangel\\Documents\\Django\\djangotest\\polls\\modules\\EncuestasSQL.py:120: FutureWarning: The frame.append method is deprecated and will be removed from pandas in a future version. Use pandas.concat instead.\n",
      "  conteo=conteo.append({\"Mes\": Meses[i[0][5:7]]+\" \"+i[0][0:4],\n",
      "C:\\Users\\hrangel\\Documents\\Django\\djangotest\\polls\\modules\\EncuestasSQL.py:120: FutureWarning: The frame.append method is deprecated and will be removed from pandas in a future version. Use pandas.concat instead.\n",
      "  conteo=conteo.append({\"Mes\": Meses[i[0][5:7]]+\" \"+i[0][0:4],\n",
      "C:\\Users\\hrangel\\Documents\\Django\\djangotest\\polls\\modules\\EncuestasSQL.py:120: FutureWarning: The frame.append method is deprecated and will be removed from pandas in a future version. Use pandas.concat instead.\n",
      "  conteo=conteo.append({\"Mes\": Meses[i[0][5:7]]+\" \"+i[0][0:4],\n",
      "C:\\Users\\hrangel\\Documents\\Django\\djangotest\\polls\\modules\\EncuestasSQL.py:120: FutureWarning: The frame.append method is deprecated and will be removed from pandas in a future version. Use pandas.concat instead.\n",
      "  conteo=conteo.append({\"Mes\": Meses[i[0][5:7]]+\" \"+i[0][0:4],\n",
      "C:\\Users\\hrangel\\Documents\\Django\\djangotest\\polls\\modules\\EncuestasSQL.py:120: FutureWarning: The frame.append method is deprecated and will be removed from pandas in a future version. Use pandas.concat instead.\n",
      "  conteo=conteo.append({\"Mes\": Meses[i[0][5:7]]+\" \"+i[0][0:4],\n",
      "C:\\Users\\hrangel\\Documents\\Django\\djangotest\\polls\\modules\\EncuestasSQL.py:120: FutureWarning: The frame.append method is deprecated and will be removed from pandas in a future version. Use pandas.concat instead.\n",
      "  conteo=conteo.append({\"Mes\": Meses[i[0][5:7]]+\" \"+i[0][0:4],\n",
      "C:\\Users\\hrangel\\Documents\\Django\\djangotest\\polls\\modules\\EncuestasSQL.py:120: FutureWarning: The frame.append method is deprecated and will be removed from pandas in a future version. Use pandas.concat instead.\n",
      "  conteo=conteo.append({\"Mes\": Meses[i[0][5:7]]+\" \"+i[0][0:4],\n",
      "C:\\Users\\hrangel\\Documents\\Django\\djangotest\\polls\\modules\\EncuestasSQL.py:120: FutureWarning: The frame.append method is deprecated and will be removed from pandas in a future version. Use pandas.concat instead.\n",
      "  conteo=conteo.append({\"Mes\": Meses[i[0][5:7]]+\" \"+i[0][0:4],\n",
      "C:\\Users\\hrangel\\Documents\\Django\\djangotest\\polls\\modules\\EncuestasSQL.py:120: FutureWarning: The frame.append method is deprecated and will be removed from pandas in a future version. Use pandas.concat instead.\n",
      "  conteo=conteo.append({\"Mes\": Meses[i[0][5:7]]+\" \"+i[0][0:4],\n",
      "C:\\Users\\hrangel\\Documents\\Django\\djangotest\\polls\\modules\\EncuestasSQL.py:120: FutureWarning: The frame.append method is deprecated and will be removed from pandas in a future version. Use pandas.concat instead.\n",
      "  conteo=conteo.append({\"Mes\": Meses[i[0][5:7]]+\" \"+i[0][0:4],\n"
     ]
    },
    {
     "name": "stderr",
     "output_type": "stream",
     "text": [
      "C:\\Users\\hrangel\\Documents\\Django\\djangotest\\polls\\modules\\EncuestasSQL.py:120: FutureWarning: The frame.append method is deprecated and will be removed from pandas in a future version. Use pandas.concat instead.\n",
      "  conteo=conteo.append({\"Mes\": Meses[i[0][5:7]]+\" \"+i[0][0:4],\n",
      "C:\\Users\\hrangel\\Documents\\Django\\djangotest\\polls\\modules\\EncuestasSQL.py:120: FutureWarning: The frame.append method is deprecated and will be removed from pandas in a future version. Use pandas.concat instead.\n",
      "  conteo=conteo.append({\"Mes\": Meses[i[0][5:7]]+\" \"+i[0][0:4],\n",
      "C:\\Users\\hrangel\\Documents\\Django\\djangotest\\polls\\modules\\EncuestasSQL.py:120: FutureWarning: The frame.append method is deprecated and will be removed from pandas in a future version. Use pandas.concat instead.\n",
      "  conteo=conteo.append({\"Mes\": Meses[i[0][5:7]]+\" \"+i[0][0:4],\n",
      "C:\\Users\\hrangel\\Documents\\Django\\djangotest\\polls\\modules\\EncuestasSQL.py:120: FutureWarning: The frame.append method is deprecated and will be removed from pandas in a future version. Use pandas.concat instead.\n",
      "  conteo=conteo.append({\"Mes\": Meses[i[0][5:7]]+\" \"+i[0][0:4],\n",
      "C:\\Users\\hrangel\\Documents\\Django\\djangotest\\polls\\modules\\EncuestasSQL.py:120: FutureWarning: The frame.append method is deprecated and will be removed from pandas in a future version. Use pandas.concat instead.\n",
      "  conteo=conteo.append({\"Mes\": Meses[i[0][5:7]]+\" \"+i[0][0:4],\n",
      "C:\\Users\\hrangel\\Documents\\Django\\djangotest\\polls\\modules\\EncuestasSQL.py:120: FutureWarning: The frame.append method is deprecated and will be removed from pandas in a future version. Use pandas.concat instead.\n",
      "  conteo=conteo.append({\"Mes\": Meses[i[0][5:7]]+\" \"+i[0][0:4],\n",
      "C:\\Users\\hrangel\\Documents\\Django\\djangotest\\polls\\modules\\EncuestasSQL.py:120: FutureWarning: The frame.append method is deprecated and will be removed from pandas in a future version. Use pandas.concat instead.\n",
      "  conteo=conteo.append({\"Mes\": Meses[i[0][5:7]]+\" \"+i[0][0:4],\n",
      "C:\\Users\\hrangel\\Documents\\Django\\djangotest\\polls\\modules\\EncuestasSQL.py:120: FutureWarning: The frame.append method is deprecated and will be removed from pandas in a future version. Use pandas.concat instead.\n",
      "  conteo=conteo.append({\"Mes\": Meses[i[0][5:7]]+\" \"+i[0][0:4],\n",
      "C:\\Users\\hrangel\\Documents\\Django\\djangotest\\polls\\modules\\EncuestasSQL.py:120: FutureWarning: The frame.append method is deprecated and will be removed from pandas in a future version. Use pandas.concat instead.\n",
      "  conteo=conteo.append({\"Mes\": Meses[i[0][5:7]]+\" \"+i[0][0:4],\n",
      "C:\\Users\\hrangel\\Documents\\Django\\djangotest\\polls\\modules\\EncuestasSQL.py:120: FutureWarning: The frame.append method is deprecated and will be removed from pandas in a future version. Use pandas.concat instead.\n",
      "  conteo=conteo.append({\"Mes\": Meses[i[0][5:7]]+\" \"+i[0][0:4],\n",
      "C:\\Users\\hrangel\\Documents\\Django\\djangotest\\polls\\modules\\EncuestasSQL.py:120: FutureWarning: The frame.append method is deprecated and will be removed from pandas in a future version. Use pandas.concat instead.\n",
      "  conteo=conteo.append({\"Mes\": Meses[i[0][5:7]]+\" \"+i[0][0:4],\n",
      "C:\\Users\\hrangel\\Documents\\Django\\djangotest\\polls\\modules\\EncuestasSQL.py:145: FutureWarning: The frame.append method is deprecated and will be removed from pandas in a future version. Use pandas.concat instead.\n",
      "  conteo=conteo.append({\n",
      "C:\\Users\\hrangel\\Documents\\Django\\djangotest\\polls\\modules\\EncuestasSQL.py:145: FutureWarning: The frame.append method is deprecated and will be removed from pandas in a future version. Use pandas.concat instead.\n",
      "  conteo=conteo.append({\n",
      "C:\\Users\\hrangel\\Documents\\Django\\djangotest\\polls\\modules\\EncuestasSQL.py:145: FutureWarning: The frame.append method is deprecated and will be removed from pandas in a future version. Use pandas.concat instead.\n",
      "  conteo=conteo.append({\n",
      "C:\\Users\\hrangel\\Documents\\Django\\djangotest\\polls\\modules\\EncuestasSQL.py:145: FutureWarning: The frame.append method is deprecated and will be removed from pandas in a future version. Use pandas.concat instead.\n",
      "  conteo=conteo.append({\n",
      "C:\\Users\\hrangel\\Documents\\Django\\djangotest\\polls\\modules\\EncuestasSQL.py:145: FutureWarning: The frame.append method is deprecated and will be removed from pandas in a future version. Use pandas.concat instead.\n",
      "  conteo=conteo.append({\n",
      "C:\\Users\\hrangel\\Documents\\Django\\djangotest\\polls\\modules\\EncuestasSQL.py:145: FutureWarning: The frame.append method is deprecated and will be removed from pandas in a future version. Use pandas.concat instead.\n",
      "  conteo=conteo.append({\n",
      "C:\\Users\\hrangel\\Documents\\Django\\djangotest\\polls\\modules\\EncuestasSQL.py:145: FutureWarning: The frame.append method is deprecated and will be removed from pandas in a future version. Use pandas.concat instead.\n",
      "  conteo=conteo.append({\n",
      "C:\\Users\\hrangel\\Documents\\Django\\djangotest\\polls\\modules\\EncuestasSQL.py:145: FutureWarning: The frame.append method is deprecated and will be removed from pandas in a future version. Use pandas.concat instead.\n",
      "  conteo=conteo.append({\n",
      "C:\\Users\\hrangel\\Documents\\Django\\djangotest\\polls\\modules\\EncuestasSQL.py:145: FutureWarning: The frame.append method is deprecated and will be removed from pandas in a future version. Use pandas.concat instead.\n",
      "  conteo=conteo.append({\n",
      "C:\\Users\\hrangel\\Documents\\Django\\djangotest\\polls\\modules\\EncuestasSQL.py:145: FutureWarning: The frame.append method is deprecated and will be removed from pandas in a future version. Use pandas.concat instead.\n",
      "  conteo=conteo.append({\n",
      "C:\\Users\\hrangel\\Documents\\Django\\djangotest\\polls\\modules\\EncuestasSQL.py:145: FutureWarning: The frame.append method is deprecated and will be removed from pandas in a future version. Use pandas.concat instead.\n",
      "  conteo=conteo.append({\n",
      "C:\\Users\\hrangel\\Documents\\Django\\djangotest\\polls\\modules\\EncuestasSQL.py:145: FutureWarning: The frame.append method is deprecated and will be removed from pandas in a future version. Use pandas.concat instead.\n",
      "  conteo=conteo.append({\n",
      "C:\\Users\\hrangel\\Documents\\Django\\djangotest\\polls\\modules\\EncuestasSQL.py:145: FutureWarning: The frame.append method is deprecated and will be removed from pandas in a future version. Use pandas.concat instead.\n",
      "  conteo=conteo.append({\n",
      "C:\\Users\\hrangel\\Documents\\Django\\djangotest\\polls\\modules\\EncuestasSQL.py:145: FutureWarning: The frame.append method is deprecated and will be removed from pandas in a future version. Use pandas.concat instead.\n",
      "  conteo=conteo.append({\n",
      "C:\\Users\\hrangel\\Documents\\Django\\djangotest\\polls\\modules\\EncuestasSQL.py:145: FutureWarning: The frame.append method is deprecated and will be removed from pandas in a future version. Use pandas.concat instead.\n",
      "  conteo=conteo.append({\n",
      "C:\\Users\\hrangel\\Documents\\Django\\djangotest\\polls\\modules\\EncuestasSQL.py:145: FutureWarning: The frame.append method is deprecated and will be removed from pandas in a future version. Use pandas.concat instead.\n",
      "  conteo=conteo.append({\n",
      "C:\\Users\\hrangel\\Documents\\Django\\djangotest\\polls\\modules\\EncuestasSQL.py:145: FutureWarning: The frame.append method is deprecated and will be removed from pandas in a future version. Use pandas.concat instead.\n",
      "  conteo=conteo.append({\n",
      "C:\\Users\\hrangel\\Documents\\Django\\djangotest\\polls\\modules\\EncuestasSQL.py:145: FutureWarning: The frame.append method is deprecated and will be removed from pandas in a future version. Use pandas.concat instead.\n",
      "  conteo=conteo.append({\n",
      "C:\\Users\\hrangel\\Documents\\Django\\djangotest\\polls\\modules\\EncuestasSQL.py:145: FutureWarning: The frame.append method is deprecated and will be removed from pandas in a future version. Use pandas.concat instead.\n",
      "  conteo=conteo.append({\n",
      "C:\\Users\\hrangel\\Documents\\Django\\djangotest\\polls\\modules\\EncuestasSQL.py:145: FutureWarning: The frame.append method is deprecated and will be removed from pandas in a future version. Use pandas.concat instead.\n",
      "  conteo=conteo.append({\n",
      "C:\\Users\\hrangel\\Documents\\Django\\djangotest\\polls\\modules\\EncuestasSQL.py:145: FutureWarning: The frame.append method is deprecated and will be removed from pandas in a future version. Use pandas.concat instead.\n",
      "  conteo=conteo.append({\n",
      "C:\\Users\\hrangel\\Documents\\Django\\djangotest\\polls\\modules\\EncuestasSQL.py:145: FutureWarning: The frame.append method is deprecated and will be removed from pandas in a future version. Use pandas.concat instead.\n",
      "  conteo=conteo.append({\n",
      "C:\\Users\\hrangel\\Documents\\Django\\djangotest\\polls\\modules\\EncuestasSQL.py:145: FutureWarning: The frame.append method is deprecated and will be removed from pandas in a future version. Use pandas.concat instead.\n",
      "  conteo=conteo.append({\n",
      "C:\\Users\\hrangel\\Documents\\Django\\djangotest\\polls\\modules\\EncuestasSQL.py:145: FutureWarning: The frame.append method is deprecated and will be removed from pandas in a future version. Use pandas.concat instead.\n",
      "  conteo=conteo.append({\n"
     ]
    },
    {
     "name": "stderr",
     "output_type": "stream",
     "text": [
      "C:\\Users\\hrangel\\Documents\\Django\\djangotest\\polls\\modules\\EncuestasSQL.py:145: FutureWarning: The frame.append method is deprecated and will be removed from pandas in a future version. Use pandas.concat instead.\n",
      "  conteo=conteo.append({\n",
      "C:\\Users\\hrangel\\Documents\\Django\\djangotest\\polls\\modules\\EncuestasSQL.py:145: FutureWarning: The frame.append method is deprecated and will be removed from pandas in a future version. Use pandas.concat instead.\n",
      "  conteo=conteo.append({\n",
      "C:\\Users\\hrangel\\Documents\\Django\\djangotest\\polls\\modules\\EncuestasSQL.py:145: FutureWarning: The frame.append method is deprecated and will be removed from pandas in a future version. Use pandas.concat instead.\n",
      "  conteo=conteo.append({\n",
      "C:\\Users\\hrangel\\Documents\\Django\\djangotest\\polls\\modules\\EncuestasSQL.py:145: FutureWarning: The frame.append method is deprecated and will be removed from pandas in a future version. Use pandas.concat instead.\n",
      "  conteo=conteo.append({\n",
      "C:\\Users\\hrangel\\Documents\\Django\\djangotest\\polls\\modules\\EncuestasSQL.py:145: FutureWarning: The frame.append method is deprecated and will be removed from pandas in a future version. Use pandas.concat instead.\n",
      "  conteo=conteo.append({\n",
      "C:\\Users\\hrangel\\Documents\\Django\\djangotest\\polls\\modules\\EncuestasSQL.py:145: FutureWarning: The frame.append method is deprecated and will be removed from pandas in a future version. Use pandas.concat instead.\n",
      "  conteo=conteo.append({\n",
      "C:\\Users\\hrangel\\Documents\\Django\\djangotest\\polls\\modules\\EncuestasSQL.py:145: FutureWarning: The frame.append method is deprecated and will be removed from pandas in a future version. Use pandas.concat instead.\n",
      "  conteo=conteo.append({\n",
      "C:\\Users\\hrangel\\Documents\\Django\\djangotest\\polls\\modules\\EncuestasSQL.py:145: FutureWarning: The frame.append method is deprecated and will be removed from pandas in a future version. Use pandas.concat instead.\n",
      "  conteo=conteo.append({\n",
      "C:\\Users\\hrangel\\Documents\\Django\\djangotest\\polls\\modules\\EncuestasSQL.py:145: FutureWarning: The frame.append method is deprecated and will be removed from pandas in a future version. Use pandas.concat instead.\n",
      "  conteo=conteo.append({\n",
      "C:\\Users\\hrangel\\Documents\\Django\\djangotest\\polls\\modules\\EncuestasSQL.py:145: FutureWarning: The frame.append method is deprecated and will be removed from pandas in a future version. Use pandas.concat instead.\n",
      "  conteo=conteo.append({\n",
      "C:\\Users\\hrangel\\Documents\\Django\\djangotest\\polls\\modules\\EncuestasSQL.py:145: FutureWarning: The frame.append method is deprecated and will be removed from pandas in a future version. Use pandas.concat instead.\n",
      "  conteo=conteo.append({\n",
      "C:\\Users\\hrangel\\Documents\\Django\\djangotest\\polls\\modules\\EncuestasSQL.py:145: FutureWarning: The frame.append method is deprecated and will be removed from pandas in a future version. Use pandas.concat instead.\n",
      "  conteo=conteo.append({\n",
      "C:\\Users\\hrangel\\Documents\\Django\\djangotest\\polls\\modules\\EncuestasSQL.py:145: FutureWarning: The frame.append method is deprecated and will be removed from pandas in a future version. Use pandas.concat instead.\n",
      "  conteo=conteo.append({\n",
      "C:\\Users\\hrangel\\Documents\\Django\\djangotest\\polls\\modules\\EncuestasSQL.py:145: FutureWarning: The frame.append method is deprecated and will be removed from pandas in a future version. Use pandas.concat instead.\n",
      "  conteo=conteo.append({\n",
      "C:\\Users\\hrangel\\Documents\\Django\\djangotest\\polls\\modules\\EncuestasSQL.py:145: FutureWarning: The frame.append method is deprecated and will be removed from pandas in a future version. Use pandas.concat instead.\n",
      "  conteo=conteo.append({\n",
      "C:\\Users\\hrangel\\Documents\\Django\\djangotest\\polls\\modules\\EncuestasSQL.py:145: FutureWarning: The frame.append method is deprecated and will be removed from pandas in a future version. Use pandas.concat instead.\n",
      "  conteo=conteo.append({\n",
      "C:\\Users\\hrangel\\Documents\\Django\\djangotest\\polls\\modules\\EncuestasSQL.py:145: FutureWarning: The frame.append method is deprecated and will be removed from pandas in a future version. Use pandas.concat instead.\n",
      "  conteo=conteo.append({\n",
      "C:\\Users\\hrangel\\Documents\\Django\\djangotest\\polls\\modules\\EncuestasSQL.py:145: FutureWarning: The frame.append method is deprecated and will be removed from pandas in a future version. Use pandas.concat instead.\n",
      "  conteo=conteo.append({\n",
      "C:\\Users\\hrangel\\Documents\\Django\\djangotest\\polls\\modules\\EncuestasSQL.py:145: FutureWarning: The frame.append method is deprecated and will be removed from pandas in a future version. Use pandas.concat instead.\n",
      "  conteo=conteo.append({\n",
      "C:\\Users\\hrangel\\Documents\\Django\\djangotest\\polls\\modules\\EncuestasSQL.py:145: FutureWarning: The frame.append method is deprecated and will be removed from pandas in a future version. Use pandas.concat instead.\n",
      "  conteo=conteo.append({\n",
      "C:\\Users\\hrangel\\Documents\\Django\\djangotest\\polls\\modules\\EncuestasSQL.py:145: FutureWarning: The frame.append method is deprecated and will be removed from pandas in a future version. Use pandas.concat instead.\n",
      "  conteo=conteo.append({\n",
      "C:\\Users\\hrangel\\Documents\\Django\\djangotest\\polls\\modules\\EncuestasSQL.py:145: FutureWarning: The frame.append method is deprecated and will be removed from pandas in a future version. Use pandas.concat instead.\n",
      "  conteo=conteo.append({\n",
      "C:\\Users\\hrangel\\Documents\\Django\\djangotest\\polls\\modules\\EncuestasSQL.py:145: FutureWarning: The frame.append method is deprecated and will be removed from pandas in a future version. Use pandas.concat instead.\n",
      "  conteo=conteo.append({\n",
      "C:\\Users\\hrangel\\Documents\\Django\\djangotest\\polls\\modules\\EncuestasSQL.py:145: FutureWarning: The frame.append method is deprecated and will be removed from pandas in a future version. Use pandas.concat instead.\n",
      "  conteo=conteo.append({\n",
      "C:\\Users\\hrangel\\Documents\\Django\\djangotest\\polls\\modules\\EncuestasSQL.py:145: FutureWarning: The frame.append method is deprecated and will be removed from pandas in a future version. Use pandas.concat instead.\n",
      "  conteo=conteo.append({\n",
      "C:\\Users\\hrangel\\Documents\\Django\\djangotest\\polls\\modules\\EncuestasSQL.py:145: FutureWarning: The frame.append method is deprecated and will be removed from pandas in a future version. Use pandas.concat instead.\n",
      "  conteo=conteo.append({\n",
      "C:\\Users\\hrangel\\Documents\\Django\\djangotest\\polls\\modules\\EncuestasSQL.py:145: FutureWarning: The frame.append method is deprecated and will be removed from pandas in a future version. Use pandas.concat instead.\n",
      "  conteo=conteo.append({\n",
      "C:\\Users\\hrangel\\Documents\\Django\\djangotest\\polls\\modules\\EncuestasSQL.py:145: FutureWarning: The frame.append method is deprecated and will be removed from pandas in a future version. Use pandas.concat instead.\n",
      "  conteo=conteo.append({\n",
      "C:\\Users\\hrangel\\Documents\\Django\\djangotest\\polls\\modules\\EncuestasSQL.py:145: FutureWarning: The frame.append method is deprecated and will be removed from pandas in a future version. Use pandas.concat instead.\n",
      "  conteo=conteo.append({\n",
      "C:\\Users\\hrangel\\Documents\\Django\\djangotest\\polls\\modules\\EncuestasSQL.py:145: FutureWarning: The frame.append method is deprecated and will be removed from pandas in a future version. Use pandas.concat instead.\n",
      "  conteo=conteo.append({\n",
      "C:\\Users\\hrangel\\Documents\\Django\\djangotest\\polls\\modules\\EncuestasSQL.py:145: FutureWarning: The frame.append method is deprecated and will be removed from pandas in a future version. Use pandas.concat instead.\n",
      "  conteo=conteo.append({\n",
      "C:\\Users\\hrangel\\Documents\\Django\\djangotest\\polls\\modules\\EncuestasSQL.py:145: FutureWarning: The frame.append method is deprecated and will be removed from pandas in a future version. Use pandas.concat instead.\n",
      "  conteo=conteo.append({\n",
      "C:\\Users\\hrangel\\Documents\\Django\\djangotest\\polls\\modules\\EncuestasSQL.py:145: FutureWarning: The frame.append method is deprecated and will be removed from pandas in a future version. Use pandas.concat instead.\n",
      "  conteo=conteo.append({\n",
      "C:\\Users\\hrangel\\Documents\\Django\\djangotest\\polls\\modules\\EncuestasSQL.py:145: FutureWarning: The frame.append method is deprecated and will be removed from pandas in a future version. Use pandas.concat instead.\n",
      "  conteo=conteo.append({\n",
      "C:\\Users\\hrangel\\Documents\\Django\\djangotest\\polls\\modules\\EncuestasSQL.py:145: FutureWarning: The frame.append method is deprecated and will be removed from pandas in a future version. Use pandas.concat instead.\n",
      "  conteo=conteo.append({\n",
      "C:\\Users\\hrangel\\Documents\\Django\\djangotest\\polls\\modules\\EncuestasSQL.py:145: FutureWarning: The frame.append method is deprecated and will be removed from pandas in a future version. Use pandas.concat instead.\n",
      "  conteo=conteo.append({\n",
      "C:\\Users\\hrangel\\Documents\\Django\\djangotest\\polls\\modules\\EncuestasSQL.py:145: FutureWarning: The frame.append method is deprecated and will be removed from pandas in a future version. Use pandas.concat instead.\n",
      "  conteo=conteo.append({\n",
      "C:\\Users\\hrangel\\Documents\\Django\\djangotest\\polls\\modules\\EncuestasSQL.py:145: FutureWarning: The frame.append method is deprecated and will be removed from pandas in a future version. Use pandas.concat instead.\n",
      "  conteo=conteo.append({\n",
      "C:\\Users\\hrangel\\Documents\\Django\\djangotest\\polls\\modules\\EncuestasSQL.py:145: FutureWarning: The frame.append method is deprecated and will be removed from pandas in a future version. Use pandas.concat instead.\n",
      "  conteo=conteo.append({\n",
      "C:\\Users\\hrangel\\Documents\\Django\\djangotest\\polls\\modules\\EncuestasSQL.py:145: FutureWarning: The frame.append method is deprecated and will be removed from pandas in a future version. Use pandas.concat instead.\n",
      "  conteo=conteo.append({\n",
      "C:\\Users\\hrangel\\Documents\\Django\\djangotest\\polls\\modules\\EncuestasSQL.py:145: FutureWarning: The frame.append method is deprecated and will be removed from pandas in a future version. Use pandas.concat instead.\n",
      "  conteo=conteo.append({\n",
      "C:\\Users\\hrangel\\Documents\\Django\\djangotest\\polls\\modules\\EncuestasSQL.py:145: FutureWarning: The frame.append method is deprecated and will be removed from pandas in a future version. Use pandas.concat instead.\n",
      "  conteo=conteo.append({\n",
      "C:\\Users\\hrangel\\Documents\\Django\\djangotest\\polls\\modules\\EncuestasSQL.py:145: FutureWarning: The frame.append method is deprecated and will be removed from pandas in a future version. Use pandas.concat instead.\n",
      "  conteo=conteo.append({\n",
      "C:\\Users\\hrangel\\Documents\\Django\\djangotest\\polls\\modules\\EncuestasSQL.py:145: FutureWarning: The frame.append method is deprecated and will be removed from pandas in a future version. Use pandas.concat instead.\n",
      "  conteo=conteo.append({\n",
      "C:\\Users\\hrangel\\Documents\\Django\\djangotest\\polls\\modules\\EncuestasSQL.py:145: FutureWarning: The frame.append method is deprecated and will be removed from pandas in a future version. Use pandas.concat instead.\n",
      "  conteo=conteo.append({\n",
      "C:\\Users\\hrangel\\Documents\\Django\\djangotest\\polls\\modules\\EncuestasSQL.py:145: FutureWarning: The frame.append method is deprecated and will be removed from pandas in a future version. Use pandas.concat instead.\n",
      "  conteo=conteo.append({\n",
      "C:\\Users\\hrangel\\Documents\\Django\\djangotest\\polls\\modules\\EncuestasSQL.py:145: FutureWarning: The frame.append method is deprecated and will be removed from pandas in a future version. Use pandas.concat instead.\n",
      "  conteo=conteo.append({\n",
      "C:\\Users\\hrangel\\Documents\\Django\\djangotest\\polls\\modules\\EncuestasSQL.py:145: FutureWarning: The frame.append method is deprecated and will be removed from pandas in a future version. Use pandas.concat instead.\n",
      "  conteo=conteo.append({\n",
      "C:\\Users\\hrangel\\Documents\\Django\\djangotest\\polls\\modules\\EncuestasSQL.py:145: FutureWarning: The frame.append method is deprecated and will be removed from pandas in a future version. Use pandas.concat instead.\n",
      "  conteo=conteo.append({\n",
      "C:\\Users\\hrangel\\Documents\\Django\\djangotest\\polls\\modules\\EncuestasSQL.py:145: FutureWarning: The frame.append method is deprecated and will be removed from pandas in a future version. Use pandas.concat instead.\n",
      "  conteo=conteo.append({\n",
      "C:\\Users\\hrangel\\Documents\\Django\\djangotest\\polls\\modules\\EncuestasSQL.py:145: FutureWarning: The frame.append method is deprecated and will be removed from pandas in a future version. Use pandas.concat instead.\n",
      "  conteo=conteo.append({\n",
      "C:\\Users\\hrangel\\Documents\\Django\\djangotest\\polls\\modules\\EncuestasSQL.py:145: FutureWarning: The frame.append method is deprecated and will be removed from pandas in a future version. Use pandas.concat instead.\n",
      "  conteo=conteo.append({\n"
     ]
    },
    {
     "name": "stderr",
     "output_type": "stream",
     "text": [
      "C:\\Users\\hrangel\\Documents\\Django\\djangotest\\polls\\modules\\EncuestasSQL.py:145: FutureWarning: The frame.append method is deprecated and will be removed from pandas in a future version. Use pandas.concat instead.\n",
      "  conteo=conteo.append({\n",
      "C:\\Users\\hrangel\\Documents\\Django\\djangotest\\polls\\modules\\EncuestasSQL.py:145: FutureWarning: The frame.append method is deprecated and will be removed from pandas in a future version. Use pandas.concat instead.\n",
      "  conteo=conteo.append({\n",
      "C:\\Users\\hrangel\\Documents\\Django\\djangotest\\polls\\modules\\EncuestasSQL.py:145: FutureWarning: The frame.append method is deprecated and will be removed from pandas in a future version. Use pandas.concat instead.\n",
      "  conteo=conteo.append({\n",
      "C:\\Users\\hrangel\\Documents\\Django\\djangotest\\polls\\modules\\EncuestasSQL.py:145: FutureWarning: The frame.append method is deprecated and will be removed from pandas in a future version. Use pandas.concat instead.\n",
      "  conteo=conteo.append({\n",
      "C:\\Users\\hrangel\\Documents\\Django\\djangotest\\polls\\modules\\EncuestasSQL.py:145: FutureWarning: The frame.append method is deprecated and will be removed from pandas in a future version. Use pandas.concat instead.\n",
      "  conteo=conteo.append({\n",
      "C:\\Users\\hrangel\\Documents\\Django\\djangotest\\polls\\modules\\EncuestasSQL.py:145: FutureWarning: The frame.append method is deprecated and will be removed from pandas in a future version. Use pandas.concat instead.\n",
      "  conteo=conteo.append({\n",
      "C:\\Users\\hrangel\\Documents\\Django\\djangotest\\polls\\modules\\EncuestasSQL.py:145: FutureWarning: The frame.append method is deprecated and will be removed from pandas in a future version. Use pandas.concat instead.\n",
      "  conteo=conteo.append({\n",
      "C:\\Users\\hrangel\\Documents\\Django\\djangotest\\polls\\modules\\EncuestasSQL.py:145: FutureWarning: The frame.append method is deprecated and will be removed from pandas in a future version. Use pandas.concat instead.\n",
      "  conteo=conteo.append({\n",
      "C:\\Users\\hrangel\\Documents\\Django\\djangotest\\polls\\modules\\EncuestasSQL.py:145: FutureWarning: The frame.append method is deprecated and will be removed from pandas in a future version. Use pandas.concat instead.\n",
      "  conteo=conteo.append({\n",
      "C:\\Users\\hrangel\\Documents\\Django\\djangotest\\polls\\modules\\EncuestasSQL.py:145: FutureWarning: The frame.append method is deprecated and will be removed from pandas in a future version. Use pandas.concat instead.\n",
      "  conteo=conteo.append({\n",
      "C:\\Users\\hrangel\\Documents\\Django\\djangotest\\polls\\modules\\EncuestasSQL.py:145: FutureWarning: The frame.append method is deprecated and will be removed from pandas in a future version. Use pandas.concat instead.\n",
      "  conteo=conteo.append({\n",
      "C:\\Users\\hrangel\\Documents\\Django\\djangotest\\polls\\modules\\EncuestasSQL.py:145: FutureWarning: The frame.append method is deprecated and will be removed from pandas in a future version. Use pandas.concat instead.\n",
      "  conteo=conteo.append({\n",
      "C:\\Users\\hrangel\\Documents\\Django\\djangotest\\polls\\modules\\EncuestasSQL.py:145: FutureWarning: The frame.append method is deprecated and will be removed from pandas in a future version. Use pandas.concat instead.\n",
      "  conteo=conteo.append({\n",
      "C:\\Users\\hrangel\\Documents\\Django\\djangotest\\polls\\modules\\EncuestasSQL.py:145: FutureWarning: The frame.append method is deprecated and will be removed from pandas in a future version. Use pandas.concat instead.\n",
      "  conteo=conteo.append({\n",
      "C:\\Users\\hrangel\\Documents\\Django\\djangotest\\polls\\modules\\EncuestasSQL.py:145: FutureWarning: The frame.append method is deprecated and will be removed from pandas in a future version. Use pandas.concat instead.\n",
      "  conteo=conteo.append({\n",
      "C:\\Users\\hrangel\\Documents\\Django\\djangotest\\polls\\modules\\EncuestasSQL.py:145: FutureWarning: The frame.append method is deprecated and will be removed from pandas in a future version. Use pandas.concat instead.\n",
      "  conteo=conteo.append({\n",
      "C:\\Users\\hrangel\\Documents\\Django\\djangotest\\polls\\modules\\EncuestasSQL.py:145: FutureWarning: The frame.append method is deprecated and will be removed from pandas in a future version. Use pandas.concat instead.\n",
      "  conteo=conteo.append({\n",
      "C:\\Users\\hrangel\\Documents\\Django\\djangotest\\polls\\modules\\EncuestasSQL.py:145: FutureWarning: The frame.append method is deprecated and will be removed from pandas in a future version. Use pandas.concat instead.\n",
      "  conteo=conteo.append({\n",
      "C:\\Users\\hrangel\\Documents\\Django\\djangotest\\polls\\modules\\EncuestasSQL.py:145: FutureWarning: The frame.append method is deprecated and will be removed from pandas in a future version. Use pandas.concat instead.\n",
      "  conteo=conteo.append({\n",
      "C:\\Users\\hrangel\\Documents\\Django\\djangotest\\polls\\modules\\EncuestasSQL.py:145: FutureWarning: The frame.append method is deprecated and will be removed from pandas in a future version. Use pandas.concat instead.\n",
      "  conteo=conteo.append({\n",
      "C:\\Users\\hrangel\\Documents\\Django\\djangotest\\polls\\modules\\EncuestasSQL.py:145: FutureWarning: The frame.append method is deprecated and will be removed from pandas in a future version. Use pandas.concat instead.\n",
      "  conteo=conteo.append({\n",
      "C:\\Users\\hrangel\\Documents\\Django\\djangotest\\polls\\modules\\EncuestasSQL.py:145: FutureWarning: The frame.append method is deprecated and will be removed from pandas in a future version. Use pandas.concat instead.\n",
      "  conteo=conteo.append({\n",
      "C:\\Users\\hrangel\\Documents\\Django\\djangotest\\polls\\modules\\EncuestasSQL.py:145: FutureWarning: The frame.append method is deprecated and will be removed from pandas in a future version. Use pandas.concat instead.\n",
      "  conteo=conteo.append({\n",
      "C:\\Users\\hrangel\\Documents\\Django\\djangotest\\polls\\modules\\EncuestasSQL.py:145: FutureWarning: The frame.append method is deprecated and will be removed from pandas in a future version. Use pandas.concat instead.\n",
      "  conteo=conteo.append({\n",
      "C:\\Users\\hrangel\\Documents\\Django\\djangotest\\polls\\modules\\EncuestasSQL.py:145: FutureWarning: The frame.append method is deprecated and will be removed from pandas in a future version. Use pandas.concat instead.\n",
      "  conteo=conteo.append({\n",
      "C:\\Users\\hrangel\\Documents\\Django\\djangotest\\polls\\modules\\EncuestasSQL.py:145: FutureWarning: The frame.append method is deprecated and will be removed from pandas in a future version. Use pandas.concat instead.\n",
      "  conteo=conteo.append({\n",
      "C:\\Users\\hrangel\\Documents\\Django\\djangotest\\polls\\modules\\EncuestasSQL.py:145: FutureWarning: The frame.append method is deprecated and will be removed from pandas in a future version. Use pandas.concat instead.\n",
      "  conteo=conteo.append({\n",
      "C:\\Users\\hrangel\\Documents\\Django\\djangotest\\polls\\modules\\EncuestasSQL.py:145: FutureWarning: The frame.append method is deprecated and will be removed from pandas in a future version. Use pandas.concat instead.\n",
      "  conteo=conteo.append({\n",
      "C:\\Users\\hrangel\\Documents\\Django\\djangotest\\polls\\modules\\EncuestasSQL.py:145: FutureWarning: The frame.append method is deprecated and will be removed from pandas in a future version. Use pandas.concat instead.\n",
      "  conteo=conteo.append({\n",
      "C:\\Users\\hrangel\\Documents\\Django\\djangotest\\polls\\modules\\EncuestasSQL.py:145: FutureWarning: The frame.append method is deprecated and will be removed from pandas in a future version. Use pandas.concat instead.\n",
      "  conteo=conteo.append({\n",
      "C:\\Users\\hrangel\\Documents\\Django\\djangotest\\polls\\modules\\EncuestasSQL.py:145: FutureWarning: The frame.append method is deprecated and will be removed from pandas in a future version. Use pandas.concat instead.\n",
      "  conteo=conteo.append({\n",
      "C:\\Users\\hrangel\\Documents\\Django\\djangotest\\polls\\modules\\EncuestasSQL.py:145: FutureWarning: The frame.append method is deprecated and will be removed from pandas in a future version. Use pandas.concat instead.\n",
      "  conteo=conteo.append({\n",
      "C:\\Users\\hrangel\\Documents\\Django\\djangotest\\polls\\modules\\EncuestasSQL.py:145: FutureWarning: The frame.append method is deprecated and will be removed from pandas in a future version. Use pandas.concat instead.\n",
      "  conteo=conteo.append({\n",
      "C:\\Users\\hrangel\\Documents\\Django\\djangotest\\polls\\modules\\EncuestasSQL.py:145: FutureWarning: The frame.append method is deprecated and will be removed from pandas in a future version. Use pandas.concat instead.\n",
      "  conteo=conteo.append({\n",
      "C:\\Users\\hrangel\\Documents\\Django\\djangotest\\polls\\modules\\EncuestasSQL.py:145: FutureWarning: The frame.append method is deprecated and will be removed from pandas in a future version. Use pandas.concat instead.\n",
      "  conteo=conteo.append({\n"
     ]
    },
    {
     "name": "stderr",
     "output_type": "stream",
     "text": [
      "C:\\Users\\hrangel\\Documents\\Django\\djangotest\\polls\\modules\\EncuestasSQL.py:145: FutureWarning: The frame.append method is deprecated and will be removed from pandas in a future version. Use pandas.concat instead.\n",
      "  conteo=conteo.append({\n",
      "C:\\Users\\hrangel\\Documents\\Django\\djangotest\\polls\\modules\\EncuestasSQL.py:145: FutureWarning: The frame.append method is deprecated and will be removed from pandas in a future version. Use pandas.concat instead.\n",
      "  conteo=conteo.append({\n",
      "C:\\Users\\hrangel\\Documents\\Django\\djangotest\\polls\\modules\\EncuestasSQL.py:145: FutureWarning: The frame.append method is deprecated and will be removed from pandas in a future version. Use pandas.concat instead.\n",
      "  conteo=conteo.append({\n",
      "C:\\Users\\hrangel\\Documents\\Django\\djangotest\\polls\\modules\\EncuestasSQL.py:145: FutureWarning: The frame.append method is deprecated and will be removed from pandas in a future version. Use pandas.concat instead.\n",
      "  conteo=conteo.append({\n",
      "C:\\Users\\hrangel\\Documents\\Django\\djangotest\\polls\\modules\\EncuestasSQL.py:145: FutureWarning: The frame.append method is deprecated and will be removed from pandas in a future version. Use pandas.concat instead.\n",
      "  conteo=conteo.append({\n",
      "C:\\Users\\hrangel\\Documents\\Django\\djangotest\\polls\\modules\\EncuestasSQL.py:145: FutureWarning: The frame.append method is deprecated and will be removed from pandas in a future version. Use pandas.concat instead.\n",
      "  conteo=conteo.append({\n",
      "C:\\Users\\hrangel\\Documents\\Django\\djangotest\\polls\\modules\\EncuestasSQL.py:145: FutureWarning: The frame.append method is deprecated and will be removed from pandas in a future version. Use pandas.concat instead.\n",
      "  conteo=conteo.append({\n",
      "C:\\Users\\hrangel\\Documents\\Django\\djangotest\\polls\\modules\\EncuestasSQL.py:145: FutureWarning: The frame.append method is deprecated and will be removed from pandas in a future version. Use pandas.concat instead.\n",
      "  conteo=conteo.append({\n",
      "C:\\Users\\hrangel\\Documents\\Django\\djangotest\\polls\\modules\\EncuestasSQL.py:145: FutureWarning: The frame.append method is deprecated and will be removed from pandas in a future version. Use pandas.concat instead.\n",
      "  conteo=conteo.append({\n",
      "C:\\Users\\hrangel\\Documents\\Django\\djangotest\\polls\\modules\\EncuestasSQL.py:145: FutureWarning: The frame.append method is deprecated and will be removed from pandas in a future version. Use pandas.concat instead.\n",
      "  conteo=conteo.append({\n",
      "C:\\Users\\hrangel\\Documents\\Django\\djangotest\\polls\\modules\\EncuestasSQL.py:145: FutureWarning: The frame.append method is deprecated and will be removed from pandas in a future version. Use pandas.concat instead.\n",
      "  conteo=conteo.append({\n",
      "C:\\Users\\hrangel\\Documents\\Django\\djangotest\\polls\\modules\\EncuestasSQL.py:145: FutureWarning: The frame.append method is deprecated and will be removed from pandas in a future version. Use pandas.concat instead.\n",
      "  conteo=conteo.append({\n",
      "C:\\Users\\hrangel\\Documents\\Django\\djangotest\\polls\\modules\\EncuestasSQL.py:145: FutureWarning: The frame.append method is deprecated and will be removed from pandas in a future version. Use pandas.concat instead.\n",
      "  conteo=conteo.append({\n",
      "C:\\Users\\hrangel\\Documents\\Django\\djangotest\\polls\\modules\\EncuestasSQL.py:145: FutureWarning: The frame.append method is deprecated and will be removed from pandas in a future version. Use pandas.concat instead.\n",
      "  conteo=conteo.append({\n",
      "C:\\Users\\hrangel\\Documents\\Django\\djangotest\\polls\\modules\\EncuestasSQL.py:145: FutureWarning: The frame.append method is deprecated and will be removed from pandas in a future version. Use pandas.concat instead.\n",
      "  conteo=conteo.append({\n",
      "C:\\Users\\hrangel\\Documents\\Django\\djangotest\\polls\\modules\\EncuestasSQL.py:145: FutureWarning: The frame.append method is deprecated and will be removed from pandas in a future version. Use pandas.concat instead.\n",
      "  conteo=conteo.append({\n",
      "C:\\Users\\hrangel\\Documents\\Django\\djangotest\\polls\\modules\\EncuestasSQL.py:145: FutureWarning: The frame.append method is deprecated and will be removed from pandas in a future version. Use pandas.concat instead.\n",
      "  conteo=conteo.append({\n",
      "C:\\Users\\hrangel\\Documents\\Django\\djangotest\\polls\\modules\\EncuestasSQL.py:145: FutureWarning: The frame.append method is deprecated and will be removed from pandas in a future version. Use pandas.concat instead.\n",
      "  conteo=conteo.append({\n",
      "C:\\Users\\hrangel\\Documents\\Django\\djangotest\\polls\\modules\\EncuestasSQL.py:145: FutureWarning: The frame.append method is deprecated and will be removed from pandas in a future version. Use pandas.concat instead.\n",
      "  conteo=conteo.append({\n",
      "C:\\Users\\hrangel\\Documents\\Django\\djangotest\\polls\\modules\\EncuestasSQL.py:145: FutureWarning: The frame.append method is deprecated and will be removed from pandas in a future version. Use pandas.concat instead.\n",
      "  conteo=conteo.append({\n",
      "C:\\Users\\hrangel\\Documents\\Django\\djangotest\\polls\\modules\\EncuestasSQL.py:145: FutureWarning: The frame.append method is deprecated and will be removed from pandas in a future version. Use pandas.concat instead.\n",
      "  conteo=conteo.append({\n",
      "C:\\Users\\hrangel\\Documents\\Django\\djangotest\\polls\\modules\\EncuestasSQL.py:145: FutureWarning: The frame.append method is deprecated and will be removed from pandas in a future version. Use pandas.concat instead.\n",
      "  conteo=conteo.append({\n",
      "C:\\Users\\hrangel\\Documents\\Django\\djangotest\\polls\\modules\\EncuestasSQL.py:145: FutureWarning: The frame.append method is deprecated and will be removed from pandas in a future version. Use pandas.concat instead.\n",
      "  conteo=conteo.append({\n",
      "C:\\Users\\hrangel\\Documents\\Django\\djangotest\\polls\\modules\\EncuestasSQL.py:145: FutureWarning: The frame.append method is deprecated and will be removed from pandas in a future version. Use pandas.concat instead.\n",
      "  conteo=conteo.append({\n",
      "C:\\Users\\hrangel\\Documents\\Django\\djangotest\\polls\\modules\\EncuestasSQL.py:145: FutureWarning: The frame.append method is deprecated and will be removed from pandas in a future version. Use pandas.concat instead.\n",
      "  conteo=conteo.append({\n",
      "C:\\Users\\hrangel\\Documents\\Django\\djangotest\\polls\\modules\\EncuestasSQL.py:145: FutureWarning: The frame.append method is deprecated and will be removed from pandas in a future version. Use pandas.concat instead.\n",
      "  conteo=conteo.append({\n",
      "C:\\Users\\hrangel\\Documents\\Django\\djangotest\\polls\\modules\\EncuestasSQL.py:145: FutureWarning: The frame.append method is deprecated and will be removed from pandas in a future version. Use pandas.concat instead.\n",
      "  conteo=conteo.append({\n",
      "C:\\Users\\hrangel\\Documents\\Django\\djangotest\\polls\\modules\\EncuestasSQL.py:145: FutureWarning: The frame.append method is deprecated and will be removed from pandas in a future version. Use pandas.concat instead.\n",
      "  conteo=conteo.append({\n",
      "C:\\Users\\hrangel\\Documents\\Django\\djangotest\\polls\\modules\\EncuestasSQL.py:145: FutureWarning: The frame.append method is deprecated and will be removed from pandas in a future version. Use pandas.concat instead.\n",
      "  conteo=conteo.append({\n",
      "C:\\Users\\hrangel\\Documents\\Django\\djangotest\\polls\\modules\\EncuestasSQL.py:145: FutureWarning: The frame.append method is deprecated and will be removed from pandas in a future version. Use pandas.concat instead.\n",
      "  conteo=conteo.append({\n",
      "C:\\Users\\hrangel\\Documents\\Django\\djangotest\\polls\\modules\\EncuestasSQL.py:145: FutureWarning: The frame.append method is deprecated and will be removed from pandas in a future version. Use pandas.concat instead.\n",
      "  conteo=conteo.append({\n",
      "C:\\Users\\hrangel\\Documents\\Django\\djangotest\\polls\\modules\\EncuestasSQL.py:145: FutureWarning: The frame.append method is deprecated and will be removed from pandas in a future version. Use pandas.concat instead.\n",
      "  conteo=conteo.append({\n",
      "C:\\Users\\hrangel\\Documents\\Django\\djangotest\\polls\\modules\\EncuestasSQL.py:145: FutureWarning: The frame.append method is deprecated and will be removed from pandas in a future version. Use pandas.concat instead.\n",
      "  conteo=conteo.append({\n",
      "C:\\Users\\hrangel\\Documents\\Django\\djangotest\\polls\\modules\\EncuestasSQL.py:145: FutureWarning: The frame.append method is deprecated and will be removed from pandas in a future version. Use pandas.concat instead.\n",
      "  conteo=conteo.append({\n",
      "C:\\Users\\hrangel\\Documents\\Django\\djangotest\\polls\\modules\\EncuestasSQL.py:145: FutureWarning: The frame.append method is deprecated and will be removed from pandas in a future version. Use pandas.concat instead.\n",
      "  conteo=conteo.append({\n",
      "C:\\Users\\hrangel\\Documents\\Django\\djangotest\\polls\\modules\\EncuestasSQL.py:145: FutureWarning: The frame.append method is deprecated and will be removed from pandas in a future version. Use pandas.concat instead.\n",
      "  conteo=conteo.append({\n",
      "C:\\Users\\hrangel\\Documents\\Django\\djangotest\\polls\\modules\\EncuestasSQL.py:145: FutureWarning: The frame.append method is deprecated and will be removed from pandas in a future version. Use pandas.concat instead.\n",
      "  conteo=conteo.append({\n",
      "C:\\Users\\hrangel\\Documents\\Django\\djangotest\\polls\\modules\\EncuestasSQL.py:145: FutureWarning: The frame.append method is deprecated and will be removed from pandas in a future version. Use pandas.concat instead.\n",
      "  conteo=conteo.append({\n",
      "C:\\Users\\hrangel\\Documents\\Django\\djangotest\\polls\\modules\\EncuestasSQL.py:145: FutureWarning: The frame.append method is deprecated and will be removed from pandas in a future version. Use pandas.concat instead.\n",
      "  conteo=conteo.append({\n",
      "C:\\Users\\hrangel\\Documents\\Django\\djangotest\\polls\\modules\\EncuestasSQL.py:145: FutureWarning: The frame.append method is deprecated and will be removed from pandas in a future version. Use pandas.concat instead.\n",
      "  conteo=conteo.append({\n",
      "C:\\Users\\hrangel\\Documents\\Django\\djangotest\\polls\\modules\\EncuestasSQL.py:145: FutureWarning: The frame.append method is deprecated and will be removed from pandas in a future version. Use pandas.concat instead.\n",
      "  conteo=conteo.append({\n",
      "C:\\Users\\hrangel\\Documents\\Django\\djangotest\\polls\\modules\\EncuestasSQL.py:145: FutureWarning: The frame.append method is deprecated and will be removed from pandas in a future version. Use pandas.concat instead.\n",
      "  conteo=conteo.append({\n"
     ]
    },
    {
     "name": "stderr",
     "output_type": "stream",
     "text": [
      "C:\\Users\\hrangel\\Documents\\Django\\djangotest\\polls\\modules\\EncuestasSQL.py:145: FutureWarning: The frame.append method is deprecated and will be removed from pandas in a future version. Use pandas.concat instead.\n",
      "  conteo=conteo.append({\n",
      "C:\\Users\\hrangel\\Documents\\Django\\djangotest\\polls\\modules\\EncuestasSQL.py:145: FutureWarning: The frame.append method is deprecated and will be removed from pandas in a future version. Use pandas.concat instead.\n",
      "  conteo=conteo.append({\n",
      "C:\\Users\\hrangel\\Documents\\Django\\djangotest\\polls\\modules\\EncuestasSQL.py:145: FutureWarning: The frame.append method is deprecated and will be removed from pandas in a future version. Use pandas.concat instead.\n",
      "  conteo=conteo.append({\n",
      "C:\\Users\\hrangel\\Documents\\Django\\djangotest\\polls\\modules\\EncuestasSQL.py:145: FutureWarning: The frame.append method is deprecated and will be removed from pandas in a future version. Use pandas.concat instead.\n",
      "  conteo=conteo.append({\n",
      "C:\\Users\\hrangel\\Documents\\Django\\djangotest\\polls\\modules\\EncuestasSQL.py:145: FutureWarning: The frame.append method is deprecated and will be removed from pandas in a future version. Use pandas.concat instead.\n",
      "  conteo=conteo.append({\n",
      "C:\\Users\\hrangel\\Documents\\Django\\djangotest\\polls\\modules\\EncuestasSQL.py:145: FutureWarning: The frame.append method is deprecated and will be removed from pandas in a future version. Use pandas.concat instead.\n",
      "  conteo=conteo.append({\n",
      "C:\\Users\\hrangel\\Documents\\Django\\djangotest\\polls\\modules\\EncuestasSQL.py:145: FutureWarning: The frame.append method is deprecated and will be removed from pandas in a future version. Use pandas.concat instead.\n",
      "  conteo=conteo.append({\n",
      "C:\\Users\\hrangel\\Documents\\Django\\djangotest\\polls\\modules\\EncuestasSQL.py:145: FutureWarning: The frame.append method is deprecated and will be removed from pandas in a future version. Use pandas.concat instead.\n",
      "  conteo=conteo.append({\n",
      "C:\\Users\\hrangel\\Documents\\Django\\djangotest\\polls\\modules\\EncuestasSQL.py:145: FutureWarning: The frame.append method is deprecated and will be removed from pandas in a future version. Use pandas.concat instead.\n",
      "  conteo=conteo.append({\n",
      "C:\\Users\\hrangel\\Documents\\Django\\djangotest\\polls\\modules\\EncuestasSQL.py:145: FutureWarning: The frame.append method is deprecated and will be removed from pandas in a future version. Use pandas.concat instead.\n",
      "  conteo=conteo.append({\n",
      "C:\\Users\\hrangel\\Documents\\Django\\djangotest\\polls\\modules\\EncuestasSQL.py:145: FutureWarning: The frame.append method is deprecated and will be removed from pandas in a future version. Use pandas.concat instead.\n",
      "  conteo=conteo.append({\n",
      "C:\\Users\\hrangel\\Documents\\Django\\djangotest\\polls\\modules\\EncuestasSQL.py:145: FutureWarning: The frame.append method is deprecated and will be removed from pandas in a future version. Use pandas.concat instead.\n",
      "  conteo=conteo.append({\n",
      "C:\\Users\\hrangel\\Documents\\Django\\djangotest\\polls\\modules\\EncuestasSQL.py:145: FutureWarning: The frame.append method is deprecated and will be removed from pandas in a future version. Use pandas.concat instead.\n",
      "  conteo=conteo.append({\n",
      "C:\\Users\\hrangel\\Documents\\Django\\djangotest\\polls\\modules\\EncuestasSQL.py:145: FutureWarning: The frame.append method is deprecated and will be removed from pandas in a future version. Use pandas.concat instead.\n",
      "  conteo=conteo.append({\n",
      "C:\\Users\\hrangel\\Documents\\Django\\djangotest\\polls\\modules\\EncuestasSQL.py:145: FutureWarning: The frame.append method is deprecated and will be removed from pandas in a future version. Use pandas.concat instead.\n",
      "  conteo=conteo.append({\n",
      "C:\\Users\\hrangel\\Documents\\Django\\djangotest\\polls\\modules\\EncuestasSQL.py:145: FutureWarning: The frame.append method is deprecated and will be removed from pandas in a future version. Use pandas.concat instead.\n",
      "  conteo=conteo.append({\n",
      "C:\\Users\\hrangel\\Documents\\Django\\djangotest\\polls\\modules\\EncuestasSQL.py:145: FutureWarning: The frame.append method is deprecated and will be removed from pandas in a future version. Use pandas.concat instead.\n",
      "  conteo=conteo.append({\n",
      "C:\\Users\\hrangel\\Documents\\Django\\djangotest\\polls\\modules\\EncuestasSQL.py:145: FutureWarning: The frame.append method is deprecated and will be removed from pandas in a future version. Use pandas.concat instead.\n",
      "  conteo=conteo.append({\n",
      "C:\\Users\\hrangel\\Documents\\Django\\djangotest\\polls\\modules\\EncuestasSQL.py:145: FutureWarning: The frame.append method is deprecated and will be removed from pandas in a future version. Use pandas.concat instead.\n",
      "  conteo=conteo.append({\n",
      "C:\\Users\\hrangel\\Documents\\Django\\djangotest\\polls\\modules\\EncuestasSQL.py:145: FutureWarning: The frame.append method is deprecated and will be removed from pandas in a future version. Use pandas.concat instead.\n",
      "  conteo=conteo.append({\n"
     ]
    }
   ],
   "source": [
    "t = time.time()\n",
    "conexion=EncuestasDB(dgae)\n",
    "print(time.time()-t)\n",
    "context={\n",
    "    'porEncuestador' : conexion.cuentaPorEncuestador(),\n",
    "    'porMes': conexion.cuentaPorMes(),\n",
    "    'porCarrera' : conexion.cuentaPorCarrera()\n",
    "}"
   ]
  },
  {
   "cell_type": "code",
   "execution_count": 51,
   "metadata": {},
   "outputs": [],
   "source": [
    "fig_params = {'autosize':False,\n",
    "    'width':800,\n",
    "    'height':400,\n",
    "    'paper_bgcolor':\"#9EB3C2\",\n",
    "    'font':dict(color ='Ivory'),\n",
    "    'showlegend':False,\n",
    "    'margin' : dict(l=50, r=30, t=80, b=50)}"
   ]
  },
  {
   "cell_type": "code",
   "execution_count": 52,
   "metadata": {},
   "outputs": [
    {
     "data": {
      "application/vnd.plotly.v1+json": {
       "config": {
        "plotlyServerURL": "https://plot.ly"
       },
       "data": [
        {
         "alignmentgroup": "True",
         "hovertemplate": "Encuestador=%{x}<br>Conteo=%{y}<extra></extra>",
         "legendgroup": "Erendira",
         "marker": {
          "color": "#636efa",
          "pattern": {
           "shape": ""
          }
         },
         "name": "Erendira",
         "offsetgroup": "Erendira",
         "orientation": "v",
         "showlegend": true,
         "textposition": "auto",
         "type": "bar",
         "x": [
          "Erendira"
         ],
         "xaxis": "x",
         "y": [
          397
         ],
         "yaxis": "y"
        },
        {
         "alignmentgroup": "True",
         "hovertemplate": "Encuestador=%{x}<br>Conteo=%{y}<extra></extra>",
         "legendgroup": "Mónica",
         "marker": {
          "color": "#EF553B",
          "pattern": {
           "shape": ""
          }
         },
         "name": "Mónica",
         "offsetgroup": "Mónica",
         "orientation": "v",
         "showlegend": true,
         "textposition": "auto",
         "type": "bar",
         "x": [
          "Mónica"
         ],
         "xaxis": "x",
         "y": [
          407
         ],
         "yaxis": "y"
        },
        {
         "alignmentgroup": "True",
         "hovertemplate": "Encuestador=%{x}<br>Conteo=%{y}<extra></extra>",
         "legendgroup": "César",
         "marker": {
          "color": "#00cc96",
          "pattern": {
           "shape": ""
          }
         },
         "name": "César",
         "offsetgroup": "César",
         "orientation": "v",
         "showlegend": true,
         "textposition": "auto",
         "type": "bar",
         "x": [
          "César"
         ],
         "xaxis": "x",
         "y": [
          410
         ],
         "yaxis": "y"
        },
        {
         "alignmentgroup": "True",
         "hovertemplate": "Encuestador=%{x}<br>Conteo=%{y}<extra></extra>",
         "legendgroup": "María",
         "marker": {
          "color": "#ab63fa",
          "pattern": {
           "shape": ""
          }
         },
         "name": "María",
         "offsetgroup": "María",
         "orientation": "v",
         "showlegend": true,
         "textposition": "auto",
         "type": "bar",
         "x": [
          "María"
         ],
         "xaxis": "x",
         "y": [
          94
         ],
         "yaxis": "y"
        },
        {
         "alignmentgroup": "True",
         "hovertemplate": "Encuestador=%{x}<br>Conteo=%{y}<extra></extra>",
         "legendgroup": "Ivonne",
         "marker": {
          "color": "#FFA15A",
          "pattern": {
           "shape": ""
          }
         },
         "name": "Ivonne",
         "offsetgroup": "Ivonne",
         "orientation": "v",
         "showlegend": true,
         "textposition": "auto",
         "type": "bar",
         "x": [
          "Ivonne"
         ],
         "xaxis": "x",
         "y": [
          114
         ],
         "yaxis": "y"
        }
       ],
       "layout": {
        "autosize": false,
        "barmode": "relative",
        "font": {
         "color": "Ivory"
        },
        "height": 400,
        "legend": {
         "title": {
          "text": "Encuestador"
         },
         "tracegroupgap": 0
        },
        "margin": {
         "b": 50,
         "l": 50,
         "r": 30,
         "t": 80
        },
        "paper_bgcolor": "#9EB3C2",
        "showlegend": false,
        "template": {
         "data": {
          "bar": [
           {
            "error_x": {
             "color": "#2a3f5f"
            },
            "error_y": {
             "color": "#2a3f5f"
            },
            "marker": {
             "line": {
              "color": "#E5ECF6",
              "width": 0.5
             },
             "pattern": {
              "fillmode": "overlay",
              "size": 10,
              "solidity": 0.2
             }
            },
            "type": "bar"
           }
          ],
          "barpolar": [
           {
            "marker": {
             "line": {
              "color": "#E5ECF6",
              "width": 0.5
             },
             "pattern": {
              "fillmode": "overlay",
              "size": 10,
              "solidity": 0.2
             }
            },
            "type": "barpolar"
           }
          ],
          "carpet": [
           {
            "aaxis": {
             "endlinecolor": "#2a3f5f",
             "gridcolor": "white",
             "linecolor": "white",
             "minorgridcolor": "white",
             "startlinecolor": "#2a3f5f"
            },
            "baxis": {
             "endlinecolor": "#2a3f5f",
             "gridcolor": "white",
             "linecolor": "white",
             "minorgridcolor": "white",
             "startlinecolor": "#2a3f5f"
            },
            "type": "carpet"
           }
          ],
          "choropleth": [
           {
            "colorbar": {
             "outlinewidth": 0,
             "ticks": ""
            },
            "type": "choropleth"
           }
          ],
          "contour": [
           {
            "colorbar": {
             "outlinewidth": 0,
             "ticks": ""
            },
            "colorscale": [
             [
              0,
              "#0d0887"
             ],
             [
              0.1111111111111111,
              "#46039f"
             ],
             [
              0.2222222222222222,
              "#7201a8"
             ],
             [
              0.3333333333333333,
              "#9c179e"
             ],
             [
              0.4444444444444444,
              "#bd3786"
             ],
             [
              0.5555555555555556,
              "#d8576b"
             ],
             [
              0.6666666666666666,
              "#ed7953"
             ],
             [
              0.7777777777777778,
              "#fb9f3a"
             ],
             [
              0.8888888888888888,
              "#fdca26"
             ],
             [
              1,
              "#f0f921"
             ]
            ],
            "type": "contour"
           }
          ],
          "contourcarpet": [
           {
            "colorbar": {
             "outlinewidth": 0,
             "ticks": ""
            },
            "type": "contourcarpet"
           }
          ],
          "heatmap": [
           {
            "colorbar": {
             "outlinewidth": 0,
             "ticks": ""
            },
            "colorscale": [
             [
              0,
              "#0d0887"
             ],
             [
              0.1111111111111111,
              "#46039f"
             ],
             [
              0.2222222222222222,
              "#7201a8"
             ],
             [
              0.3333333333333333,
              "#9c179e"
             ],
             [
              0.4444444444444444,
              "#bd3786"
             ],
             [
              0.5555555555555556,
              "#d8576b"
             ],
             [
              0.6666666666666666,
              "#ed7953"
             ],
             [
              0.7777777777777778,
              "#fb9f3a"
             ],
             [
              0.8888888888888888,
              "#fdca26"
             ],
             [
              1,
              "#f0f921"
             ]
            ],
            "type": "heatmap"
           }
          ],
          "heatmapgl": [
           {
            "colorbar": {
             "outlinewidth": 0,
             "ticks": ""
            },
            "colorscale": [
             [
              0,
              "#0d0887"
             ],
             [
              0.1111111111111111,
              "#46039f"
             ],
             [
              0.2222222222222222,
              "#7201a8"
             ],
             [
              0.3333333333333333,
              "#9c179e"
             ],
             [
              0.4444444444444444,
              "#bd3786"
             ],
             [
              0.5555555555555556,
              "#d8576b"
             ],
             [
              0.6666666666666666,
              "#ed7953"
             ],
             [
              0.7777777777777778,
              "#fb9f3a"
             ],
             [
              0.8888888888888888,
              "#fdca26"
             ],
             [
              1,
              "#f0f921"
             ]
            ],
            "type": "heatmapgl"
           }
          ],
          "histogram": [
           {
            "marker": {
             "pattern": {
              "fillmode": "overlay",
              "size": 10,
              "solidity": 0.2
             }
            },
            "type": "histogram"
           }
          ],
          "histogram2d": [
           {
            "colorbar": {
             "outlinewidth": 0,
             "ticks": ""
            },
            "colorscale": [
             [
              0,
              "#0d0887"
             ],
             [
              0.1111111111111111,
              "#46039f"
             ],
             [
              0.2222222222222222,
              "#7201a8"
             ],
             [
              0.3333333333333333,
              "#9c179e"
             ],
             [
              0.4444444444444444,
              "#bd3786"
             ],
             [
              0.5555555555555556,
              "#d8576b"
             ],
             [
              0.6666666666666666,
              "#ed7953"
             ],
             [
              0.7777777777777778,
              "#fb9f3a"
             ],
             [
              0.8888888888888888,
              "#fdca26"
             ],
             [
              1,
              "#f0f921"
             ]
            ],
            "type": "histogram2d"
           }
          ],
          "histogram2dcontour": [
           {
            "colorbar": {
             "outlinewidth": 0,
             "ticks": ""
            },
            "colorscale": [
             [
              0,
              "#0d0887"
             ],
             [
              0.1111111111111111,
              "#46039f"
             ],
             [
              0.2222222222222222,
              "#7201a8"
             ],
             [
              0.3333333333333333,
              "#9c179e"
             ],
             [
              0.4444444444444444,
              "#bd3786"
             ],
             [
              0.5555555555555556,
              "#d8576b"
             ],
             [
              0.6666666666666666,
              "#ed7953"
             ],
             [
              0.7777777777777778,
              "#fb9f3a"
             ],
             [
              0.8888888888888888,
              "#fdca26"
             ],
             [
              1,
              "#f0f921"
             ]
            ],
            "type": "histogram2dcontour"
           }
          ],
          "mesh3d": [
           {
            "colorbar": {
             "outlinewidth": 0,
             "ticks": ""
            },
            "type": "mesh3d"
           }
          ],
          "parcoords": [
           {
            "line": {
             "colorbar": {
              "outlinewidth": 0,
              "ticks": ""
             }
            },
            "type": "parcoords"
           }
          ],
          "pie": [
           {
            "automargin": true,
            "type": "pie"
           }
          ],
          "scatter": [
           {
            "marker": {
             "colorbar": {
              "outlinewidth": 0,
              "ticks": ""
             }
            },
            "type": "scatter"
           }
          ],
          "scatter3d": [
           {
            "line": {
             "colorbar": {
              "outlinewidth": 0,
              "ticks": ""
             }
            },
            "marker": {
             "colorbar": {
              "outlinewidth": 0,
              "ticks": ""
             }
            },
            "type": "scatter3d"
           }
          ],
          "scattercarpet": [
           {
            "marker": {
             "colorbar": {
              "outlinewidth": 0,
              "ticks": ""
             }
            },
            "type": "scattercarpet"
           }
          ],
          "scattergeo": [
           {
            "marker": {
             "colorbar": {
              "outlinewidth": 0,
              "ticks": ""
             }
            },
            "type": "scattergeo"
           }
          ],
          "scattergl": [
           {
            "marker": {
             "colorbar": {
              "outlinewidth": 0,
              "ticks": ""
             }
            },
            "type": "scattergl"
           }
          ],
          "scattermapbox": [
           {
            "marker": {
             "colorbar": {
              "outlinewidth": 0,
              "ticks": ""
             }
            },
            "type": "scattermapbox"
           }
          ],
          "scatterpolar": [
           {
            "marker": {
             "colorbar": {
              "outlinewidth": 0,
              "ticks": ""
             }
            },
            "type": "scatterpolar"
           }
          ],
          "scatterpolargl": [
           {
            "marker": {
             "colorbar": {
              "outlinewidth": 0,
              "ticks": ""
             }
            },
            "type": "scatterpolargl"
           }
          ],
          "scatterternary": [
           {
            "marker": {
             "colorbar": {
              "outlinewidth": 0,
              "ticks": ""
             }
            },
            "type": "scatterternary"
           }
          ],
          "surface": [
           {
            "colorbar": {
             "outlinewidth": 0,
             "ticks": ""
            },
            "colorscale": [
             [
              0,
              "#0d0887"
             ],
             [
              0.1111111111111111,
              "#46039f"
             ],
             [
              0.2222222222222222,
              "#7201a8"
             ],
             [
              0.3333333333333333,
              "#9c179e"
             ],
             [
              0.4444444444444444,
              "#bd3786"
             ],
             [
              0.5555555555555556,
              "#d8576b"
             ],
             [
              0.6666666666666666,
              "#ed7953"
             ],
             [
              0.7777777777777778,
              "#fb9f3a"
             ],
             [
              0.8888888888888888,
              "#fdca26"
             ],
             [
              1,
              "#f0f921"
             ]
            ],
            "type": "surface"
           }
          ],
          "table": [
           {
            "cells": {
             "fill": {
              "color": "#EBF0F8"
             },
             "line": {
              "color": "white"
             }
            },
            "header": {
             "fill": {
              "color": "#C8D4E3"
             },
             "line": {
              "color": "white"
             }
            },
            "type": "table"
           }
          ]
         },
         "layout": {
          "annotationdefaults": {
           "arrowcolor": "#2a3f5f",
           "arrowhead": 0,
           "arrowwidth": 1
          },
          "autotypenumbers": "strict",
          "coloraxis": {
           "colorbar": {
            "outlinewidth": 0,
            "ticks": ""
           }
          },
          "colorscale": {
           "diverging": [
            [
             0,
             "#8e0152"
            ],
            [
             0.1,
             "#c51b7d"
            ],
            [
             0.2,
             "#de77ae"
            ],
            [
             0.3,
             "#f1b6da"
            ],
            [
             0.4,
             "#fde0ef"
            ],
            [
             0.5,
             "#f7f7f7"
            ],
            [
             0.6,
             "#e6f5d0"
            ],
            [
             0.7,
             "#b8e186"
            ],
            [
             0.8,
             "#7fbc41"
            ],
            [
             0.9,
             "#4d9221"
            ],
            [
             1,
             "#276419"
            ]
           ],
           "sequential": [
            [
             0,
             "#0d0887"
            ],
            [
             0.1111111111111111,
             "#46039f"
            ],
            [
             0.2222222222222222,
             "#7201a8"
            ],
            [
             0.3333333333333333,
             "#9c179e"
            ],
            [
             0.4444444444444444,
             "#bd3786"
            ],
            [
             0.5555555555555556,
             "#d8576b"
            ],
            [
             0.6666666666666666,
             "#ed7953"
            ],
            [
             0.7777777777777778,
             "#fb9f3a"
            ],
            [
             0.8888888888888888,
             "#fdca26"
            ],
            [
             1,
             "#f0f921"
            ]
           ],
           "sequentialminus": [
            [
             0,
             "#0d0887"
            ],
            [
             0.1111111111111111,
             "#46039f"
            ],
            [
             0.2222222222222222,
             "#7201a8"
            ],
            [
             0.3333333333333333,
             "#9c179e"
            ],
            [
             0.4444444444444444,
             "#bd3786"
            ],
            [
             0.5555555555555556,
             "#d8576b"
            ],
            [
             0.6666666666666666,
             "#ed7953"
            ],
            [
             0.7777777777777778,
             "#fb9f3a"
            ],
            [
             0.8888888888888888,
             "#fdca26"
            ],
            [
             1,
             "#f0f921"
            ]
           ]
          },
          "colorway": [
           "#636efa",
           "#EF553B",
           "#00cc96",
           "#ab63fa",
           "#FFA15A",
           "#19d3f3",
           "#FF6692",
           "#B6E880",
           "#FF97FF",
           "#FECB52"
          ],
          "font": {
           "color": "#2a3f5f"
          },
          "geo": {
           "bgcolor": "white",
           "lakecolor": "white",
           "landcolor": "#E5ECF6",
           "showlakes": true,
           "showland": true,
           "subunitcolor": "white"
          },
          "hoverlabel": {
           "align": "left"
          },
          "hovermode": "closest",
          "mapbox": {
           "style": "light"
          },
          "paper_bgcolor": "white",
          "plot_bgcolor": "#E5ECF6",
          "polar": {
           "angularaxis": {
            "gridcolor": "white",
            "linecolor": "white",
            "ticks": ""
           },
           "bgcolor": "#E5ECF6",
           "radialaxis": {
            "gridcolor": "white",
            "linecolor": "white",
            "ticks": ""
           }
          },
          "scene": {
           "xaxis": {
            "backgroundcolor": "#E5ECF6",
            "gridcolor": "white",
            "gridwidth": 2,
            "linecolor": "white",
            "showbackground": true,
            "ticks": "",
            "zerolinecolor": "white"
           },
           "yaxis": {
            "backgroundcolor": "#E5ECF6",
            "gridcolor": "white",
            "gridwidth": 2,
            "linecolor": "white",
            "showbackground": true,
            "ticks": "",
            "zerolinecolor": "white"
           },
           "zaxis": {
            "backgroundcolor": "#E5ECF6",
            "gridcolor": "white",
            "gridwidth": 2,
            "linecolor": "white",
            "showbackground": true,
            "ticks": "",
            "zerolinecolor": "white"
           }
          },
          "shapedefaults": {
           "line": {
            "color": "#2a3f5f"
           }
          },
          "ternary": {
           "aaxis": {
            "gridcolor": "white",
            "linecolor": "white",
            "ticks": ""
           },
           "baxis": {
            "gridcolor": "white",
            "linecolor": "white",
            "ticks": ""
           },
           "bgcolor": "#E5ECF6",
           "caxis": {
            "gridcolor": "white",
            "linecolor": "white",
            "ticks": ""
           }
          },
          "title": {
           "x": 0.05
          },
          "xaxis": {
           "automargin": true,
           "gridcolor": "white",
           "linecolor": "white",
           "ticks": "",
           "title": {
            "standoff": 15
           },
           "zerolinecolor": "white",
           "zerolinewidth": 2
          },
          "yaxis": {
           "automargin": true,
           "gridcolor": "white",
           "linecolor": "white",
           "ticks": "",
           "title": {
            "standoff": 15
           },
           "zerolinecolor": "white",
           "zerolinewidth": 2
          }
         }
        },
        "title": {
         "text": "Conteo por Encuestador"
        },
        "width": 800,
        "xaxis": {
         "anchor": "y",
         "categoryarray": [
          "Erendira",
          "Mónica",
          "César",
          "María",
          "Ivonne"
         ],
         "categoryorder": "array",
         "domain": [
          0,
          1
         ],
         "title": {
          "text": "Encuestador"
         }
        },
        "yaxis": {
         "anchor": "x",
         "domain": [
          0,
          1
         ],
         "title": {
          "text": "Conteo"
         }
        }
       }
      },
      "text/html": [
       "<div>                            <div id=\"2497f079-a1f4-4095-9026-e8d2ffe941f8\" class=\"plotly-graph-div\" style=\"height:400px; width:800px;\"></div>            <script type=\"text/javascript\">                require([\"plotly\"], function(Plotly) {                    window.PLOTLYENV=window.PLOTLYENV || {};                                    if (document.getElementById(\"2497f079-a1f4-4095-9026-e8d2ffe941f8\")) {                    Plotly.newPlot(                        \"2497f079-a1f4-4095-9026-e8d2ffe941f8\",                        [{\"alignmentgroup\":\"True\",\"hovertemplate\":\"Encuestador=%{x}<br>Conteo=%{y}<extra></extra>\",\"legendgroup\":\"Erendira\",\"marker\":{\"color\":\"#636efa\",\"pattern\":{\"shape\":\"\"}},\"name\":\"Erendira\",\"offsetgroup\":\"Erendira\",\"orientation\":\"v\",\"showlegend\":true,\"textposition\":\"auto\",\"x\":[\"Erendira\"],\"xaxis\":\"x\",\"y\":[397],\"yaxis\":\"y\",\"type\":\"bar\"},{\"alignmentgroup\":\"True\",\"hovertemplate\":\"Encuestador=%{x}<br>Conteo=%{y}<extra></extra>\",\"legendgroup\":\"M\\u00f3nica\",\"marker\":{\"color\":\"#EF553B\",\"pattern\":{\"shape\":\"\"}},\"name\":\"M\\u00f3nica\",\"offsetgroup\":\"M\\u00f3nica\",\"orientation\":\"v\",\"showlegend\":true,\"textposition\":\"auto\",\"x\":[\"M\\u00f3nica\"],\"xaxis\":\"x\",\"y\":[407],\"yaxis\":\"y\",\"type\":\"bar\"},{\"alignmentgroup\":\"True\",\"hovertemplate\":\"Encuestador=%{x}<br>Conteo=%{y}<extra></extra>\",\"legendgroup\":\"C\\u00e9sar\",\"marker\":{\"color\":\"#00cc96\",\"pattern\":{\"shape\":\"\"}},\"name\":\"C\\u00e9sar\",\"offsetgroup\":\"C\\u00e9sar\",\"orientation\":\"v\",\"showlegend\":true,\"textposition\":\"auto\",\"x\":[\"C\\u00e9sar\"],\"xaxis\":\"x\",\"y\":[410],\"yaxis\":\"y\",\"type\":\"bar\"},{\"alignmentgroup\":\"True\",\"hovertemplate\":\"Encuestador=%{x}<br>Conteo=%{y}<extra></extra>\",\"legendgroup\":\"Mar\\u00eda\",\"marker\":{\"color\":\"#ab63fa\",\"pattern\":{\"shape\":\"\"}},\"name\":\"Mar\\u00eda\",\"offsetgroup\":\"Mar\\u00eda\",\"orientation\":\"v\",\"showlegend\":true,\"textposition\":\"auto\",\"x\":[\"Mar\\u00eda\"],\"xaxis\":\"x\",\"y\":[94],\"yaxis\":\"y\",\"type\":\"bar\"},{\"alignmentgroup\":\"True\",\"hovertemplate\":\"Encuestador=%{x}<br>Conteo=%{y}<extra></extra>\",\"legendgroup\":\"Ivonne\",\"marker\":{\"color\":\"#FFA15A\",\"pattern\":{\"shape\":\"\"}},\"name\":\"Ivonne\",\"offsetgroup\":\"Ivonne\",\"orientation\":\"v\",\"showlegend\":true,\"textposition\":\"auto\",\"x\":[\"Ivonne\"],\"xaxis\":\"x\",\"y\":[114],\"yaxis\":\"y\",\"type\":\"bar\"}],                        {\"template\":{\"data\":{\"bar\":[{\"error_x\":{\"color\":\"#2a3f5f\"},\"error_y\":{\"color\":\"#2a3f5f\"},\"marker\":{\"line\":{\"color\":\"#E5ECF6\",\"width\":0.5},\"pattern\":{\"fillmode\":\"overlay\",\"size\":10,\"solidity\":0.2}},\"type\":\"bar\"}],\"barpolar\":[{\"marker\":{\"line\":{\"color\":\"#E5ECF6\",\"width\":0.5},\"pattern\":{\"fillmode\":\"overlay\",\"size\":10,\"solidity\":0.2}},\"type\":\"barpolar\"}],\"carpet\":[{\"aaxis\":{\"endlinecolor\":\"#2a3f5f\",\"gridcolor\":\"white\",\"linecolor\":\"white\",\"minorgridcolor\":\"white\",\"startlinecolor\":\"#2a3f5f\"},\"baxis\":{\"endlinecolor\":\"#2a3f5f\",\"gridcolor\":\"white\",\"linecolor\":\"white\",\"minorgridcolor\":\"white\",\"startlinecolor\":\"#2a3f5f\"},\"type\":\"carpet\"}],\"choropleth\":[{\"colorbar\":{\"outlinewidth\":0,\"ticks\":\"\"},\"type\":\"choropleth\"}],\"contour\":[{\"colorbar\":{\"outlinewidth\":0,\"ticks\":\"\"},\"colorscale\":[[0.0,\"#0d0887\"],[0.1111111111111111,\"#46039f\"],[0.2222222222222222,\"#7201a8\"],[0.3333333333333333,\"#9c179e\"],[0.4444444444444444,\"#bd3786\"],[0.5555555555555556,\"#d8576b\"],[0.6666666666666666,\"#ed7953\"],[0.7777777777777778,\"#fb9f3a\"],[0.8888888888888888,\"#fdca26\"],[1.0,\"#f0f921\"]],\"type\":\"contour\"}],\"contourcarpet\":[{\"colorbar\":{\"outlinewidth\":0,\"ticks\":\"\"},\"type\":\"contourcarpet\"}],\"heatmap\":[{\"colorbar\":{\"outlinewidth\":0,\"ticks\":\"\"},\"colorscale\":[[0.0,\"#0d0887\"],[0.1111111111111111,\"#46039f\"],[0.2222222222222222,\"#7201a8\"],[0.3333333333333333,\"#9c179e\"],[0.4444444444444444,\"#bd3786\"],[0.5555555555555556,\"#d8576b\"],[0.6666666666666666,\"#ed7953\"],[0.7777777777777778,\"#fb9f3a\"],[0.8888888888888888,\"#fdca26\"],[1.0,\"#f0f921\"]],\"type\":\"heatmap\"}],\"heatmapgl\":[{\"colorbar\":{\"outlinewidth\":0,\"ticks\":\"\"},\"colorscale\":[[0.0,\"#0d0887\"],[0.1111111111111111,\"#46039f\"],[0.2222222222222222,\"#7201a8\"],[0.3333333333333333,\"#9c179e\"],[0.4444444444444444,\"#bd3786\"],[0.5555555555555556,\"#d8576b\"],[0.6666666666666666,\"#ed7953\"],[0.7777777777777778,\"#fb9f3a\"],[0.8888888888888888,\"#fdca26\"],[1.0,\"#f0f921\"]],\"type\":\"heatmapgl\"}],\"histogram\":[{\"marker\":{\"pattern\":{\"fillmode\":\"overlay\",\"size\":10,\"solidity\":0.2}},\"type\":\"histogram\"}],\"histogram2d\":[{\"colorbar\":{\"outlinewidth\":0,\"ticks\":\"\"},\"colorscale\":[[0.0,\"#0d0887\"],[0.1111111111111111,\"#46039f\"],[0.2222222222222222,\"#7201a8\"],[0.3333333333333333,\"#9c179e\"],[0.4444444444444444,\"#bd3786\"],[0.5555555555555556,\"#d8576b\"],[0.6666666666666666,\"#ed7953\"],[0.7777777777777778,\"#fb9f3a\"],[0.8888888888888888,\"#fdca26\"],[1.0,\"#f0f921\"]],\"type\":\"histogram2d\"}],\"histogram2dcontour\":[{\"colorbar\":{\"outlinewidth\":0,\"ticks\":\"\"},\"colorscale\":[[0.0,\"#0d0887\"],[0.1111111111111111,\"#46039f\"],[0.2222222222222222,\"#7201a8\"],[0.3333333333333333,\"#9c179e\"],[0.4444444444444444,\"#bd3786\"],[0.5555555555555556,\"#d8576b\"],[0.6666666666666666,\"#ed7953\"],[0.7777777777777778,\"#fb9f3a\"],[0.8888888888888888,\"#fdca26\"],[1.0,\"#f0f921\"]],\"type\":\"histogram2dcontour\"}],\"mesh3d\":[{\"colorbar\":{\"outlinewidth\":0,\"ticks\":\"\"},\"type\":\"mesh3d\"}],\"parcoords\":[{\"line\":{\"colorbar\":{\"outlinewidth\":0,\"ticks\":\"\"}},\"type\":\"parcoords\"}],\"pie\":[{\"automargin\":true,\"type\":\"pie\"}],\"scatter\":[{\"marker\":{\"colorbar\":{\"outlinewidth\":0,\"ticks\":\"\"}},\"type\":\"scatter\"}],\"scatter3d\":[{\"line\":{\"colorbar\":{\"outlinewidth\":0,\"ticks\":\"\"}},\"marker\":{\"colorbar\":{\"outlinewidth\":0,\"ticks\":\"\"}},\"type\":\"scatter3d\"}],\"scattercarpet\":[{\"marker\":{\"colorbar\":{\"outlinewidth\":0,\"ticks\":\"\"}},\"type\":\"scattercarpet\"}],\"scattergeo\":[{\"marker\":{\"colorbar\":{\"outlinewidth\":0,\"ticks\":\"\"}},\"type\":\"scattergeo\"}],\"scattergl\":[{\"marker\":{\"colorbar\":{\"outlinewidth\":0,\"ticks\":\"\"}},\"type\":\"scattergl\"}],\"scattermapbox\":[{\"marker\":{\"colorbar\":{\"outlinewidth\":0,\"ticks\":\"\"}},\"type\":\"scattermapbox\"}],\"scatterpolar\":[{\"marker\":{\"colorbar\":{\"outlinewidth\":0,\"ticks\":\"\"}},\"type\":\"scatterpolar\"}],\"scatterpolargl\":[{\"marker\":{\"colorbar\":{\"outlinewidth\":0,\"ticks\":\"\"}},\"type\":\"scatterpolargl\"}],\"scatterternary\":[{\"marker\":{\"colorbar\":{\"outlinewidth\":0,\"ticks\":\"\"}},\"type\":\"scatterternary\"}],\"surface\":[{\"colorbar\":{\"outlinewidth\":0,\"ticks\":\"\"},\"colorscale\":[[0.0,\"#0d0887\"],[0.1111111111111111,\"#46039f\"],[0.2222222222222222,\"#7201a8\"],[0.3333333333333333,\"#9c179e\"],[0.4444444444444444,\"#bd3786\"],[0.5555555555555556,\"#d8576b\"],[0.6666666666666666,\"#ed7953\"],[0.7777777777777778,\"#fb9f3a\"],[0.8888888888888888,\"#fdca26\"],[1.0,\"#f0f921\"]],\"type\":\"surface\"}],\"table\":[{\"cells\":{\"fill\":{\"color\":\"#EBF0F8\"},\"line\":{\"color\":\"white\"}},\"header\":{\"fill\":{\"color\":\"#C8D4E3\"},\"line\":{\"color\":\"white\"}},\"type\":\"table\"}]},\"layout\":{\"annotationdefaults\":{\"arrowcolor\":\"#2a3f5f\",\"arrowhead\":0,\"arrowwidth\":1},\"autotypenumbers\":\"strict\",\"coloraxis\":{\"colorbar\":{\"outlinewidth\":0,\"ticks\":\"\"}},\"colorscale\":{\"diverging\":[[0,\"#8e0152\"],[0.1,\"#c51b7d\"],[0.2,\"#de77ae\"],[0.3,\"#f1b6da\"],[0.4,\"#fde0ef\"],[0.5,\"#f7f7f7\"],[0.6,\"#e6f5d0\"],[0.7,\"#b8e186\"],[0.8,\"#7fbc41\"],[0.9,\"#4d9221\"],[1,\"#276419\"]],\"sequential\":[[0.0,\"#0d0887\"],[0.1111111111111111,\"#46039f\"],[0.2222222222222222,\"#7201a8\"],[0.3333333333333333,\"#9c179e\"],[0.4444444444444444,\"#bd3786\"],[0.5555555555555556,\"#d8576b\"],[0.6666666666666666,\"#ed7953\"],[0.7777777777777778,\"#fb9f3a\"],[0.8888888888888888,\"#fdca26\"],[1.0,\"#f0f921\"]],\"sequentialminus\":[[0.0,\"#0d0887\"],[0.1111111111111111,\"#46039f\"],[0.2222222222222222,\"#7201a8\"],[0.3333333333333333,\"#9c179e\"],[0.4444444444444444,\"#bd3786\"],[0.5555555555555556,\"#d8576b\"],[0.6666666666666666,\"#ed7953\"],[0.7777777777777778,\"#fb9f3a\"],[0.8888888888888888,\"#fdca26\"],[1.0,\"#f0f921\"]]},\"colorway\":[\"#636efa\",\"#EF553B\",\"#00cc96\",\"#ab63fa\",\"#FFA15A\",\"#19d3f3\",\"#FF6692\",\"#B6E880\",\"#FF97FF\",\"#FECB52\"],\"font\":{\"color\":\"#2a3f5f\"},\"geo\":{\"bgcolor\":\"white\",\"lakecolor\":\"white\",\"landcolor\":\"#E5ECF6\",\"showlakes\":true,\"showland\":true,\"subunitcolor\":\"white\"},\"hoverlabel\":{\"align\":\"left\"},\"hovermode\":\"closest\",\"mapbox\":{\"style\":\"light\"},\"paper_bgcolor\":\"white\",\"plot_bgcolor\":\"#E5ECF6\",\"polar\":{\"angularaxis\":{\"gridcolor\":\"white\",\"linecolor\":\"white\",\"ticks\":\"\"},\"bgcolor\":\"#E5ECF6\",\"radialaxis\":{\"gridcolor\":\"white\",\"linecolor\":\"white\",\"ticks\":\"\"}},\"scene\":{\"xaxis\":{\"backgroundcolor\":\"#E5ECF6\",\"gridcolor\":\"white\",\"gridwidth\":2,\"linecolor\":\"white\",\"showbackground\":true,\"ticks\":\"\",\"zerolinecolor\":\"white\"},\"yaxis\":{\"backgroundcolor\":\"#E5ECF6\",\"gridcolor\":\"white\",\"gridwidth\":2,\"linecolor\":\"white\",\"showbackground\":true,\"ticks\":\"\",\"zerolinecolor\":\"white\"},\"zaxis\":{\"backgroundcolor\":\"#E5ECF6\",\"gridcolor\":\"white\",\"gridwidth\":2,\"linecolor\":\"white\",\"showbackground\":true,\"ticks\":\"\",\"zerolinecolor\":\"white\"}},\"shapedefaults\":{\"line\":{\"color\":\"#2a3f5f\"}},\"ternary\":{\"aaxis\":{\"gridcolor\":\"white\",\"linecolor\":\"white\",\"ticks\":\"\"},\"baxis\":{\"gridcolor\":\"white\",\"linecolor\":\"white\",\"ticks\":\"\"},\"bgcolor\":\"#E5ECF6\",\"caxis\":{\"gridcolor\":\"white\",\"linecolor\":\"white\",\"ticks\":\"\"}},\"title\":{\"x\":0.05},\"xaxis\":{\"automargin\":true,\"gridcolor\":\"white\",\"linecolor\":\"white\",\"ticks\":\"\",\"title\":{\"standoff\":15},\"zerolinecolor\":\"white\",\"zerolinewidth\":2},\"yaxis\":{\"automargin\":true,\"gridcolor\":\"white\",\"linecolor\":\"white\",\"ticks\":\"\",\"title\":{\"standoff\":15},\"zerolinecolor\":\"white\",\"zerolinewidth\":2}}},\"xaxis\":{\"anchor\":\"y\",\"domain\":[0.0,1.0],\"title\":{\"text\":\"Encuestador\"},\"categoryorder\":\"array\",\"categoryarray\":[\"Erendira\",\"M\\u00f3nica\",\"C\\u00e9sar\",\"Mar\\u00eda\",\"Ivonne\"]},\"yaxis\":{\"anchor\":\"x\",\"domain\":[0.0,1.0],\"title\":{\"text\":\"Conteo\"}},\"legend\":{\"title\":{\"text\":\"Encuestador\"},\"tracegroupgap\":0},\"title\":{\"text\":\"Conteo por Encuestador\"},\"barmode\":\"relative\",\"font\":{\"color\":\"Ivory\"},\"margin\":{\"l\":50,\"r\":30,\"t\":80,\"b\":50},\"autosize\":false,\"width\":800,\"height\":400,\"paper_bgcolor\":\"#9EB3C2\",\"showlegend\":false},                        {\"responsive\": true}                    ).then(function(){\n",
       "                            \n",
       "var gd = document.getElementById('2497f079-a1f4-4095-9026-e8d2ffe941f8');\n",
       "var x = new MutationObserver(function (mutations, observer) {{\n",
       "        var display = window.getComputedStyle(gd).display;\n",
       "        if (!display || display === 'none') {{\n",
       "            console.log([gd, 'removed!']);\n",
       "            Plotly.purge(gd);\n",
       "            observer.disconnect();\n",
       "        }}\n",
       "}});\n",
       "\n",
       "// Listen for the removal of the full notebook cells\n",
       "var notebookContainer = gd.closest('#notebook-container');\n",
       "if (notebookContainer) {{\n",
       "    x.observe(notebookContainer, {childList: true});\n",
       "}}\n",
       "\n",
       "// Listen for the clearing of the current output cell\n",
       "var outputEl = gd.closest('.output');\n",
       "if (outputEl) {{\n",
       "    x.observe(outputEl, {childList: true});\n",
       "}}\n",
       "\n",
       "                        })                };                });            </script>        </div>"
      ]
     },
     "metadata": {},
     "output_type": "display_data"
    }
   ],
   "source": [
    "fig = px.bar(context['porEncuestador'],\n",
    "             x='Encuestador',\n",
    "             y='Realizadas',\n",
    "             color='Encuestador',\n",
    "             title='Conteo por Encuestador',\n",
    "             labels={\"Realizadas\": \"Conteo\"})\n",
    "\n",
    "fig.update_layout(fig_params)\n",
    "fig.show()"
   ]
  },
  {
   "cell_type": "code",
   "execution_count": 33,
   "metadata": {},
   "outputs": [
    {
     "data": {
      "application/vnd.plotly.v1+json": {
       "config": {
        "plotlyServerURL": "https://plot.ly"
       },
       "data": [
        {
         "alignmentgroup": "True",
         "hovertemplate": "Mes=%{y}<br>Conteo=%{x}<extra></extra>",
         "legendgroup": "Noviembre 2018",
         "marker": {
          "color": "#636efa",
          "pattern": {
           "shape": ""
          }
         },
         "name": "Noviembre 2018",
         "offsetgroup": "Noviembre 2018",
         "orientation": "h",
         "showlegend": true,
         "textposition": "auto",
         "type": "bar",
         "x": [
          1
         ],
         "xaxis": "x",
         "y": [
          "Noviembre 2018"
         ],
         "yaxis": "y"
        },
        {
         "alignmentgroup": "True",
         "hovertemplate": "Mes=%{y}<br>Conteo=%{x}<extra></extra>",
         "legendgroup": "Diciembre 2018",
         "marker": {
          "color": "#EF553B",
          "pattern": {
           "shape": ""
          }
         },
         "name": "Diciembre 2018",
         "offsetgroup": "Diciembre 2018",
         "orientation": "h",
         "showlegend": true,
         "textposition": "auto",
         "type": "bar",
         "x": [
          1
         ],
         "xaxis": "x",
         "y": [
          "Diciembre 2018"
         ],
         "yaxis": "y"
        },
        {
         "alignmentgroup": "True",
         "hovertemplate": "Mes=%{y}<br>Conteo=%{x}<extra></extra>",
         "legendgroup": "Enero 2019",
         "marker": {
          "color": "#00cc96",
          "pattern": {
           "shape": ""
          }
         },
         "name": "Enero 2019",
         "offsetgroup": "Enero 2019",
         "orientation": "h",
         "showlegend": true,
         "textposition": "auto",
         "type": "bar",
         "x": [
          7
         ],
         "xaxis": "x",
         "y": [
          "Enero 2019"
         ],
         "yaxis": "y"
        },
        {
         "alignmentgroup": "True",
         "hovertemplate": "Mes=%{y}<br>Conteo=%{x}<extra></extra>",
         "legendgroup": "Febrero 2019",
         "marker": {
          "color": "#ab63fa",
          "pattern": {
           "shape": ""
          }
         },
         "name": "Febrero 2019",
         "offsetgroup": "Febrero 2019",
         "orientation": "h",
         "showlegend": true,
         "textposition": "auto",
         "type": "bar",
         "x": [
          16
         ],
         "xaxis": "x",
         "y": [
          "Febrero 2019"
         ],
         "yaxis": "y"
        },
        {
         "alignmentgroup": "True",
         "hovertemplate": "Mes=%{y}<br>Conteo=%{x}<extra></extra>",
         "legendgroup": "Marzo 2019",
         "marker": {
          "color": "#FFA15A",
          "pattern": {
           "shape": ""
          }
         },
         "name": "Marzo 2019",
         "offsetgroup": "Marzo 2019",
         "orientation": "h",
         "showlegend": true,
         "textposition": "auto",
         "type": "bar",
         "x": [
          15
         ],
         "xaxis": "x",
         "y": [
          "Marzo 2019"
         ],
         "yaxis": "y"
        },
        {
         "alignmentgroup": "True",
         "hovertemplate": "Mes=%{y}<br>Conteo=%{x}<extra></extra>",
         "legendgroup": "Abril 2019",
         "marker": {
          "color": "#19d3f3",
          "pattern": {
           "shape": ""
          }
         },
         "name": "Abril 2019",
         "offsetgroup": "Abril 2019",
         "orientation": "h",
         "showlegend": true,
         "textposition": "auto",
         "type": "bar",
         "x": [
          12
         ],
         "xaxis": "x",
         "y": [
          "Abril 2019"
         ],
         "yaxis": "y"
        },
        {
         "alignmentgroup": "True",
         "hovertemplate": "Mes=%{y}<br>Conteo=%{x}<extra></extra>",
         "legendgroup": "Mayo 2019",
         "marker": {
          "color": "#FF6692",
          "pattern": {
           "shape": ""
          }
         },
         "name": "Mayo 2019",
         "offsetgroup": "Mayo 2019",
         "orientation": "h",
         "showlegend": true,
         "textposition": "auto",
         "type": "bar",
         "x": [
          28
         ],
         "xaxis": "x",
         "y": [
          "Mayo 2019"
         ],
         "yaxis": "y"
        },
        {
         "alignmentgroup": "True",
         "hovertemplate": "Mes=%{y}<br>Conteo=%{x}<extra></extra>",
         "legendgroup": "Junio 2019",
         "marker": {
          "color": "#B6E880",
          "pattern": {
           "shape": ""
          }
         },
         "name": "Junio 2019",
         "offsetgroup": "Junio 2019",
         "orientation": "h",
         "showlegend": true,
         "textposition": "auto",
         "type": "bar",
         "x": [
          18
         ],
         "xaxis": "x",
         "y": [
          "Junio 2019"
         ],
         "yaxis": "y"
        },
        {
         "alignmentgroup": "True",
         "hovertemplate": "Mes=%{y}<br>Conteo=%{x}<extra></extra>",
         "legendgroup": "Julio 2019",
         "marker": {
          "color": "#FF97FF",
          "pattern": {
           "shape": ""
          }
         },
         "name": "Julio 2019",
         "offsetgroup": "Julio 2019",
         "orientation": "h",
         "showlegend": true,
         "textposition": "auto",
         "type": "bar",
         "x": [
          9
         ],
         "xaxis": "x",
         "y": [
          "Julio 2019"
         ],
         "yaxis": "y"
        },
        {
         "alignmentgroup": "True",
         "hovertemplate": "Mes=%{y}<br>Conteo=%{x}<extra></extra>",
         "legendgroup": "Agosto 2019",
         "marker": {
          "color": "#FECB52",
          "pattern": {
           "shape": ""
          }
         },
         "name": "Agosto 2019",
         "offsetgroup": "Agosto 2019",
         "orientation": "h",
         "showlegend": true,
         "textposition": "auto",
         "type": "bar",
         "x": [
          28
         ],
         "xaxis": "x",
         "y": [
          "Agosto 2019"
         ],
         "yaxis": "y"
        },
        {
         "alignmentgroup": "True",
         "hovertemplate": "Mes=%{y}<br>Conteo=%{x}<extra></extra>",
         "legendgroup": "Septiembre 2019",
         "marker": {
          "color": "#636efa",
          "pattern": {
           "shape": ""
          }
         },
         "name": "Septiembre 2019",
         "offsetgroup": "Septiembre 2019",
         "orientation": "h",
         "showlegend": true,
         "textposition": "auto",
         "type": "bar",
         "x": [
          35
         ],
         "xaxis": "x",
         "y": [
          "Septiembre 2019"
         ],
         "yaxis": "y"
        },
        {
         "alignmentgroup": "True",
         "hovertemplate": "Mes=%{y}<br>Conteo=%{x}<extra></extra>",
         "legendgroup": "Octubre 2019",
         "marker": {
          "color": "#EF553B",
          "pattern": {
           "shape": ""
          }
         },
         "name": "Octubre 2019",
         "offsetgroup": "Octubre 2019",
         "orientation": "h",
         "showlegend": true,
         "textposition": "auto",
         "type": "bar",
         "x": [
          32
         ],
         "xaxis": "x",
         "y": [
          "Octubre 2019"
         ],
         "yaxis": "y"
        },
        {
         "alignmentgroup": "True",
         "hovertemplate": "Mes=%{y}<br>Conteo=%{x}<extra></extra>",
         "legendgroup": "Noviembre 2019",
         "marker": {
          "color": "#00cc96",
          "pattern": {
           "shape": ""
          }
         },
         "name": "Noviembre 2019",
         "offsetgroup": "Noviembre 2019",
         "orientation": "h",
         "showlegend": true,
         "textposition": "auto",
         "type": "bar",
         "x": [
          38
         ],
         "xaxis": "x",
         "y": [
          "Noviembre 2019"
         ],
         "yaxis": "y"
        },
        {
         "alignmentgroup": "True",
         "hovertemplate": "Mes=%{y}<br>Conteo=%{x}<extra></extra>",
         "legendgroup": "Diciembre 2019",
         "marker": {
          "color": "#ab63fa",
          "pattern": {
           "shape": ""
          }
         },
         "name": "Diciembre 2019",
         "offsetgroup": "Diciembre 2019",
         "orientation": "h",
         "showlegend": true,
         "textposition": "auto",
         "type": "bar",
         "x": [
          3
         ],
         "xaxis": "x",
         "y": [
          "Diciembre 2019"
         ],
         "yaxis": "y"
        },
        {
         "alignmentgroup": "True",
         "hovertemplate": "Mes=%{y}<br>Conteo=%{x}<extra></extra>",
         "legendgroup": "Enero 2020",
         "marker": {
          "color": "#FFA15A",
          "pattern": {
           "shape": ""
          }
         },
         "name": "Enero 2020",
         "offsetgroup": "Enero 2020",
         "orientation": "h",
         "showlegend": true,
         "textposition": "auto",
         "type": "bar",
         "x": [
          13
         ],
         "xaxis": "x",
         "y": [
          "Enero 2020"
         ],
         "yaxis": "y"
        },
        {
         "alignmentgroup": "True",
         "hovertemplate": "Mes=%{y}<br>Conteo=%{x}<extra></extra>",
         "legendgroup": "Febrero 2020",
         "marker": {
          "color": "#19d3f3",
          "pattern": {
           "shape": ""
          }
         },
         "name": "Febrero 2020",
         "offsetgroup": "Febrero 2020",
         "orientation": "h",
         "showlegend": true,
         "textposition": "auto",
         "type": "bar",
         "x": [
          11
         ],
         "xaxis": "x",
         "y": [
          "Febrero 2020"
         ],
         "yaxis": "y"
        },
        {
         "alignmentgroup": "True",
         "hovertemplate": "Mes=%{y}<br>Conteo=%{x}<extra></extra>",
         "legendgroup": "Marzo 2020",
         "marker": {
          "color": "#FF6692",
          "pattern": {
           "shape": ""
          }
         },
         "name": "Marzo 2020",
         "offsetgroup": "Marzo 2020",
         "orientation": "h",
         "showlegend": true,
         "textposition": "auto",
         "type": "bar",
         "x": [
          14
         ],
         "xaxis": "x",
         "y": [
          "Marzo 2020"
         ],
         "yaxis": "y"
        },
        {
         "alignmentgroup": "True",
         "hovertemplate": "Mes=%{y}<br>Conteo=%{x}<extra></extra>",
         "legendgroup": "Abril 2020",
         "marker": {
          "color": "#B6E880",
          "pattern": {
           "shape": ""
          }
         },
         "name": "Abril 2020",
         "offsetgroup": "Abril 2020",
         "orientation": "h",
         "showlegend": true,
         "textposition": "auto",
         "type": "bar",
         "x": [
          1
         ],
         "xaxis": "x",
         "y": [
          "Abril 2020"
         ],
         "yaxis": "y"
        },
        {
         "alignmentgroup": "True",
         "hovertemplate": "Mes=%{y}<br>Conteo=%{x}<extra></extra>",
         "legendgroup": "Mayo 2020",
         "marker": {
          "color": "#FF97FF",
          "pattern": {
           "shape": ""
          }
         },
         "name": "Mayo 2020",
         "offsetgroup": "Mayo 2020",
         "orientation": "h",
         "showlegend": true,
         "textposition": "auto",
         "type": "bar",
         "x": [
          1
         ],
         "xaxis": "x",
         "y": [
          "Mayo 2020"
         ],
         "yaxis": "y"
        },
        {
         "alignmentgroup": "True",
         "hovertemplate": "Mes=%{y}<br>Conteo=%{x}<extra></extra>",
         "legendgroup": "Junio 2020",
         "marker": {
          "color": "#FECB52",
          "pattern": {
           "shape": ""
          }
         },
         "name": "Junio 2020",
         "offsetgroup": "Junio 2020",
         "orientation": "h",
         "showlegend": true,
         "textposition": "auto",
         "type": "bar",
         "x": [
          2
         ],
         "xaxis": "x",
         "y": [
          "Junio 2020"
         ],
         "yaxis": "y"
        },
        {
         "alignmentgroup": "True",
         "hovertemplate": "Mes=%{y}<br>Conteo=%{x}<extra></extra>",
         "legendgroup": "Julio 2020",
         "marker": {
          "color": "#636efa",
          "pattern": {
           "shape": ""
          }
         },
         "name": "Julio 2020",
         "offsetgroup": "Julio 2020",
         "orientation": "h",
         "showlegend": true,
         "textposition": "auto",
         "type": "bar",
         "x": [
          1
         ],
         "xaxis": "x",
         "y": [
          "Julio 2020"
         ],
         "yaxis": "y"
        },
        {
         "alignmentgroup": "True",
         "hovertemplate": "Mes=%{y}<br>Conteo=%{x}<extra></extra>",
         "legendgroup": "Agosto 2020",
         "marker": {
          "color": "#EF553B",
          "pattern": {
           "shape": ""
          }
         },
         "name": "Agosto 2020",
         "offsetgroup": "Agosto 2020",
         "orientation": "h",
         "showlegend": true,
         "textposition": "auto",
         "type": "bar",
         "x": [
          9
         ],
         "xaxis": "x",
         "y": [
          "Agosto 2020"
         ],
         "yaxis": "y"
        },
        {
         "alignmentgroup": "True",
         "hovertemplate": "Mes=%{y}<br>Conteo=%{x}<extra></extra>",
         "legendgroup": "Septiembre 2020",
         "marker": {
          "color": "#00cc96",
          "pattern": {
           "shape": ""
          }
         },
         "name": "Septiembre 2020",
         "offsetgroup": "Septiembre 2020",
         "orientation": "h",
         "showlegend": true,
         "textposition": "auto",
         "type": "bar",
         "x": [
          1
         ],
         "xaxis": "x",
         "y": [
          "Septiembre 2020"
         ],
         "yaxis": "y"
        },
        {
         "alignmentgroup": "True",
         "hovertemplate": "Mes=%{y}<br>Conteo=%{x}<extra></extra>",
         "legendgroup": "Octubre 2020",
         "marker": {
          "color": "#ab63fa",
          "pattern": {
           "shape": ""
          }
         },
         "name": "Octubre 2020",
         "offsetgroup": "Octubre 2020",
         "orientation": "h",
         "showlegend": true,
         "textposition": "auto",
         "type": "bar",
         "x": [
          10
         ],
         "xaxis": "x",
         "y": [
          "Octubre 2020"
         ],
         "yaxis": "y"
        },
        {
         "alignmentgroup": "True",
         "hovertemplate": "Mes=%{y}<br>Conteo=%{x}<extra></extra>",
         "legendgroup": "Noviembre 2020",
         "marker": {
          "color": "#FFA15A",
          "pattern": {
           "shape": ""
          }
         },
         "name": "Noviembre 2020",
         "offsetgroup": "Noviembre 2020",
         "orientation": "h",
         "showlegend": true,
         "textposition": "auto",
         "type": "bar",
         "x": [
          17
         ],
         "xaxis": "x",
         "y": [
          "Noviembre 2020"
         ],
         "yaxis": "y"
        },
        {
         "alignmentgroup": "True",
         "hovertemplate": "Mes=%{y}<br>Conteo=%{x}<extra></extra>",
         "legendgroup": "Diciembre 2020",
         "marker": {
          "color": "#19d3f3",
          "pattern": {
           "shape": ""
          }
         },
         "name": "Diciembre 2020",
         "offsetgroup": "Diciembre 2020",
         "orientation": "h",
         "showlegend": true,
         "textposition": "auto",
         "type": "bar",
         "x": [
          6
         ],
         "xaxis": "x",
         "y": [
          "Diciembre 2020"
         ],
         "yaxis": "y"
        },
        {
         "alignmentgroup": "True",
         "hovertemplate": "Mes=%{y}<br>Conteo=%{x}<extra></extra>",
         "legendgroup": "Enero 2021",
         "marker": {
          "color": "#FF6692",
          "pattern": {
           "shape": ""
          }
         },
         "name": "Enero 2021",
         "offsetgroup": "Enero 2021",
         "orientation": "h",
         "showlegend": true,
         "textposition": "auto",
         "type": "bar",
         "x": [
          5
         ],
         "xaxis": "x",
         "y": [
          "Enero 2021"
         ],
         "yaxis": "y"
        },
        {
         "alignmentgroup": "True",
         "hovertemplate": "Mes=%{y}<br>Conteo=%{x}<extra></extra>",
         "legendgroup": "Febrero 2021",
         "marker": {
          "color": "#B6E880",
          "pattern": {
           "shape": ""
          }
         },
         "name": "Febrero 2021",
         "offsetgroup": "Febrero 2021",
         "orientation": "h",
         "showlegend": true,
         "textposition": "auto",
         "type": "bar",
         "x": [
          5
         ],
         "xaxis": "x",
         "y": [
          "Febrero 2021"
         ],
         "yaxis": "y"
        },
        {
         "alignmentgroup": "True",
         "hovertemplate": "Mes=%{y}<br>Conteo=%{x}<extra></extra>",
         "legendgroup": "Marzo 2021",
         "marker": {
          "color": "#FF97FF",
          "pattern": {
           "shape": ""
          }
         },
         "name": "Marzo 2021",
         "offsetgroup": "Marzo 2021",
         "orientation": "h",
         "showlegend": true,
         "textposition": "auto",
         "type": "bar",
         "x": [
          9
         ],
         "xaxis": "x",
         "y": [
          "Marzo 2021"
         ],
         "yaxis": "y"
        },
        {
         "alignmentgroup": "True",
         "hovertemplate": "Mes=%{y}<br>Conteo=%{x}<extra></extra>",
         "legendgroup": "Abril 2021",
         "marker": {
          "color": "#FECB52",
          "pattern": {
           "shape": ""
          }
         },
         "name": "Abril 2021",
         "offsetgroup": "Abril 2021",
         "orientation": "h",
         "showlegend": true,
         "textposition": "auto",
         "type": "bar",
         "x": [
          8
         ],
         "xaxis": "x",
         "y": [
          "Abril 2021"
         ],
         "yaxis": "y"
        },
        {
         "alignmentgroup": "True",
         "hovertemplate": "Mes=%{y}<br>Conteo=%{x}<extra></extra>",
         "legendgroup": "Mayo 2021",
         "marker": {
          "color": "#636efa",
          "pattern": {
           "shape": ""
          }
         },
         "name": "Mayo 2021",
         "offsetgroup": "Mayo 2021",
         "orientation": "h",
         "showlegend": true,
         "textposition": "auto",
         "type": "bar",
         "x": [
          5
         ],
         "xaxis": "x",
         "y": [
          "Mayo 2021"
         ],
         "yaxis": "y"
        },
        {
         "alignmentgroup": "True",
         "hovertemplate": "Mes=%{y}<br>Conteo=%{x}<extra></extra>",
         "legendgroup": "Junio 2021",
         "marker": {
          "color": "#EF553B",
          "pattern": {
           "shape": ""
          }
         },
         "name": "Junio 2021",
         "offsetgroup": "Junio 2021",
         "orientation": "h",
         "showlegend": true,
         "textposition": "auto",
         "type": "bar",
         "x": [
          6
         ],
         "xaxis": "x",
         "y": [
          "Junio 2021"
         ],
         "yaxis": "y"
        },
        {
         "alignmentgroup": "True",
         "hovertemplate": "Mes=%{y}<br>Conteo=%{x}<extra></extra>",
         "legendgroup": "Agosto 2021",
         "marker": {
          "color": "#00cc96",
          "pattern": {
           "shape": ""
          }
         },
         "name": "Agosto 2021",
         "offsetgroup": "Agosto 2021",
         "orientation": "h",
         "showlegend": true,
         "textposition": "auto",
         "type": "bar",
         "x": [
          2
         ],
         "xaxis": "x",
         "y": [
          "Agosto 2021"
         ],
         "yaxis": "y"
        },
        {
         "alignmentgroup": "True",
         "hovertemplate": "Mes=%{y}<br>Conteo=%{x}<extra></extra>",
         "legendgroup": "Septiembre 2021",
         "marker": {
          "color": "#ab63fa",
          "pattern": {
           "shape": ""
          }
         },
         "name": "Septiembre 2021",
         "offsetgroup": "Septiembre 2021",
         "orientation": "h",
         "showlegend": true,
         "textposition": "auto",
         "type": "bar",
         "x": [
          2
         ],
         "xaxis": "x",
         "y": [
          "Septiembre 2021"
         ],
         "yaxis": "y"
        },
        {
         "alignmentgroup": "True",
         "hovertemplate": "Mes=%{y}<br>Conteo=%{x}<extra></extra>",
         "legendgroup": "Octubre 2021",
         "marker": {
          "color": "#FFA15A",
          "pattern": {
           "shape": ""
          }
         },
         "name": "Octubre 2021",
         "offsetgroup": "Octubre 2021",
         "orientation": "h",
         "showlegend": true,
         "textposition": "auto",
         "type": "bar",
         "x": [
          5
         ],
         "xaxis": "x",
         "y": [
          "Octubre 2021"
         ],
         "yaxis": "y"
        },
        {
         "alignmentgroup": "True",
         "hovertemplate": "Mes=%{y}<br>Conteo=%{x}<extra></extra>",
         "legendgroup": "Noviembre 2021",
         "marker": {
          "color": "#19d3f3",
          "pattern": {
           "shape": ""
          }
         },
         "name": "Noviembre 2021",
         "offsetgroup": "Noviembre 2021",
         "orientation": "h",
         "showlegend": true,
         "textposition": "auto",
         "type": "bar",
         "x": [
          3
         ],
         "xaxis": "x",
         "y": [
          "Noviembre 2021"
         ],
         "yaxis": "y"
        },
        {
         "alignmentgroup": "True",
         "hovertemplate": "Mes=%{y}<br>Conteo=%{x}<extra></extra>",
         "legendgroup": "Febrero 2022",
         "marker": {
          "color": "#FF6692",
          "pattern": {
           "shape": ""
          }
         },
         "name": "Febrero 2022",
         "offsetgroup": "Febrero 2022",
         "orientation": "h",
         "showlegend": true,
         "textposition": "auto",
         "type": "bar",
         "x": [
          73
         ],
         "xaxis": "x",
         "y": [
          "Febrero 2022"
         ],
         "yaxis": "y"
        },
        {
         "alignmentgroup": "True",
         "hovertemplate": "Mes=%{y}<br>Conteo=%{x}<extra></extra>",
         "legendgroup": "Marzo 2022",
         "marker": {
          "color": "#B6E880",
          "pattern": {
           "shape": ""
          }
         },
         "name": "Marzo 2022",
         "offsetgroup": "Marzo 2022",
         "orientation": "h",
         "showlegend": true,
         "textposition": "auto",
         "type": "bar",
         "x": [
          364
         ],
         "xaxis": "x",
         "y": [
          "Marzo 2022"
         ],
         "yaxis": "y"
        },
        {
         "alignmentgroup": "True",
         "hovertemplate": "Mes=%{y}<br>Conteo=%{x}<extra></extra>",
         "legendgroup": "Abril 2022",
         "marker": {
          "color": "#FF97FF",
          "pattern": {
           "shape": ""
          }
         },
         "name": "Abril 2022",
         "offsetgroup": "Abril 2022",
         "orientation": "h",
         "showlegend": true,
         "textposition": "auto",
         "type": "bar",
         "x": [
          316
         ],
         "xaxis": "x",
         "y": [
          "Abril 2022"
         ],
         "yaxis": "y"
        },
        {
         "alignmentgroup": "True",
         "hovertemplate": "Mes=%{y}<br>Conteo=%{x}<extra></extra>",
         "legendgroup": "Mayo 2022",
         "marker": {
          "color": "#FECB52",
          "pattern": {
           "shape": ""
          }
         },
         "name": "Mayo 2022",
         "offsetgroup": "Mayo 2022",
         "orientation": "h",
         "showlegend": true,
         "textposition": "auto",
         "type": "bar",
         "x": [
          305
         ],
         "xaxis": "x",
         "y": [
          "Mayo 2022"
         ],
         "yaxis": "y"
        },
        {
         "alignmentgroup": "True",
         "hovertemplate": "Mes=%{y}<br>Conteo=%{x}<extra></extra>",
         "legendgroup": "Junio 2022",
         "marker": {
          "color": "#636efa",
          "pattern": {
           "shape": ""
          }
         },
         "name": "Junio 2022",
         "offsetgroup": "Junio 2022",
         "orientation": "h",
         "showlegend": true,
         "textposition": "auto",
         "type": "bar",
         "x": [
          490
         ],
         "xaxis": "x",
         "y": [
          "Junio 2022"
         ],
         "yaxis": "y"
        },
        {
         "alignmentgroup": "True",
         "hovertemplate": "Mes=%{y}<br>Conteo=%{x}<extra></extra>",
         "legendgroup": "Julio 2022",
         "marker": {
          "color": "#EF553B",
          "pattern": {
           "shape": ""
          }
         },
         "name": "Julio 2022",
         "offsetgroup": "Julio 2022",
         "orientation": "h",
         "showlegend": true,
         "textposition": "auto",
         "type": "bar",
         "x": [
          228
         ],
         "xaxis": "x",
         "y": [
          "Julio 2022"
         ],
         "yaxis": "y"
        },
        {
         "alignmentgroup": "True",
         "hovertemplate": "Mes=%{y}<br>Conteo=%{x}<extra></extra>",
         "legendgroup": "Agosto 2022",
         "marker": {
          "color": "#00cc96",
          "pattern": {
           "shape": ""
          }
         },
         "name": "Agosto 2022",
         "offsetgroup": "Agosto 2022",
         "orientation": "h",
         "showlegend": true,
         "textposition": "auto",
         "type": "bar",
         "x": [
          706
         ],
         "xaxis": "x",
         "y": [
          "Agosto 2022"
         ],
         "yaxis": "y"
        },
        {
         "alignmentgroup": "True",
         "hovertemplate": "Mes=%{y}<br>Conteo=%{x}<extra></extra>",
         "legendgroup": "Septiembre 2022",
         "marker": {
          "color": "#ab63fa",
          "pattern": {
           "shape": ""
          }
         },
         "name": "Septiembre 2022",
         "offsetgroup": "Septiembre 2022",
         "orientation": "h",
         "showlegend": true,
         "textposition": "auto",
         "type": "bar",
         "x": [
          238
         ],
         "xaxis": "x",
         "y": [
          "Septiembre 2022"
         ],
         "yaxis": "y"
        }
       ],
       "layout": {
        "autosize": false,
        "barmode": "relative",
        "font": {
         "color": "Ivory"
        },
        "height": 1000,
        "legend": {
         "title": {
          "text": "Mes"
         },
         "tracegroupgap": 0
        },
        "margin": {
         "b": 50,
         "l": 50,
         "r": 30,
         "t": 80
        },
        "paper_bgcolor": "SlateGray",
        "showlegend": false,
        "template": {
         "data": {
          "bar": [
           {
            "error_x": {
             "color": "#2a3f5f"
            },
            "error_y": {
             "color": "#2a3f5f"
            },
            "marker": {
             "line": {
              "color": "#E5ECF6",
              "width": 0.5
             },
             "pattern": {
              "fillmode": "overlay",
              "size": 10,
              "solidity": 0.2
             }
            },
            "type": "bar"
           }
          ],
          "barpolar": [
           {
            "marker": {
             "line": {
              "color": "#E5ECF6",
              "width": 0.5
             },
             "pattern": {
              "fillmode": "overlay",
              "size": 10,
              "solidity": 0.2
             }
            },
            "type": "barpolar"
           }
          ],
          "carpet": [
           {
            "aaxis": {
             "endlinecolor": "#2a3f5f",
             "gridcolor": "white",
             "linecolor": "white",
             "minorgridcolor": "white",
             "startlinecolor": "#2a3f5f"
            },
            "baxis": {
             "endlinecolor": "#2a3f5f",
             "gridcolor": "white",
             "linecolor": "white",
             "minorgridcolor": "white",
             "startlinecolor": "#2a3f5f"
            },
            "type": "carpet"
           }
          ],
          "choropleth": [
           {
            "colorbar": {
             "outlinewidth": 0,
             "ticks": ""
            },
            "type": "choropleth"
           }
          ],
          "contour": [
           {
            "colorbar": {
             "outlinewidth": 0,
             "ticks": ""
            },
            "colorscale": [
             [
              0,
              "#0d0887"
             ],
             [
              0.1111111111111111,
              "#46039f"
             ],
             [
              0.2222222222222222,
              "#7201a8"
             ],
             [
              0.3333333333333333,
              "#9c179e"
             ],
             [
              0.4444444444444444,
              "#bd3786"
             ],
             [
              0.5555555555555556,
              "#d8576b"
             ],
             [
              0.6666666666666666,
              "#ed7953"
             ],
             [
              0.7777777777777778,
              "#fb9f3a"
             ],
             [
              0.8888888888888888,
              "#fdca26"
             ],
             [
              1,
              "#f0f921"
             ]
            ],
            "type": "contour"
           }
          ],
          "contourcarpet": [
           {
            "colorbar": {
             "outlinewidth": 0,
             "ticks": ""
            },
            "type": "contourcarpet"
           }
          ],
          "heatmap": [
           {
            "colorbar": {
             "outlinewidth": 0,
             "ticks": ""
            },
            "colorscale": [
             [
              0,
              "#0d0887"
             ],
             [
              0.1111111111111111,
              "#46039f"
             ],
             [
              0.2222222222222222,
              "#7201a8"
             ],
             [
              0.3333333333333333,
              "#9c179e"
             ],
             [
              0.4444444444444444,
              "#bd3786"
             ],
             [
              0.5555555555555556,
              "#d8576b"
             ],
             [
              0.6666666666666666,
              "#ed7953"
             ],
             [
              0.7777777777777778,
              "#fb9f3a"
             ],
             [
              0.8888888888888888,
              "#fdca26"
             ],
             [
              1,
              "#f0f921"
             ]
            ],
            "type": "heatmap"
           }
          ],
          "heatmapgl": [
           {
            "colorbar": {
             "outlinewidth": 0,
             "ticks": ""
            },
            "colorscale": [
             [
              0,
              "#0d0887"
             ],
             [
              0.1111111111111111,
              "#46039f"
             ],
             [
              0.2222222222222222,
              "#7201a8"
             ],
             [
              0.3333333333333333,
              "#9c179e"
             ],
             [
              0.4444444444444444,
              "#bd3786"
             ],
             [
              0.5555555555555556,
              "#d8576b"
             ],
             [
              0.6666666666666666,
              "#ed7953"
             ],
             [
              0.7777777777777778,
              "#fb9f3a"
             ],
             [
              0.8888888888888888,
              "#fdca26"
             ],
             [
              1,
              "#f0f921"
             ]
            ],
            "type": "heatmapgl"
           }
          ],
          "histogram": [
           {
            "marker": {
             "pattern": {
              "fillmode": "overlay",
              "size": 10,
              "solidity": 0.2
             }
            },
            "type": "histogram"
           }
          ],
          "histogram2d": [
           {
            "colorbar": {
             "outlinewidth": 0,
             "ticks": ""
            },
            "colorscale": [
             [
              0,
              "#0d0887"
             ],
             [
              0.1111111111111111,
              "#46039f"
             ],
             [
              0.2222222222222222,
              "#7201a8"
             ],
             [
              0.3333333333333333,
              "#9c179e"
             ],
             [
              0.4444444444444444,
              "#bd3786"
             ],
             [
              0.5555555555555556,
              "#d8576b"
             ],
             [
              0.6666666666666666,
              "#ed7953"
             ],
             [
              0.7777777777777778,
              "#fb9f3a"
             ],
             [
              0.8888888888888888,
              "#fdca26"
             ],
             [
              1,
              "#f0f921"
             ]
            ],
            "type": "histogram2d"
           }
          ],
          "histogram2dcontour": [
           {
            "colorbar": {
             "outlinewidth": 0,
             "ticks": ""
            },
            "colorscale": [
             [
              0,
              "#0d0887"
             ],
             [
              0.1111111111111111,
              "#46039f"
             ],
             [
              0.2222222222222222,
              "#7201a8"
             ],
             [
              0.3333333333333333,
              "#9c179e"
             ],
             [
              0.4444444444444444,
              "#bd3786"
             ],
             [
              0.5555555555555556,
              "#d8576b"
             ],
             [
              0.6666666666666666,
              "#ed7953"
             ],
             [
              0.7777777777777778,
              "#fb9f3a"
             ],
             [
              0.8888888888888888,
              "#fdca26"
             ],
             [
              1,
              "#f0f921"
             ]
            ],
            "type": "histogram2dcontour"
           }
          ],
          "mesh3d": [
           {
            "colorbar": {
             "outlinewidth": 0,
             "ticks": ""
            },
            "type": "mesh3d"
           }
          ],
          "parcoords": [
           {
            "line": {
             "colorbar": {
              "outlinewidth": 0,
              "ticks": ""
             }
            },
            "type": "parcoords"
           }
          ],
          "pie": [
           {
            "automargin": true,
            "type": "pie"
           }
          ],
          "scatter": [
           {
            "marker": {
             "colorbar": {
              "outlinewidth": 0,
              "ticks": ""
             }
            },
            "type": "scatter"
           }
          ],
          "scatter3d": [
           {
            "line": {
             "colorbar": {
              "outlinewidth": 0,
              "ticks": ""
             }
            },
            "marker": {
             "colorbar": {
              "outlinewidth": 0,
              "ticks": ""
             }
            },
            "type": "scatter3d"
           }
          ],
          "scattercarpet": [
           {
            "marker": {
             "colorbar": {
              "outlinewidth": 0,
              "ticks": ""
             }
            },
            "type": "scattercarpet"
           }
          ],
          "scattergeo": [
           {
            "marker": {
             "colorbar": {
              "outlinewidth": 0,
              "ticks": ""
             }
            },
            "type": "scattergeo"
           }
          ],
          "scattergl": [
           {
            "marker": {
             "colorbar": {
              "outlinewidth": 0,
              "ticks": ""
             }
            },
            "type": "scattergl"
           }
          ],
          "scattermapbox": [
           {
            "marker": {
             "colorbar": {
              "outlinewidth": 0,
              "ticks": ""
             }
            },
            "type": "scattermapbox"
           }
          ],
          "scatterpolar": [
           {
            "marker": {
             "colorbar": {
              "outlinewidth": 0,
              "ticks": ""
             }
            },
            "type": "scatterpolar"
           }
          ],
          "scatterpolargl": [
           {
            "marker": {
             "colorbar": {
              "outlinewidth": 0,
              "ticks": ""
             }
            },
            "type": "scatterpolargl"
           }
          ],
          "scatterternary": [
           {
            "marker": {
             "colorbar": {
              "outlinewidth": 0,
              "ticks": ""
             }
            },
            "type": "scatterternary"
           }
          ],
          "surface": [
           {
            "colorbar": {
             "outlinewidth": 0,
             "ticks": ""
            },
            "colorscale": [
             [
              0,
              "#0d0887"
             ],
             [
              0.1111111111111111,
              "#46039f"
             ],
             [
              0.2222222222222222,
              "#7201a8"
             ],
             [
              0.3333333333333333,
              "#9c179e"
             ],
             [
              0.4444444444444444,
              "#bd3786"
             ],
             [
              0.5555555555555556,
              "#d8576b"
             ],
             [
              0.6666666666666666,
              "#ed7953"
             ],
             [
              0.7777777777777778,
              "#fb9f3a"
             ],
             [
              0.8888888888888888,
              "#fdca26"
             ],
             [
              1,
              "#f0f921"
             ]
            ],
            "type": "surface"
           }
          ],
          "table": [
           {
            "cells": {
             "fill": {
              "color": "#EBF0F8"
             },
             "line": {
              "color": "white"
             }
            },
            "header": {
             "fill": {
              "color": "#C8D4E3"
             },
             "line": {
              "color": "white"
             }
            },
            "type": "table"
           }
          ]
         },
         "layout": {
          "annotationdefaults": {
           "arrowcolor": "#2a3f5f",
           "arrowhead": 0,
           "arrowwidth": 1
          },
          "autotypenumbers": "strict",
          "coloraxis": {
           "colorbar": {
            "outlinewidth": 0,
            "ticks": ""
           }
          },
          "colorscale": {
           "diverging": [
            [
             0,
             "#8e0152"
            ],
            [
             0.1,
             "#c51b7d"
            ],
            [
             0.2,
             "#de77ae"
            ],
            [
             0.3,
             "#f1b6da"
            ],
            [
             0.4,
             "#fde0ef"
            ],
            [
             0.5,
             "#f7f7f7"
            ],
            [
             0.6,
             "#e6f5d0"
            ],
            [
             0.7,
             "#b8e186"
            ],
            [
             0.8,
             "#7fbc41"
            ],
            [
             0.9,
             "#4d9221"
            ],
            [
             1,
             "#276419"
            ]
           ],
           "sequential": [
            [
             0,
             "#0d0887"
            ],
            [
             0.1111111111111111,
             "#46039f"
            ],
            [
             0.2222222222222222,
             "#7201a8"
            ],
            [
             0.3333333333333333,
             "#9c179e"
            ],
            [
             0.4444444444444444,
             "#bd3786"
            ],
            [
             0.5555555555555556,
             "#d8576b"
            ],
            [
             0.6666666666666666,
             "#ed7953"
            ],
            [
             0.7777777777777778,
             "#fb9f3a"
            ],
            [
             0.8888888888888888,
             "#fdca26"
            ],
            [
             1,
             "#f0f921"
            ]
           ],
           "sequentialminus": [
            [
             0,
             "#0d0887"
            ],
            [
             0.1111111111111111,
             "#46039f"
            ],
            [
             0.2222222222222222,
             "#7201a8"
            ],
            [
             0.3333333333333333,
             "#9c179e"
            ],
            [
             0.4444444444444444,
             "#bd3786"
            ],
            [
             0.5555555555555556,
             "#d8576b"
            ],
            [
             0.6666666666666666,
             "#ed7953"
            ],
            [
             0.7777777777777778,
             "#fb9f3a"
            ],
            [
             0.8888888888888888,
             "#fdca26"
            ],
            [
             1,
             "#f0f921"
            ]
           ]
          },
          "colorway": [
           "#636efa",
           "#EF553B",
           "#00cc96",
           "#ab63fa",
           "#FFA15A",
           "#19d3f3",
           "#FF6692",
           "#B6E880",
           "#FF97FF",
           "#FECB52"
          ],
          "font": {
           "color": "#2a3f5f"
          },
          "geo": {
           "bgcolor": "white",
           "lakecolor": "white",
           "landcolor": "#E5ECF6",
           "showlakes": true,
           "showland": true,
           "subunitcolor": "white"
          },
          "hoverlabel": {
           "align": "left"
          },
          "hovermode": "closest",
          "mapbox": {
           "style": "light"
          },
          "paper_bgcolor": "white",
          "plot_bgcolor": "#E5ECF6",
          "polar": {
           "angularaxis": {
            "gridcolor": "white",
            "linecolor": "white",
            "ticks": ""
           },
           "bgcolor": "#E5ECF6",
           "radialaxis": {
            "gridcolor": "white",
            "linecolor": "white",
            "ticks": ""
           }
          },
          "scene": {
           "xaxis": {
            "backgroundcolor": "#E5ECF6",
            "gridcolor": "white",
            "gridwidth": 2,
            "linecolor": "white",
            "showbackground": true,
            "ticks": "",
            "zerolinecolor": "white"
           },
           "yaxis": {
            "backgroundcolor": "#E5ECF6",
            "gridcolor": "white",
            "gridwidth": 2,
            "linecolor": "white",
            "showbackground": true,
            "ticks": "",
            "zerolinecolor": "white"
           },
           "zaxis": {
            "backgroundcolor": "#E5ECF6",
            "gridcolor": "white",
            "gridwidth": 2,
            "linecolor": "white",
            "showbackground": true,
            "ticks": "",
            "zerolinecolor": "white"
           }
          },
          "shapedefaults": {
           "line": {
            "color": "#2a3f5f"
           }
          },
          "ternary": {
           "aaxis": {
            "gridcolor": "white",
            "linecolor": "white",
            "ticks": ""
           },
           "baxis": {
            "gridcolor": "white",
            "linecolor": "white",
            "ticks": ""
           },
           "bgcolor": "#E5ECF6",
           "caxis": {
            "gridcolor": "white",
            "linecolor": "white",
            "ticks": ""
           }
          },
          "title": {
           "x": 0.05
          },
          "xaxis": {
           "automargin": true,
           "gridcolor": "white",
           "linecolor": "white",
           "ticks": "",
           "title": {
            "standoff": 15
           },
           "zerolinecolor": "white",
           "zerolinewidth": 2
          },
          "yaxis": {
           "automargin": true,
           "gridcolor": "white",
           "linecolor": "white",
           "ticks": "",
           "title": {
            "standoff": 15
           },
           "zerolinecolor": "white",
           "zerolinewidth": 2
          }
         }
        },
        "title": {
         "text": "Conteo por Mes"
        },
        "width": 600,
        "xaxis": {
         "anchor": "y",
         "domain": [
          0,
          1
         ],
         "title": {
          "text": "Conteo"
         }
        },
        "yaxis": {
         "anchor": "x",
         "categoryarray": [
          "Septiembre 2022",
          "Agosto 2022",
          "Julio 2022",
          "Junio 2022",
          "Mayo 2022",
          "Abril 2022",
          "Marzo 2022",
          "Febrero 2022",
          "Noviembre 2021",
          "Octubre 2021",
          "Septiembre 2021",
          "Agosto 2021",
          "Junio 2021",
          "Mayo 2021",
          "Abril 2021",
          "Marzo 2021",
          "Febrero 2021",
          "Enero 2021",
          "Diciembre 2020",
          "Noviembre 2020",
          "Octubre 2020",
          "Septiembre 2020",
          "Agosto 2020",
          "Julio 2020",
          "Junio 2020",
          "Mayo 2020",
          "Abril 2020",
          "Marzo 2020",
          "Febrero 2020",
          "Enero 2020",
          "Diciembre 2019",
          "Noviembre 2019",
          "Octubre 2019",
          "Septiembre 2019",
          "Agosto 2019",
          "Julio 2019",
          "Junio 2019",
          "Mayo 2019",
          "Abril 2019",
          "Marzo 2019",
          "Febrero 2019",
          "Enero 2019",
          "Diciembre 2018",
          "Noviembre 2018"
         ],
         "categoryorder": "array",
         "domain": [
          0,
          1
         ],
         "title": {
          "text": "Mes"
         }
        }
       }
      },
      "text/html": [
       "<div>                            <div id=\"0fb5928d-6cca-4fda-a8c0-60850ae7b931\" class=\"plotly-graph-div\" style=\"height:1000px; width:600px;\"></div>            <script type=\"text/javascript\">                require([\"plotly\"], function(Plotly) {                    window.PLOTLYENV=window.PLOTLYENV || {};                                    if (document.getElementById(\"0fb5928d-6cca-4fda-a8c0-60850ae7b931\")) {                    Plotly.newPlot(                        \"0fb5928d-6cca-4fda-a8c0-60850ae7b931\",                        [{\"alignmentgroup\":\"True\",\"hovertemplate\":\"Mes=%{y}<br>Conteo=%{x}<extra></extra>\",\"legendgroup\":\"Noviembre 2018\",\"marker\":{\"color\":\"#636efa\",\"pattern\":{\"shape\":\"\"}},\"name\":\"Noviembre 2018\",\"offsetgroup\":\"Noviembre 2018\",\"orientation\":\"h\",\"showlegend\":true,\"textposition\":\"auto\",\"x\":[1],\"xaxis\":\"x\",\"y\":[\"Noviembre 2018\"],\"yaxis\":\"y\",\"type\":\"bar\"},{\"alignmentgroup\":\"True\",\"hovertemplate\":\"Mes=%{y}<br>Conteo=%{x}<extra></extra>\",\"legendgroup\":\"Diciembre 2018\",\"marker\":{\"color\":\"#EF553B\",\"pattern\":{\"shape\":\"\"}},\"name\":\"Diciembre 2018\",\"offsetgroup\":\"Diciembre 2018\",\"orientation\":\"h\",\"showlegend\":true,\"textposition\":\"auto\",\"x\":[1],\"xaxis\":\"x\",\"y\":[\"Diciembre 2018\"],\"yaxis\":\"y\",\"type\":\"bar\"},{\"alignmentgroup\":\"True\",\"hovertemplate\":\"Mes=%{y}<br>Conteo=%{x}<extra></extra>\",\"legendgroup\":\"Enero 2019\",\"marker\":{\"color\":\"#00cc96\",\"pattern\":{\"shape\":\"\"}},\"name\":\"Enero 2019\",\"offsetgroup\":\"Enero 2019\",\"orientation\":\"h\",\"showlegend\":true,\"textposition\":\"auto\",\"x\":[7],\"xaxis\":\"x\",\"y\":[\"Enero 2019\"],\"yaxis\":\"y\",\"type\":\"bar\"},{\"alignmentgroup\":\"True\",\"hovertemplate\":\"Mes=%{y}<br>Conteo=%{x}<extra></extra>\",\"legendgroup\":\"Febrero 2019\",\"marker\":{\"color\":\"#ab63fa\",\"pattern\":{\"shape\":\"\"}},\"name\":\"Febrero 2019\",\"offsetgroup\":\"Febrero 2019\",\"orientation\":\"h\",\"showlegend\":true,\"textposition\":\"auto\",\"x\":[16],\"xaxis\":\"x\",\"y\":[\"Febrero 2019\"],\"yaxis\":\"y\",\"type\":\"bar\"},{\"alignmentgroup\":\"True\",\"hovertemplate\":\"Mes=%{y}<br>Conteo=%{x}<extra></extra>\",\"legendgroup\":\"Marzo 2019\",\"marker\":{\"color\":\"#FFA15A\",\"pattern\":{\"shape\":\"\"}},\"name\":\"Marzo 2019\",\"offsetgroup\":\"Marzo 2019\",\"orientation\":\"h\",\"showlegend\":true,\"textposition\":\"auto\",\"x\":[15],\"xaxis\":\"x\",\"y\":[\"Marzo 2019\"],\"yaxis\":\"y\",\"type\":\"bar\"},{\"alignmentgroup\":\"True\",\"hovertemplate\":\"Mes=%{y}<br>Conteo=%{x}<extra></extra>\",\"legendgroup\":\"Abril 2019\",\"marker\":{\"color\":\"#19d3f3\",\"pattern\":{\"shape\":\"\"}},\"name\":\"Abril 2019\",\"offsetgroup\":\"Abril 2019\",\"orientation\":\"h\",\"showlegend\":true,\"textposition\":\"auto\",\"x\":[12],\"xaxis\":\"x\",\"y\":[\"Abril 2019\"],\"yaxis\":\"y\",\"type\":\"bar\"},{\"alignmentgroup\":\"True\",\"hovertemplate\":\"Mes=%{y}<br>Conteo=%{x}<extra></extra>\",\"legendgroup\":\"Mayo 2019\",\"marker\":{\"color\":\"#FF6692\",\"pattern\":{\"shape\":\"\"}},\"name\":\"Mayo 2019\",\"offsetgroup\":\"Mayo 2019\",\"orientation\":\"h\",\"showlegend\":true,\"textposition\":\"auto\",\"x\":[28],\"xaxis\":\"x\",\"y\":[\"Mayo 2019\"],\"yaxis\":\"y\",\"type\":\"bar\"},{\"alignmentgroup\":\"True\",\"hovertemplate\":\"Mes=%{y}<br>Conteo=%{x}<extra></extra>\",\"legendgroup\":\"Junio 2019\",\"marker\":{\"color\":\"#B6E880\",\"pattern\":{\"shape\":\"\"}},\"name\":\"Junio 2019\",\"offsetgroup\":\"Junio 2019\",\"orientation\":\"h\",\"showlegend\":true,\"textposition\":\"auto\",\"x\":[18],\"xaxis\":\"x\",\"y\":[\"Junio 2019\"],\"yaxis\":\"y\",\"type\":\"bar\"},{\"alignmentgroup\":\"True\",\"hovertemplate\":\"Mes=%{y}<br>Conteo=%{x}<extra></extra>\",\"legendgroup\":\"Julio 2019\",\"marker\":{\"color\":\"#FF97FF\",\"pattern\":{\"shape\":\"\"}},\"name\":\"Julio 2019\",\"offsetgroup\":\"Julio 2019\",\"orientation\":\"h\",\"showlegend\":true,\"textposition\":\"auto\",\"x\":[9],\"xaxis\":\"x\",\"y\":[\"Julio 2019\"],\"yaxis\":\"y\",\"type\":\"bar\"},{\"alignmentgroup\":\"True\",\"hovertemplate\":\"Mes=%{y}<br>Conteo=%{x}<extra></extra>\",\"legendgroup\":\"Agosto 2019\",\"marker\":{\"color\":\"#FECB52\",\"pattern\":{\"shape\":\"\"}},\"name\":\"Agosto 2019\",\"offsetgroup\":\"Agosto 2019\",\"orientation\":\"h\",\"showlegend\":true,\"textposition\":\"auto\",\"x\":[28],\"xaxis\":\"x\",\"y\":[\"Agosto 2019\"],\"yaxis\":\"y\",\"type\":\"bar\"},{\"alignmentgroup\":\"True\",\"hovertemplate\":\"Mes=%{y}<br>Conteo=%{x}<extra></extra>\",\"legendgroup\":\"Septiembre 2019\",\"marker\":{\"color\":\"#636efa\",\"pattern\":{\"shape\":\"\"}},\"name\":\"Septiembre 2019\",\"offsetgroup\":\"Septiembre 2019\",\"orientation\":\"h\",\"showlegend\":true,\"textposition\":\"auto\",\"x\":[35],\"xaxis\":\"x\",\"y\":[\"Septiembre 2019\"],\"yaxis\":\"y\",\"type\":\"bar\"},{\"alignmentgroup\":\"True\",\"hovertemplate\":\"Mes=%{y}<br>Conteo=%{x}<extra></extra>\",\"legendgroup\":\"Octubre 2019\",\"marker\":{\"color\":\"#EF553B\",\"pattern\":{\"shape\":\"\"}},\"name\":\"Octubre 2019\",\"offsetgroup\":\"Octubre 2019\",\"orientation\":\"h\",\"showlegend\":true,\"textposition\":\"auto\",\"x\":[32],\"xaxis\":\"x\",\"y\":[\"Octubre 2019\"],\"yaxis\":\"y\",\"type\":\"bar\"},{\"alignmentgroup\":\"True\",\"hovertemplate\":\"Mes=%{y}<br>Conteo=%{x}<extra></extra>\",\"legendgroup\":\"Noviembre 2019\",\"marker\":{\"color\":\"#00cc96\",\"pattern\":{\"shape\":\"\"}},\"name\":\"Noviembre 2019\",\"offsetgroup\":\"Noviembre 2019\",\"orientation\":\"h\",\"showlegend\":true,\"textposition\":\"auto\",\"x\":[38],\"xaxis\":\"x\",\"y\":[\"Noviembre 2019\"],\"yaxis\":\"y\",\"type\":\"bar\"},{\"alignmentgroup\":\"True\",\"hovertemplate\":\"Mes=%{y}<br>Conteo=%{x}<extra></extra>\",\"legendgroup\":\"Diciembre 2019\",\"marker\":{\"color\":\"#ab63fa\",\"pattern\":{\"shape\":\"\"}},\"name\":\"Diciembre 2019\",\"offsetgroup\":\"Diciembre 2019\",\"orientation\":\"h\",\"showlegend\":true,\"textposition\":\"auto\",\"x\":[3],\"xaxis\":\"x\",\"y\":[\"Diciembre 2019\"],\"yaxis\":\"y\",\"type\":\"bar\"},{\"alignmentgroup\":\"True\",\"hovertemplate\":\"Mes=%{y}<br>Conteo=%{x}<extra></extra>\",\"legendgroup\":\"Enero 2020\",\"marker\":{\"color\":\"#FFA15A\",\"pattern\":{\"shape\":\"\"}},\"name\":\"Enero 2020\",\"offsetgroup\":\"Enero 2020\",\"orientation\":\"h\",\"showlegend\":true,\"textposition\":\"auto\",\"x\":[13],\"xaxis\":\"x\",\"y\":[\"Enero 2020\"],\"yaxis\":\"y\",\"type\":\"bar\"},{\"alignmentgroup\":\"True\",\"hovertemplate\":\"Mes=%{y}<br>Conteo=%{x}<extra></extra>\",\"legendgroup\":\"Febrero 2020\",\"marker\":{\"color\":\"#19d3f3\",\"pattern\":{\"shape\":\"\"}},\"name\":\"Febrero 2020\",\"offsetgroup\":\"Febrero 2020\",\"orientation\":\"h\",\"showlegend\":true,\"textposition\":\"auto\",\"x\":[11],\"xaxis\":\"x\",\"y\":[\"Febrero 2020\"],\"yaxis\":\"y\",\"type\":\"bar\"},{\"alignmentgroup\":\"True\",\"hovertemplate\":\"Mes=%{y}<br>Conteo=%{x}<extra></extra>\",\"legendgroup\":\"Marzo 2020\",\"marker\":{\"color\":\"#FF6692\",\"pattern\":{\"shape\":\"\"}},\"name\":\"Marzo 2020\",\"offsetgroup\":\"Marzo 2020\",\"orientation\":\"h\",\"showlegend\":true,\"textposition\":\"auto\",\"x\":[14],\"xaxis\":\"x\",\"y\":[\"Marzo 2020\"],\"yaxis\":\"y\",\"type\":\"bar\"},{\"alignmentgroup\":\"True\",\"hovertemplate\":\"Mes=%{y}<br>Conteo=%{x}<extra></extra>\",\"legendgroup\":\"Abril 2020\",\"marker\":{\"color\":\"#B6E880\",\"pattern\":{\"shape\":\"\"}},\"name\":\"Abril 2020\",\"offsetgroup\":\"Abril 2020\",\"orientation\":\"h\",\"showlegend\":true,\"textposition\":\"auto\",\"x\":[1],\"xaxis\":\"x\",\"y\":[\"Abril 2020\"],\"yaxis\":\"y\",\"type\":\"bar\"},{\"alignmentgroup\":\"True\",\"hovertemplate\":\"Mes=%{y}<br>Conteo=%{x}<extra></extra>\",\"legendgroup\":\"Mayo 2020\",\"marker\":{\"color\":\"#FF97FF\",\"pattern\":{\"shape\":\"\"}},\"name\":\"Mayo 2020\",\"offsetgroup\":\"Mayo 2020\",\"orientation\":\"h\",\"showlegend\":true,\"textposition\":\"auto\",\"x\":[1],\"xaxis\":\"x\",\"y\":[\"Mayo 2020\"],\"yaxis\":\"y\",\"type\":\"bar\"},{\"alignmentgroup\":\"True\",\"hovertemplate\":\"Mes=%{y}<br>Conteo=%{x}<extra></extra>\",\"legendgroup\":\"Junio 2020\",\"marker\":{\"color\":\"#FECB52\",\"pattern\":{\"shape\":\"\"}},\"name\":\"Junio 2020\",\"offsetgroup\":\"Junio 2020\",\"orientation\":\"h\",\"showlegend\":true,\"textposition\":\"auto\",\"x\":[2],\"xaxis\":\"x\",\"y\":[\"Junio 2020\"],\"yaxis\":\"y\",\"type\":\"bar\"},{\"alignmentgroup\":\"True\",\"hovertemplate\":\"Mes=%{y}<br>Conteo=%{x}<extra></extra>\",\"legendgroup\":\"Julio 2020\",\"marker\":{\"color\":\"#636efa\",\"pattern\":{\"shape\":\"\"}},\"name\":\"Julio 2020\",\"offsetgroup\":\"Julio 2020\",\"orientation\":\"h\",\"showlegend\":true,\"textposition\":\"auto\",\"x\":[1],\"xaxis\":\"x\",\"y\":[\"Julio 2020\"],\"yaxis\":\"y\",\"type\":\"bar\"},{\"alignmentgroup\":\"True\",\"hovertemplate\":\"Mes=%{y}<br>Conteo=%{x}<extra></extra>\",\"legendgroup\":\"Agosto 2020\",\"marker\":{\"color\":\"#EF553B\",\"pattern\":{\"shape\":\"\"}},\"name\":\"Agosto 2020\",\"offsetgroup\":\"Agosto 2020\",\"orientation\":\"h\",\"showlegend\":true,\"textposition\":\"auto\",\"x\":[9],\"xaxis\":\"x\",\"y\":[\"Agosto 2020\"],\"yaxis\":\"y\",\"type\":\"bar\"},{\"alignmentgroup\":\"True\",\"hovertemplate\":\"Mes=%{y}<br>Conteo=%{x}<extra></extra>\",\"legendgroup\":\"Septiembre 2020\",\"marker\":{\"color\":\"#00cc96\",\"pattern\":{\"shape\":\"\"}},\"name\":\"Septiembre 2020\",\"offsetgroup\":\"Septiembre 2020\",\"orientation\":\"h\",\"showlegend\":true,\"textposition\":\"auto\",\"x\":[1],\"xaxis\":\"x\",\"y\":[\"Septiembre 2020\"],\"yaxis\":\"y\",\"type\":\"bar\"},{\"alignmentgroup\":\"True\",\"hovertemplate\":\"Mes=%{y}<br>Conteo=%{x}<extra></extra>\",\"legendgroup\":\"Octubre 2020\",\"marker\":{\"color\":\"#ab63fa\",\"pattern\":{\"shape\":\"\"}},\"name\":\"Octubre 2020\",\"offsetgroup\":\"Octubre 2020\",\"orientation\":\"h\",\"showlegend\":true,\"textposition\":\"auto\",\"x\":[10],\"xaxis\":\"x\",\"y\":[\"Octubre 2020\"],\"yaxis\":\"y\",\"type\":\"bar\"},{\"alignmentgroup\":\"True\",\"hovertemplate\":\"Mes=%{y}<br>Conteo=%{x}<extra></extra>\",\"legendgroup\":\"Noviembre 2020\",\"marker\":{\"color\":\"#FFA15A\",\"pattern\":{\"shape\":\"\"}},\"name\":\"Noviembre 2020\",\"offsetgroup\":\"Noviembre 2020\",\"orientation\":\"h\",\"showlegend\":true,\"textposition\":\"auto\",\"x\":[17],\"xaxis\":\"x\",\"y\":[\"Noviembre 2020\"],\"yaxis\":\"y\",\"type\":\"bar\"},{\"alignmentgroup\":\"True\",\"hovertemplate\":\"Mes=%{y}<br>Conteo=%{x}<extra></extra>\",\"legendgroup\":\"Diciembre 2020\",\"marker\":{\"color\":\"#19d3f3\",\"pattern\":{\"shape\":\"\"}},\"name\":\"Diciembre 2020\",\"offsetgroup\":\"Diciembre 2020\",\"orientation\":\"h\",\"showlegend\":true,\"textposition\":\"auto\",\"x\":[6],\"xaxis\":\"x\",\"y\":[\"Diciembre 2020\"],\"yaxis\":\"y\",\"type\":\"bar\"},{\"alignmentgroup\":\"True\",\"hovertemplate\":\"Mes=%{y}<br>Conteo=%{x}<extra></extra>\",\"legendgroup\":\"Enero 2021\",\"marker\":{\"color\":\"#FF6692\",\"pattern\":{\"shape\":\"\"}},\"name\":\"Enero 2021\",\"offsetgroup\":\"Enero 2021\",\"orientation\":\"h\",\"showlegend\":true,\"textposition\":\"auto\",\"x\":[5],\"xaxis\":\"x\",\"y\":[\"Enero 2021\"],\"yaxis\":\"y\",\"type\":\"bar\"},{\"alignmentgroup\":\"True\",\"hovertemplate\":\"Mes=%{y}<br>Conteo=%{x}<extra></extra>\",\"legendgroup\":\"Febrero 2021\",\"marker\":{\"color\":\"#B6E880\",\"pattern\":{\"shape\":\"\"}},\"name\":\"Febrero 2021\",\"offsetgroup\":\"Febrero 2021\",\"orientation\":\"h\",\"showlegend\":true,\"textposition\":\"auto\",\"x\":[5],\"xaxis\":\"x\",\"y\":[\"Febrero 2021\"],\"yaxis\":\"y\",\"type\":\"bar\"},{\"alignmentgroup\":\"True\",\"hovertemplate\":\"Mes=%{y}<br>Conteo=%{x}<extra></extra>\",\"legendgroup\":\"Marzo 2021\",\"marker\":{\"color\":\"#FF97FF\",\"pattern\":{\"shape\":\"\"}},\"name\":\"Marzo 2021\",\"offsetgroup\":\"Marzo 2021\",\"orientation\":\"h\",\"showlegend\":true,\"textposition\":\"auto\",\"x\":[9],\"xaxis\":\"x\",\"y\":[\"Marzo 2021\"],\"yaxis\":\"y\",\"type\":\"bar\"},{\"alignmentgroup\":\"True\",\"hovertemplate\":\"Mes=%{y}<br>Conteo=%{x}<extra></extra>\",\"legendgroup\":\"Abril 2021\",\"marker\":{\"color\":\"#FECB52\",\"pattern\":{\"shape\":\"\"}},\"name\":\"Abril 2021\",\"offsetgroup\":\"Abril 2021\",\"orientation\":\"h\",\"showlegend\":true,\"textposition\":\"auto\",\"x\":[8],\"xaxis\":\"x\",\"y\":[\"Abril 2021\"],\"yaxis\":\"y\",\"type\":\"bar\"},{\"alignmentgroup\":\"True\",\"hovertemplate\":\"Mes=%{y}<br>Conteo=%{x}<extra></extra>\",\"legendgroup\":\"Mayo 2021\",\"marker\":{\"color\":\"#636efa\",\"pattern\":{\"shape\":\"\"}},\"name\":\"Mayo 2021\",\"offsetgroup\":\"Mayo 2021\",\"orientation\":\"h\",\"showlegend\":true,\"textposition\":\"auto\",\"x\":[5],\"xaxis\":\"x\",\"y\":[\"Mayo 2021\"],\"yaxis\":\"y\",\"type\":\"bar\"},{\"alignmentgroup\":\"True\",\"hovertemplate\":\"Mes=%{y}<br>Conteo=%{x}<extra></extra>\",\"legendgroup\":\"Junio 2021\",\"marker\":{\"color\":\"#EF553B\",\"pattern\":{\"shape\":\"\"}},\"name\":\"Junio 2021\",\"offsetgroup\":\"Junio 2021\",\"orientation\":\"h\",\"showlegend\":true,\"textposition\":\"auto\",\"x\":[6],\"xaxis\":\"x\",\"y\":[\"Junio 2021\"],\"yaxis\":\"y\",\"type\":\"bar\"},{\"alignmentgroup\":\"True\",\"hovertemplate\":\"Mes=%{y}<br>Conteo=%{x}<extra></extra>\",\"legendgroup\":\"Agosto 2021\",\"marker\":{\"color\":\"#00cc96\",\"pattern\":{\"shape\":\"\"}},\"name\":\"Agosto 2021\",\"offsetgroup\":\"Agosto 2021\",\"orientation\":\"h\",\"showlegend\":true,\"textposition\":\"auto\",\"x\":[2],\"xaxis\":\"x\",\"y\":[\"Agosto 2021\"],\"yaxis\":\"y\",\"type\":\"bar\"},{\"alignmentgroup\":\"True\",\"hovertemplate\":\"Mes=%{y}<br>Conteo=%{x}<extra></extra>\",\"legendgroup\":\"Septiembre 2021\",\"marker\":{\"color\":\"#ab63fa\",\"pattern\":{\"shape\":\"\"}},\"name\":\"Septiembre 2021\",\"offsetgroup\":\"Septiembre 2021\",\"orientation\":\"h\",\"showlegend\":true,\"textposition\":\"auto\",\"x\":[2],\"xaxis\":\"x\",\"y\":[\"Septiembre 2021\"],\"yaxis\":\"y\",\"type\":\"bar\"},{\"alignmentgroup\":\"True\",\"hovertemplate\":\"Mes=%{y}<br>Conteo=%{x}<extra></extra>\",\"legendgroup\":\"Octubre 2021\",\"marker\":{\"color\":\"#FFA15A\",\"pattern\":{\"shape\":\"\"}},\"name\":\"Octubre 2021\",\"offsetgroup\":\"Octubre 2021\",\"orientation\":\"h\",\"showlegend\":true,\"textposition\":\"auto\",\"x\":[5],\"xaxis\":\"x\",\"y\":[\"Octubre 2021\"],\"yaxis\":\"y\",\"type\":\"bar\"},{\"alignmentgroup\":\"True\",\"hovertemplate\":\"Mes=%{y}<br>Conteo=%{x}<extra></extra>\",\"legendgroup\":\"Noviembre 2021\",\"marker\":{\"color\":\"#19d3f3\",\"pattern\":{\"shape\":\"\"}},\"name\":\"Noviembre 2021\",\"offsetgroup\":\"Noviembre 2021\",\"orientation\":\"h\",\"showlegend\":true,\"textposition\":\"auto\",\"x\":[3],\"xaxis\":\"x\",\"y\":[\"Noviembre 2021\"],\"yaxis\":\"y\",\"type\":\"bar\"},{\"alignmentgroup\":\"True\",\"hovertemplate\":\"Mes=%{y}<br>Conteo=%{x}<extra></extra>\",\"legendgroup\":\"Febrero 2022\",\"marker\":{\"color\":\"#FF6692\",\"pattern\":{\"shape\":\"\"}},\"name\":\"Febrero 2022\",\"offsetgroup\":\"Febrero 2022\",\"orientation\":\"h\",\"showlegend\":true,\"textposition\":\"auto\",\"x\":[73],\"xaxis\":\"x\",\"y\":[\"Febrero 2022\"],\"yaxis\":\"y\",\"type\":\"bar\"},{\"alignmentgroup\":\"True\",\"hovertemplate\":\"Mes=%{y}<br>Conteo=%{x}<extra></extra>\",\"legendgroup\":\"Marzo 2022\",\"marker\":{\"color\":\"#B6E880\",\"pattern\":{\"shape\":\"\"}},\"name\":\"Marzo 2022\",\"offsetgroup\":\"Marzo 2022\",\"orientation\":\"h\",\"showlegend\":true,\"textposition\":\"auto\",\"x\":[364],\"xaxis\":\"x\",\"y\":[\"Marzo 2022\"],\"yaxis\":\"y\",\"type\":\"bar\"},{\"alignmentgroup\":\"True\",\"hovertemplate\":\"Mes=%{y}<br>Conteo=%{x}<extra></extra>\",\"legendgroup\":\"Abril 2022\",\"marker\":{\"color\":\"#FF97FF\",\"pattern\":{\"shape\":\"\"}},\"name\":\"Abril 2022\",\"offsetgroup\":\"Abril 2022\",\"orientation\":\"h\",\"showlegend\":true,\"textposition\":\"auto\",\"x\":[316],\"xaxis\":\"x\",\"y\":[\"Abril 2022\"],\"yaxis\":\"y\",\"type\":\"bar\"},{\"alignmentgroup\":\"True\",\"hovertemplate\":\"Mes=%{y}<br>Conteo=%{x}<extra></extra>\",\"legendgroup\":\"Mayo 2022\",\"marker\":{\"color\":\"#FECB52\",\"pattern\":{\"shape\":\"\"}},\"name\":\"Mayo 2022\",\"offsetgroup\":\"Mayo 2022\",\"orientation\":\"h\",\"showlegend\":true,\"textposition\":\"auto\",\"x\":[305],\"xaxis\":\"x\",\"y\":[\"Mayo 2022\"],\"yaxis\":\"y\",\"type\":\"bar\"},{\"alignmentgroup\":\"True\",\"hovertemplate\":\"Mes=%{y}<br>Conteo=%{x}<extra></extra>\",\"legendgroup\":\"Junio 2022\",\"marker\":{\"color\":\"#636efa\",\"pattern\":{\"shape\":\"\"}},\"name\":\"Junio 2022\",\"offsetgroup\":\"Junio 2022\",\"orientation\":\"h\",\"showlegend\":true,\"textposition\":\"auto\",\"x\":[490],\"xaxis\":\"x\",\"y\":[\"Junio 2022\"],\"yaxis\":\"y\",\"type\":\"bar\"},{\"alignmentgroup\":\"True\",\"hovertemplate\":\"Mes=%{y}<br>Conteo=%{x}<extra></extra>\",\"legendgroup\":\"Julio 2022\",\"marker\":{\"color\":\"#EF553B\",\"pattern\":{\"shape\":\"\"}},\"name\":\"Julio 2022\",\"offsetgroup\":\"Julio 2022\",\"orientation\":\"h\",\"showlegend\":true,\"textposition\":\"auto\",\"x\":[228],\"xaxis\":\"x\",\"y\":[\"Julio 2022\"],\"yaxis\":\"y\",\"type\":\"bar\"},{\"alignmentgroup\":\"True\",\"hovertemplate\":\"Mes=%{y}<br>Conteo=%{x}<extra></extra>\",\"legendgroup\":\"Agosto 2022\",\"marker\":{\"color\":\"#00cc96\",\"pattern\":{\"shape\":\"\"}},\"name\":\"Agosto 2022\",\"offsetgroup\":\"Agosto 2022\",\"orientation\":\"h\",\"showlegend\":true,\"textposition\":\"auto\",\"x\":[706],\"xaxis\":\"x\",\"y\":[\"Agosto 2022\"],\"yaxis\":\"y\",\"type\":\"bar\"},{\"alignmentgroup\":\"True\",\"hovertemplate\":\"Mes=%{y}<br>Conteo=%{x}<extra></extra>\",\"legendgroup\":\"Septiembre 2022\",\"marker\":{\"color\":\"#ab63fa\",\"pattern\":{\"shape\":\"\"}},\"name\":\"Septiembre 2022\",\"offsetgroup\":\"Septiembre 2022\",\"orientation\":\"h\",\"showlegend\":true,\"textposition\":\"auto\",\"x\":[238],\"xaxis\":\"x\",\"y\":[\"Septiembre 2022\"],\"yaxis\":\"y\",\"type\":\"bar\"}],                        {\"template\":{\"data\":{\"bar\":[{\"error_x\":{\"color\":\"#2a3f5f\"},\"error_y\":{\"color\":\"#2a3f5f\"},\"marker\":{\"line\":{\"color\":\"#E5ECF6\",\"width\":0.5},\"pattern\":{\"fillmode\":\"overlay\",\"size\":10,\"solidity\":0.2}},\"type\":\"bar\"}],\"barpolar\":[{\"marker\":{\"line\":{\"color\":\"#E5ECF6\",\"width\":0.5},\"pattern\":{\"fillmode\":\"overlay\",\"size\":10,\"solidity\":0.2}},\"type\":\"barpolar\"}],\"carpet\":[{\"aaxis\":{\"endlinecolor\":\"#2a3f5f\",\"gridcolor\":\"white\",\"linecolor\":\"white\",\"minorgridcolor\":\"white\",\"startlinecolor\":\"#2a3f5f\"},\"baxis\":{\"endlinecolor\":\"#2a3f5f\",\"gridcolor\":\"white\",\"linecolor\":\"white\",\"minorgridcolor\":\"white\",\"startlinecolor\":\"#2a3f5f\"},\"type\":\"carpet\"}],\"choropleth\":[{\"colorbar\":{\"outlinewidth\":0,\"ticks\":\"\"},\"type\":\"choropleth\"}],\"contour\":[{\"colorbar\":{\"outlinewidth\":0,\"ticks\":\"\"},\"colorscale\":[[0.0,\"#0d0887\"],[0.1111111111111111,\"#46039f\"],[0.2222222222222222,\"#7201a8\"],[0.3333333333333333,\"#9c179e\"],[0.4444444444444444,\"#bd3786\"],[0.5555555555555556,\"#d8576b\"],[0.6666666666666666,\"#ed7953\"],[0.7777777777777778,\"#fb9f3a\"],[0.8888888888888888,\"#fdca26\"],[1.0,\"#f0f921\"]],\"type\":\"contour\"}],\"contourcarpet\":[{\"colorbar\":{\"outlinewidth\":0,\"ticks\":\"\"},\"type\":\"contourcarpet\"}],\"heatmap\":[{\"colorbar\":{\"outlinewidth\":0,\"ticks\":\"\"},\"colorscale\":[[0.0,\"#0d0887\"],[0.1111111111111111,\"#46039f\"],[0.2222222222222222,\"#7201a8\"],[0.3333333333333333,\"#9c179e\"],[0.4444444444444444,\"#bd3786\"],[0.5555555555555556,\"#d8576b\"],[0.6666666666666666,\"#ed7953\"],[0.7777777777777778,\"#fb9f3a\"],[0.8888888888888888,\"#fdca26\"],[1.0,\"#f0f921\"]],\"type\":\"heatmap\"}],\"heatmapgl\":[{\"colorbar\":{\"outlinewidth\":0,\"ticks\":\"\"},\"colorscale\":[[0.0,\"#0d0887\"],[0.1111111111111111,\"#46039f\"],[0.2222222222222222,\"#7201a8\"],[0.3333333333333333,\"#9c179e\"],[0.4444444444444444,\"#bd3786\"],[0.5555555555555556,\"#d8576b\"],[0.6666666666666666,\"#ed7953\"],[0.7777777777777778,\"#fb9f3a\"],[0.8888888888888888,\"#fdca26\"],[1.0,\"#f0f921\"]],\"type\":\"heatmapgl\"}],\"histogram\":[{\"marker\":{\"pattern\":{\"fillmode\":\"overlay\",\"size\":10,\"solidity\":0.2}},\"type\":\"histogram\"}],\"histogram2d\":[{\"colorbar\":{\"outlinewidth\":0,\"ticks\":\"\"},\"colorscale\":[[0.0,\"#0d0887\"],[0.1111111111111111,\"#46039f\"],[0.2222222222222222,\"#7201a8\"],[0.3333333333333333,\"#9c179e\"],[0.4444444444444444,\"#bd3786\"],[0.5555555555555556,\"#d8576b\"],[0.6666666666666666,\"#ed7953\"],[0.7777777777777778,\"#fb9f3a\"],[0.8888888888888888,\"#fdca26\"],[1.0,\"#f0f921\"]],\"type\":\"histogram2d\"}],\"histogram2dcontour\":[{\"colorbar\":{\"outlinewidth\":0,\"ticks\":\"\"},\"colorscale\":[[0.0,\"#0d0887\"],[0.1111111111111111,\"#46039f\"],[0.2222222222222222,\"#7201a8\"],[0.3333333333333333,\"#9c179e\"],[0.4444444444444444,\"#bd3786\"],[0.5555555555555556,\"#d8576b\"],[0.6666666666666666,\"#ed7953\"],[0.7777777777777778,\"#fb9f3a\"],[0.8888888888888888,\"#fdca26\"],[1.0,\"#f0f921\"]],\"type\":\"histogram2dcontour\"}],\"mesh3d\":[{\"colorbar\":{\"outlinewidth\":0,\"ticks\":\"\"},\"type\":\"mesh3d\"}],\"parcoords\":[{\"line\":{\"colorbar\":{\"outlinewidth\":0,\"ticks\":\"\"}},\"type\":\"parcoords\"}],\"pie\":[{\"automargin\":true,\"type\":\"pie\"}],\"scatter\":[{\"marker\":{\"colorbar\":{\"outlinewidth\":0,\"ticks\":\"\"}},\"type\":\"scatter\"}],\"scatter3d\":[{\"line\":{\"colorbar\":{\"outlinewidth\":0,\"ticks\":\"\"}},\"marker\":{\"colorbar\":{\"outlinewidth\":0,\"ticks\":\"\"}},\"type\":\"scatter3d\"}],\"scattercarpet\":[{\"marker\":{\"colorbar\":{\"outlinewidth\":0,\"ticks\":\"\"}},\"type\":\"scattercarpet\"}],\"scattergeo\":[{\"marker\":{\"colorbar\":{\"outlinewidth\":0,\"ticks\":\"\"}},\"type\":\"scattergeo\"}],\"scattergl\":[{\"marker\":{\"colorbar\":{\"outlinewidth\":0,\"ticks\":\"\"}},\"type\":\"scattergl\"}],\"scattermapbox\":[{\"marker\":{\"colorbar\":{\"outlinewidth\":0,\"ticks\":\"\"}},\"type\":\"scattermapbox\"}],\"scatterpolar\":[{\"marker\":{\"colorbar\":{\"outlinewidth\":0,\"ticks\":\"\"}},\"type\":\"scatterpolar\"}],\"scatterpolargl\":[{\"marker\":{\"colorbar\":{\"outlinewidth\":0,\"ticks\":\"\"}},\"type\":\"scatterpolargl\"}],\"scatterternary\":[{\"marker\":{\"colorbar\":{\"outlinewidth\":0,\"ticks\":\"\"}},\"type\":\"scatterternary\"}],\"surface\":[{\"colorbar\":{\"outlinewidth\":0,\"ticks\":\"\"},\"colorscale\":[[0.0,\"#0d0887\"],[0.1111111111111111,\"#46039f\"],[0.2222222222222222,\"#7201a8\"],[0.3333333333333333,\"#9c179e\"],[0.4444444444444444,\"#bd3786\"],[0.5555555555555556,\"#d8576b\"],[0.6666666666666666,\"#ed7953\"],[0.7777777777777778,\"#fb9f3a\"],[0.8888888888888888,\"#fdca26\"],[1.0,\"#f0f921\"]],\"type\":\"surface\"}],\"table\":[{\"cells\":{\"fill\":{\"color\":\"#EBF0F8\"},\"line\":{\"color\":\"white\"}},\"header\":{\"fill\":{\"color\":\"#C8D4E3\"},\"line\":{\"color\":\"white\"}},\"type\":\"table\"}]},\"layout\":{\"annotationdefaults\":{\"arrowcolor\":\"#2a3f5f\",\"arrowhead\":0,\"arrowwidth\":1},\"autotypenumbers\":\"strict\",\"coloraxis\":{\"colorbar\":{\"outlinewidth\":0,\"ticks\":\"\"}},\"colorscale\":{\"diverging\":[[0,\"#8e0152\"],[0.1,\"#c51b7d\"],[0.2,\"#de77ae\"],[0.3,\"#f1b6da\"],[0.4,\"#fde0ef\"],[0.5,\"#f7f7f7\"],[0.6,\"#e6f5d0\"],[0.7,\"#b8e186\"],[0.8,\"#7fbc41\"],[0.9,\"#4d9221\"],[1,\"#276419\"]],\"sequential\":[[0.0,\"#0d0887\"],[0.1111111111111111,\"#46039f\"],[0.2222222222222222,\"#7201a8\"],[0.3333333333333333,\"#9c179e\"],[0.4444444444444444,\"#bd3786\"],[0.5555555555555556,\"#d8576b\"],[0.6666666666666666,\"#ed7953\"],[0.7777777777777778,\"#fb9f3a\"],[0.8888888888888888,\"#fdca26\"],[1.0,\"#f0f921\"]],\"sequentialminus\":[[0.0,\"#0d0887\"],[0.1111111111111111,\"#46039f\"],[0.2222222222222222,\"#7201a8\"],[0.3333333333333333,\"#9c179e\"],[0.4444444444444444,\"#bd3786\"],[0.5555555555555556,\"#d8576b\"],[0.6666666666666666,\"#ed7953\"],[0.7777777777777778,\"#fb9f3a\"],[0.8888888888888888,\"#fdca26\"],[1.0,\"#f0f921\"]]},\"colorway\":[\"#636efa\",\"#EF553B\",\"#00cc96\",\"#ab63fa\",\"#FFA15A\",\"#19d3f3\",\"#FF6692\",\"#B6E880\",\"#FF97FF\",\"#FECB52\"],\"font\":{\"color\":\"#2a3f5f\"},\"geo\":{\"bgcolor\":\"white\",\"lakecolor\":\"white\",\"landcolor\":\"#E5ECF6\",\"showlakes\":true,\"showland\":true,\"subunitcolor\":\"white\"},\"hoverlabel\":{\"align\":\"left\"},\"hovermode\":\"closest\",\"mapbox\":{\"style\":\"light\"},\"paper_bgcolor\":\"white\",\"plot_bgcolor\":\"#E5ECF6\",\"polar\":{\"angularaxis\":{\"gridcolor\":\"white\",\"linecolor\":\"white\",\"ticks\":\"\"},\"bgcolor\":\"#E5ECF6\",\"radialaxis\":{\"gridcolor\":\"white\",\"linecolor\":\"white\",\"ticks\":\"\"}},\"scene\":{\"xaxis\":{\"backgroundcolor\":\"#E5ECF6\",\"gridcolor\":\"white\",\"gridwidth\":2,\"linecolor\":\"white\",\"showbackground\":true,\"ticks\":\"\",\"zerolinecolor\":\"white\"},\"yaxis\":{\"backgroundcolor\":\"#E5ECF6\",\"gridcolor\":\"white\",\"gridwidth\":2,\"linecolor\":\"white\",\"showbackground\":true,\"ticks\":\"\",\"zerolinecolor\":\"white\"},\"zaxis\":{\"backgroundcolor\":\"#E5ECF6\",\"gridcolor\":\"white\",\"gridwidth\":2,\"linecolor\":\"white\",\"showbackground\":true,\"ticks\":\"\",\"zerolinecolor\":\"white\"}},\"shapedefaults\":{\"line\":{\"color\":\"#2a3f5f\"}},\"ternary\":{\"aaxis\":{\"gridcolor\":\"white\",\"linecolor\":\"white\",\"ticks\":\"\"},\"baxis\":{\"gridcolor\":\"white\",\"linecolor\":\"white\",\"ticks\":\"\"},\"bgcolor\":\"#E5ECF6\",\"caxis\":{\"gridcolor\":\"white\",\"linecolor\":\"white\",\"ticks\":\"\"}},\"title\":{\"x\":0.05},\"xaxis\":{\"automargin\":true,\"gridcolor\":\"white\",\"linecolor\":\"white\",\"ticks\":\"\",\"title\":{\"standoff\":15},\"zerolinecolor\":\"white\",\"zerolinewidth\":2},\"yaxis\":{\"automargin\":true,\"gridcolor\":\"white\",\"linecolor\":\"white\",\"ticks\":\"\",\"title\":{\"standoff\":15},\"zerolinecolor\":\"white\",\"zerolinewidth\":2}}},\"xaxis\":{\"anchor\":\"y\",\"domain\":[0.0,1.0],\"title\":{\"text\":\"Conteo\"}},\"yaxis\":{\"anchor\":\"x\",\"domain\":[0.0,1.0],\"title\":{\"text\":\"Mes\"},\"categoryorder\":\"array\",\"categoryarray\":[\"Septiembre 2022\",\"Agosto 2022\",\"Julio 2022\",\"Junio 2022\",\"Mayo 2022\",\"Abril 2022\",\"Marzo 2022\",\"Febrero 2022\",\"Noviembre 2021\",\"Octubre 2021\",\"Septiembre 2021\",\"Agosto 2021\",\"Junio 2021\",\"Mayo 2021\",\"Abril 2021\",\"Marzo 2021\",\"Febrero 2021\",\"Enero 2021\",\"Diciembre 2020\",\"Noviembre 2020\",\"Octubre 2020\",\"Septiembre 2020\",\"Agosto 2020\",\"Julio 2020\",\"Junio 2020\",\"Mayo 2020\",\"Abril 2020\",\"Marzo 2020\",\"Febrero 2020\",\"Enero 2020\",\"Diciembre 2019\",\"Noviembre 2019\",\"Octubre 2019\",\"Septiembre 2019\",\"Agosto 2019\",\"Julio 2019\",\"Junio 2019\",\"Mayo 2019\",\"Abril 2019\",\"Marzo 2019\",\"Febrero 2019\",\"Enero 2019\",\"Diciembre 2018\",\"Noviembre 2018\"]},\"legend\":{\"title\":{\"text\":\"Mes\"},\"tracegroupgap\":0},\"title\":{\"text\":\"Conteo por Mes\"},\"barmode\":\"relative\",\"font\":{\"color\":\"Ivory\"},\"margin\":{\"l\":50,\"r\":30,\"t\":80,\"b\":50},\"autosize\":false,\"width\":600,\"height\":1000,\"paper_bgcolor\":\"SlateGray\",\"showlegend\":false},                        {\"responsive\": true}                    ).then(function(){\n",
       "                            \n",
       "var gd = document.getElementById('0fb5928d-6cca-4fda-a8c0-60850ae7b931');\n",
       "var x = new MutationObserver(function (mutations, observer) {{\n",
       "        var display = window.getComputedStyle(gd).display;\n",
       "        if (!display || display === 'none') {{\n",
       "            console.log([gd, 'removed!']);\n",
       "            Plotly.purge(gd);\n",
       "            observer.disconnect();\n",
       "        }}\n",
       "}});\n",
       "\n",
       "// Listen for the removal of the full notebook cells\n",
       "var notebookContainer = gd.closest('#notebook-container');\n",
       "if (notebookContainer) {{\n",
       "    x.observe(notebookContainer, {childList: true});\n",
       "}}\n",
       "\n",
       "// Listen for the clearing of the current output cell\n",
       "var outputEl = gd.closest('.output');\n",
       "if (outputEl) {{\n",
       "    x.observe(outputEl, {childList: true});\n",
       "}}\n",
       "\n",
       "                        })                };                });            </script>        </div>"
      ]
     },
     "metadata": {},
     "output_type": "display_data"
    }
   ],
   "source": [
    "fig = px.bar(context['porMes'],\n",
    "             y='Mes',\n",
    "             x='realizadas',\n",
    "             color='Mes',\n",
    "             title='Conteo por Mes',\n",
    "             labels={\"realizadas\": \"Conteo\"},\n",
    "             orientation='h')\n",
    "\n",
    "fig_params = {'autosize':False,\n",
    "    'width':600,\n",
    "    'height':1000,\n",
    "    'paper_bgcolor':\"SlateGray\",\n",
    "    'font':dict(color ='Ivory'),\n",
    "    'showlegend':False,\n",
    "    'margin' : dict(l=50, r=30, t=80, b=50)}\n",
    "\n",
    "fig.update_layout(fig_params)\n",
    "fig.show()"
   ]
  },
  {
   "cell_type": "code",
   "execution_count": 58,
   "metadata": {},
   "outputs": [
    {
     "data": {
      "application/vnd.plotly.v1+json": {
       "config": {
        "plotlyServerURL": "https://plot.ly"
       },
       "data": [
        {
         "cells": {
          "align": "left",
          "fill": {
           "color": "#b8c5d6"
          },
          "values": [
           [
            1,
            1,
            1,
            1,
            2,
            2,
            2,
            2,
            3,
            3,
            3,
            3,
            3,
            3,
            3,
            3,
            4,
            4,
            4,
            4,
            5,
            5,
            5,
            5,
            5,
            6,
            6,
            6,
            7,
            8,
            9,
            9,
            9,
            10,
            10,
            10,
            10,
            10,
            10,
            10,
            10,
            10,
            10,
            10,
            10,
            10,
            10,
            10,
            11,
            11,
            11,
            11,
            11,
            11,
            11,
            11,
            11,
            11,
            11,
            11,
            11,
            11,
            12,
            12,
            12,
            12,
            13,
            13,
            13,
            13,
            13,
            13,
            13,
            14,
            15,
            16,
            19,
            44,
            66,
            90,
            91,
            94,
            95,
            100,
            100,
            100,
            100,
            100,
            100,
            100,
            100,
            100,
            100,
            100,
            100,
            100,
            100,
            100,
            100,
            100,
            200,
            200,
            200,
            200,
            200,
            200,
            200,
            200,
            200,
            200,
            200,
            200,
            200,
            200,
            200,
            200,
            200,
            200,
            200,
            200,
            200,
            300,
            300,
            300,
            300,
            300,
            300,
            300,
            300,
            400,
            400,
            400,
            400,
            400,
            400,
            400,
            400,
            400,
            400,
            400,
            400,
            400,
            400,
            400,
            400,
            500,
            500,
            500,
            500,
            500,
            500,
            500,
            500,
            500,
            600,
            600,
            600,
            600,
            600,
            600,
            600,
            700,
            700,
            700,
            700,
            700,
            700,
            700,
            700,
            700,
            700,
            700,
            700
           ],
           [
            "Fac. Arquitectura",
            "Fac. Arquitectura",
            "Fac. Arquitectura",
            "Fac. Arquitectura",
            "Fac. Artes y Diseño",
            "Fac. Artes y Diseño",
            "Fac. Artes y Diseño",
            "Fac. Artes y Diseño",
            "Fac. Ciencias",
            "Fac. Ciencias",
            "Fac. Ciencias",
            "Fac. Ciencias",
            "Fac. Ciencias",
            "Fac. Ciencias",
            "Fac. Ciencias",
            "Fac. Ciencias",
            "Fac. Ciencias Políticas y Sociales",
            "Fac. Ciencias Políticas y Sociales",
            "Fac. Ciencias Políticas y Sociales",
            "Fac. Ciencias Políticas y Sociales",
            "Fac. Química",
            "Fac. Química",
            "Fac. Química",
            "Fac. Química",
            "Fac. Química",
            "Fac. Contaduría y Administración",
            "Fac. Contaduría y Administración",
            "Fac. Contaduría y Administración",
            "Fac. Derecho",
            "Fac. Economía",
            "Esc. Nac. Enfermería y Obstetricia",
            "Esc. Nac. Enfermería y Obstetricia",
            "Esc. Nac. Enfermería y Obstetricia",
            "Fac. Filosofía y Letras",
            "Fac. Filosofía y Letras",
            "Fac. Filosofía y Letras",
            "Fac. Filosofía y Letras",
            "Fac. Filosofía y Letras",
            "Fac. Filosofía y Letras",
            "Fac. Filosofía y Letras",
            "Fac. Filosofía y Letras",
            "Fac. Filosofía y Letras",
            "Fac. Filosofía y Letras",
            "Fac. Filosofía y Letras",
            "Fac. Filosofía y Letras",
            "Fac. Filosofía y Letras",
            "Fac. Filosofía y Letras",
            "Fac. Filosofía y Letras",
            "Fac. Ingeniería",
            "Fac. Ingeniería",
            "Fac. Ingeniería",
            "Fac. Ingeniería",
            "Fac. Ingeniería",
            "Fac. Ingeniería",
            "Fac. Ingeniería",
            "Fac. Ingeniería",
            "Fac. Ingeniería",
            "Fac. Ingeniería",
            "Fac. Ingeniería",
            "Fac. Ingeniería",
            "Fac. Ingeniería",
            "Fac. Ingeniería",
            "Fac. Medicina",
            "Fac. Medicina",
            "Fac. Medicina",
            "Fac. Medicina",
            "Fac. Música",
            "Fac. Música",
            "Fac. Música",
            "Fac. Música",
            "Fac. Música",
            "Fac. Música",
            "Fac. Música",
            "Fac. Odontología",
            "Esc. Nac. Trabajo Social",
            "Fac. Medicina Veterinaria y Zootecnia",
            "Fac. Psicología",
            "Esc. Nac. Artes Cinematográficas",
            "Cent. Ciencias Genómicas / Inst. Biotecnología",
            "Inst. Energías Renovables",
            "Cent. Nanociencias y Nanotecnología",
            "Cent. Peninsular en Humanidades y Ciencias Sociales",
            "Cent. Física Aplicada y Tecnología Avanzada",
            "FES Cuautitlán",
            "FES Cuautitlán",
            "FES Cuautitlán",
            "FES Cuautitlán",
            "FES Cuautitlán",
            "FES Cuautitlán",
            "FES Cuautitlán",
            "FES Cuautitlán",
            "FES Cuautitlán",
            "FES Cuautitlán",
            "FES Cuautitlán",
            "FES Cuautitlán",
            "FES Cuautitlán",
            "FES Cuautitlán",
            "FES Cuautitlán",
            "FES Cuautitlán",
            "FES Cuautitlán",
            "FES Acatlán",
            "FES Acatlán",
            "FES Acatlán",
            "FES Acatlán",
            "FES Acatlán",
            "FES Acatlán",
            "FES Acatlán",
            "FES Acatlán",
            "FES Acatlán",
            "FES Acatlán",
            "FES Acatlán",
            "FES Acatlán",
            "FES Acatlán",
            "FES Acatlán",
            "FES Acatlán",
            "FES Acatlán",
            "FES Acatlán",
            "FES Acatlán",
            "FES Acatlán",
            "FES Acatlán",
            "FES Acatlán",
            "FES Iztacala",
            "FES Iztacala",
            "FES Iztacala",
            "FES Iztacala",
            "FES Iztacala",
            "FES Iztacala",
            "FES Iztacala",
            "FES Iztacala",
            "FES Aragón",
            "FES Aragón",
            "FES Aragón",
            "FES Aragón",
            "FES Aragón",
            "FES Aragón",
            "FES Aragón",
            "FES Aragón",
            "FES Aragón",
            "FES Aragón",
            "FES Aragón",
            "FES Aragón",
            "FES Aragón",
            "FES Aragón",
            "FES Aragón",
            "FES Aragón",
            "FES Zaragoza",
            "FES Zaragoza",
            "FES Zaragoza",
            "FES Zaragoza",
            "FES Zaragoza",
            "FES Zaragoza",
            "FES Zaragoza",
            "FES Zaragoza",
            "FES Zaragoza",
            "ENES León",
            "ENES León",
            "ENES León",
            "ENES León",
            "ENES León",
            "ENES León",
            "ENES León",
            "ENES Morelia",
            "ENES Morelia",
            "ENES Morelia",
            "ENES Morelia",
            "ENES Morelia",
            "ENES Morelia",
            "ENES Morelia",
            "ENES Morelia",
            "ENES Morelia",
            "ENES Morelia",
            "ENES Morelia",
            "ENES Morelia"
           ],
           [
            102,
            103,
            105,
            123,
            401,
            406,
            423,
            434,
            101,
            104,
            106,
            122,
            127,
            134,
            201,
            217,
            302,
            303,
            310,
            311,
            118,
            119,
            211,
            212,
            213,
            301,
            304,
            308,
            305,
            306,
            203,
            220,
            501,
            307,
            402,
            409,
            411,
            412,
            414,
            415,
            416,
            417,
            418,
            419,
            420,
            421,
            429,
            430,
            107,
            108,
            109,
            110,
            111,
            112,
            113,
            114,
            115,
            116,
            117,
            124,
            125,
            135,
            206,
            208,
            221,
            224,
            403,
            404,
            407,
            410,
            413,
            422,
            436,
            202,
            312,
            207,
            210,
            435,
            215,
            128,
            129,
            429,
            126,
            423,
            118,
            205,
            211,
            213,
            214,
            218,
            219,
            301,
            304,
            308,
            114,
            116,
            130,
            207,
            204,
            126,
            102,
            406,
            101,
            302,
            303,
            310,
            311,
            315,
            305,
            306,
            411,
            412,
            414,
            421,
            107,
            121,
            408,
            424,
            425,
            426,
            427,
            201,
            203,
            220,
            501,
            208,
            202,
            210,
            209,
            102,
            105,
            302,
            310,
            311,
            316,
            305,
            306,
            421,
            107,
            109,
            110,
            114,
            115,
            116,
            309,
            201,
            118,
            213,
            203,
            220,
            501,
            208,
            202,
            210,
            314,
            313,
            429,
            221,
            222,
            501,
            223,
            434,
            131,
            132,
            133,
            216,
            225,
            501,
            317,
            431,
            432,
            433,
            437
           ],
           [
            "Arquitectura",
            "Arquitectura del Paisaje",
            "Diseño Industrial",
            "Urbanismo",
            "Artes Visuales",
            "Diseño Gráfico",
            "Diseño y Comunicación Visual",
            "Arte y Diseño",
            "Actuaría",
            "Ciencias de la Computación",
            "Física",
            "Matemáticas",
            "Ciencias de la Tierra",
            "Física Biomédica",
            "Biología",
            "Manejo Sustentable de Zonas Costeras",
            "Ciencias de la Comunicación (Periodismo)",
            "Ciencias Políticas y Administración Pública",
            "Relaciones Internacionales",
            "Sociología",
            "Ingeniería Química",
            "Ingeniería Química y Metalúrgica",
            "Química",
            "Química de Alimentos",
            "Química Farmacéutico Biológica",
            "Administración",
            "Contaduría",
            "Informática",
            "Derecho",
            "Economía",
            "Enfermería y Obstetricia",
            "Enfermería",
            "Técnico",
            "Geografía",
            "Bibliotecología",
            "Estudios Latinoamericanos",
            "Filosofía",
            "Historia",
            "Lengua y Literaturas Hispánicas",
            "Lengua y Literaturas Modernas Alemanas",
            "Lengua y Literaturas Modernas Francesas",
            "Lengua y Literaturas Modernas Inglesas",
            "Lengua y Literaturas Modernas Italianas",
            "Letras Clásicas",
            "Literatura Dramática y Teatro",
            "Pedagogía",
            "Desarrollo y Gestión Interculturales",
            "Lengua y Literaturas Modernas Portuguesas",
            "Ingeniería Civil",
            "Ingeniería de Minas y Metalurgia",
            "Ingeniería Eléctrica y Electrónica",
            "Ingeniería en Computación",
            "Ingeniería en Telecomunicaciones",
            "Ingeniería Geofísica",
            "Ingeniería Geológica",
            "Ingeniería Industrial",
            "Ingeniería Mecánica",
            "Ingeniería Mecánica Eléctrica",
            "Ingeniería Petrolera",
            "Ingeniería Mecatrónica",
            "Ingeniería Geomática",
            "Ingeniería en Sistemas Biomédicos",
            "Investigación Biomédica Básica",
            "Médico Cirujano",
            "Fisioterapia",
            "Ciencia Forense",
            "Canto",
            "Composición",
            "Educación Musical",
            "Etnomusicología",
            "Instrumentista",
            "Piano",
            "Teatro y Actuación",
            "Cirujano Dentista",
            "Trabajo Social",
            "Medicina Veterinaria y Zootecnia",
            "Psicología",
            "Cinematografía",
            "Ciencias Genómicas",
            "Ingeniería en Energías Renovables",
            "Nanotecnología",
            "Desarrollo y Gestión Interculturales",
            "Tecnología",
            "Diseño y Comunicación Visual",
            "Ingeniería Química",
            "Ingeniería en Alimentos",
            "Química",
            "Química Farmacéutico Biológica",
            "Química Industrial",
            "Bioquímica Diagnóstica",
            "Farmacia",
            "Administración",
            "Contaduría",
            "Informática",
            "Ingeniería Industrial",
            "Ingeniería Mecánica Eléctrica",
            "Ingeniería en Telecomunicaciones, Sistemas y Electrónica",
            "Medicina Veterinaria y Zootecnia",
            "Ingeniería Agrícola",
            "Tecnología",
            "Arquitectura",
            "Diseño Gráfico",
            "Actuaría",
            "Ciencias de la Comunicación (Periodismo)",
            "Ciencias Políticas y Administración Pública",
            "Relaciones Internacionales",
            "Sociología",
            "Comunicación",
            "Derecho",
            "Economía",
            "Filosofía",
            "Historia",
            "Lengua y Literaturas Hispánicas",
            "Pedagogía",
            "Ingeniería Civil",
            "Matemáticas Aplicadas y Computación",
            "Enseñanza de Inglés",
            "Enseñanza de Alemán como Lengua Extranjera",
            "Enseñanza de Español como Lengua Extranjera",
            "Enseñanza de Francés como Lengua Extranjera",
            "Enseñanza de Inglés como Lengua Extranjera",
            "Biología",
            "Enfermería y Obstetricia",
            "Enfermería",
            "Técnico",
            "Médico Cirujano",
            "Cirujano Dentista",
            "Psicología",
            "Optometría",
            "Arquitectura",
            "Diseño Industrial",
            "Ciencias de la Comunicación (Periodismo)",
            "Relaciones Internacionales",
            "Sociología",
            "Comunicación y Periodismo",
            "Derecho",
            "Economía",
            "Pedagogía",
            "Ingeniería Civil",
            "Ingeniería Eléctrica y Electrónica",
            "Ingeniería en Computación",
            "Ingeniería Industrial",
            "Ingeniería Mecánica",
            "Ingeniería Mecánica Eléctrica",
            "Planificación para el Desarrollo Agropecuario",
            "Biología",
            "Ingeniería Química",
            "Química Farmacéutico Biológica",
            "Enfermería y Obstetricia",
            "Enfermería",
            "Técnico",
            "Médico Cirujano",
            "Cirujano Dentista",
            "Psicología",
            "Administración Agropecuaria",
            "Economía Industrial",
            "Desarrollo y Gestión Interculturales",
            "Fisioterapia",
            "Odontología",
            "Técnico",
            "Ciencias Agrogenómicas",
            "Arte y Diseño",
            "Geociencias",
            "Tecnologías para la Información en Ciencias",
            "Ciencia de Materiales Sustentables",
            "Ciencias Ambientales",
            "Ecología",
            "Técnico",
            "Estudios Sociales y Gestión Local",
            "Geohistoria",
            "Literatura Intercultural",
            "Historia del Arte",
            "Administración de Archivos y Gestión Documental"
           ],
           [
            309,
            7,
            19,
            7,
            3,
            0,
            8,
            4,
            7,
            4,
            12,
            14,
            4,
            0,
            7,
            0,
            11,
            20,
            20,
            8,
            11,
            3,
            3,
            5,
            5,
            31,
            46,
            6,
            29,
            24,
            3,
            21,
            0,
            8,
            9,
            0,
            2,
            0,
            8,
            0,
            1,
            4,
            2,
            0,
            3,
            12,
            0,
            0,
            14,
            2,
            0,
            1,
            0,
            6,
            1,
            8,
            15,
            1,
            10,
            7,
            2,
            0,
            1,
            34,
            2,
            1,
            0,
            0,
            0,
            0,
            2,
            1,
            0,
            8,
            10,
            8,
            30,
            1,
            0,
            0,
            0,
            0,
            1,
            0,
            3,
            2,
            0,
            0,
            0,
            4,
            3,
            7,
            7,
            4,
            1,
            1,
            0,
            2,
            2,
            1,
            5,
            4,
            1,
            0,
            3,
            4,
            1,
            2,
            21,
            3,
            0,
            3,
            2,
            4,
            2,
            4,
            3,
            0,
            1,
            0,
            0,
            4,
            0,
            4,
            0,
            22,
            3,
            30,
            3,
            4,
            1,
            1,
            4,
            0,
            4,
            13,
            5,
            9,
            9,
            6,
            4,
            3,
            2,
            0,
            2,
            6,
            7,
            6,
            0,
            9,
            0,
            11,
            5,
            5,
            0,
            1,
            0,
            1,
            3,
            0,
            0,
            0,
            2,
            0,
            0,
            3,
            0,
            0,
            0,
            0,
            1,
            0,
            0
           ],
           [
            10,
            3,
            7,
            2,
            27,
            1,
            24,
            12,
            22,
            6,
            15,
            20,
            7,
            1,
            17,
            2,
            27,
            19,
            17,
            28,
            14,
            13,
            13,
            13,
            20,
            28,
            33,
            19,
            21,
            23,
            11,
            36,
            1,
            14,
            16,
            4,
            15,
            24,
            14,
            5,
            3,
            9,
            3,
            2,
            13,
            15,
            8,
            0,
            18,
            4,
            14,
            24,
            22,
            21,
            15,
            18,
            22,
            2,
            17,
            6,
            7,
            0,
            0,
            18,
            22,
            15,
            2,
            4,
            0,
            2,
            15,
            3,
            1,
            19,
            21,
            18,
            22,
            3,
            2,
            8,
            5,
            2,
            1,
            15,
            11,
            15,
            1,
            2,
            4,
            18,
            3,
            25,
            22,
            9,
            7,
            13,
            13,
            23,
            6,
            3,
            18,
            16,
            23,
            5,
            18,
            12,
            18,
            30,
            23,
            12,
            10,
            15,
            8,
            24,
            15,
            16,
            13,
            1,
            3,
            1,
            6,
            14,
            0,
            14,
            0,
            6,
            16,
            18,
            8,
            13,
            10,
            2,
            10,
            6,
            19,
            21,
            12,
            13,
            12,
            16,
            14,
            12,
            9,
            0,
            10,
            14,
            10,
            11,
            0,
            22,
            0,
            16,
            23,
            24,
            3,
            6,
            2,
            15,
            4,
            0,
            1,
            9,
            3,
            0,
            1,
            5,
            0,
            0,
            2,
            1,
            5,
            1,
            0
           ]
          ]
         },
         "header": {
          "align": "left",
          "fill": {
           "color": "#454ADE"
          },
          "font": {
           "color": "Ivory"
          },
          "values": [
           "Clave Plantel",
           "Plantel",
           "Clave Carrera",
           "Carrera",
           "Internet",
           "Telefonicas"
          ]
         },
         "type": "table"
        }
       ],
       "layout": {
        "autosize": false,
        "height": 800,
        "margin": {
         "b": 50,
         "l": 30,
         "r": 30,
         "t": 80
        },
        "paper_bgcolor": "#605B56",
        "template": {
         "data": {
          "bar": [
           {
            "error_x": {
             "color": "#2a3f5f"
            },
            "error_y": {
             "color": "#2a3f5f"
            },
            "marker": {
             "line": {
              "color": "#E5ECF6",
              "width": 0.5
             },
             "pattern": {
              "fillmode": "overlay",
              "size": 10,
              "solidity": 0.2
             }
            },
            "type": "bar"
           }
          ],
          "barpolar": [
           {
            "marker": {
             "line": {
              "color": "#E5ECF6",
              "width": 0.5
             },
             "pattern": {
              "fillmode": "overlay",
              "size": 10,
              "solidity": 0.2
             }
            },
            "type": "barpolar"
           }
          ],
          "carpet": [
           {
            "aaxis": {
             "endlinecolor": "#2a3f5f",
             "gridcolor": "white",
             "linecolor": "white",
             "minorgridcolor": "white",
             "startlinecolor": "#2a3f5f"
            },
            "baxis": {
             "endlinecolor": "#2a3f5f",
             "gridcolor": "white",
             "linecolor": "white",
             "minorgridcolor": "white",
             "startlinecolor": "#2a3f5f"
            },
            "type": "carpet"
           }
          ],
          "choropleth": [
           {
            "colorbar": {
             "outlinewidth": 0,
             "ticks": ""
            },
            "type": "choropleth"
           }
          ],
          "contour": [
           {
            "colorbar": {
             "outlinewidth": 0,
             "ticks": ""
            },
            "colorscale": [
             [
              0,
              "#0d0887"
             ],
             [
              0.1111111111111111,
              "#46039f"
             ],
             [
              0.2222222222222222,
              "#7201a8"
             ],
             [
              0.3333333333333333,
              "#9c179e"
             ],
             [
              0.4444444444444444,
              "#bd3786"
             ],
             [
              0.5555555555555556,
              "#d8576b"
             ],
             [
              0.6666666666666666,
              "#ed7953"
             ],
             [
              0.7777777777777778,
              "#fb9f3a"
             ],
             [
              0.8888888888888888,
              "#fdca26"
             ],
             [
              1,
              "#f0f921"
             ]
            ],
            "type": "contour"
           }
          ],
          "contourcarpet": [
           {
            "colorbar": {
             "outlinewidth": 0,
             "ticks": ""
            },
            "type": "contourcarpet"
           }
          ],
          "heatmap": [
           {
            "colorbar": {
             "outlinewidth": 0,
             "ticks": ""
            },
            "colorscale": [
             [
              0,
              "#0d0887"
             ],
             [
              0.1111111111111111,
              "#46039f"
             ],
             [
              0.2222222222222222,
              "#7201a8"
             ],
             [
              0.3333333333333333,
              "#9c179e"
             ],
             [
              0.4444444444444444,
              "#bd3786"
             ],
             [
              0.5555555555555556,
              "#d8576b"
             ],
             [
              0.6666666666666666,
              "#ed7953"
             ],
             [
              0.7777777777777778,
              "#fb9f3a"
             ],
             [
              0.8888888888888888,
              "#fdca26"
             ],
             [
              1,
              "#f0f921"
             ]
            ],
            "type": "heatmap"
           }
          ],
          "heatmapgl": [
           {
            "colorbar": {
             "outlinewidth": 0,
             "ticks": ""
            },
            "colorscale": [
             [
              0,
              "#0d0887"
             ],
             [
              0.1111111111111111,
              "#46039f"
             ],
             [
              0.2222222222222222,
              "#7201a8"
             ],
             [
              0.3333333333333333,
              "#9c179e"
             ],
             [
              0.4444444444444444,
              "#bd3786"
             ],
             [
              0.5555555555555556,
              "#d8576b"
             ],
             [
              0.6666666666666666,
              "#ed7953"
             ],
             [
              0.7777777777777778,
              "#fb9f3a"
             ],
             [
              0.8888888888888888,
              "#fdca26"
             ],
             [
              1,
              "#f0f921"
             ]
            ],
            "type": "heatmapgl"
           }
          ],
          "histogram": [
           {
            "marker": {
             "pattern": {
              "fillmode": "overlay",
              "size": 10,
              "solidity": 0.2
             }
            },
            "type": "histogram"
           }
          ],
          "histogram2d": [
           {
            "colorbar": {
             "outlinewidth": 0,
             "ticks": ""
            },
            "colorscale": [
             [
              0,
              "#0d0887"
             ],
             [
              0.1111111111111111,
              "#46039f"
             ],
             [
              0.2222222222222222,
              "#7201a8"
             ],
             [
              0.3333333333333333,
              "#9c179e"
             ],
             [
              0.4444444444444444,
              "#bd3786"
             ],
             [
              0.5555555555555556,
              "#d8576b"
             ],
             [
              0.6666666666666666,
              "#ed7953"
             ],
             [
              0.7777777777777778,
              "#fb9f3a"
             ],
             [
              0.8888888888888888,
              "#fdca26"
             ],
             [
              1,
              "#f0f921"
             ]
            ],
            "type": "histogram2d"
           }
          ],
          "histogram2dcontour": [
           {
            "colorbar": {
             "outlinewidth": 0,
             "ticks": ""
            },
            "colorscale": [
             [
              0,
              "#0d0887"
             ],
             [
              0.1111111111111111,
              "#46039f"
             ],
             [
              0.2222222222222222,
              "#7201a8"
             ],
             [
              0.3333333333333333,
              "#9c179e"
             ],
             [
              0.4444444444444444,
              "#bd3786"
             ],
             [
              0.5555555555555556,
              "#d8576b"
             ],
             [
              0.6666666666666666,
              "#ed7953"
             ],
             [
              0.7777777777777778,
              "#fb9f3a"
             ],
             [
              0.8888888888888888,
              "#fdca26"
             ],
             [
              1,
              "#f0f921"
             ]
            ],
            "type": "histogram2dcontour"
           }
          ],
          "mesh3d": [
           {
            "colorbar": {
             "outlinewidth": 0,
             "ticks": ""
            },
            "type": "mesh3d"
           }
          ],
          "parcoords": [
           {
            "line": {
             "colorbar": {
              "outlinewidth": 0,
              "ticks": ""
             }
            },
            "type": "parcoords"
           }
          ],
          "pie": [
           {
            "automargin": true,
            "type": "pie"
           }
          ],
          "scatter": [
           {
            "marker": {
             "colorbar": {
              "outlinewidth": 0,
              "ticks": ""
             }
            },
            "type": "scatter"
           }
          ],
          "scatter3d": [
           {
            "line": {
             "colorbar": {
              "outlinewidth": 0,
              "ticks": ""
             }
            },
            "marker": {
             "colorbar": {
              "outlinewidth": 0,
              "ticks": ""
             }
            },
            "type": "scatter3d"
           }
          ],
          "scattercarpet": [
           {
            "marker": {
             "colorbar": {
              "outlinewidth": 0,
              "ticks": ""
             }
            },
            "type": "scattercarpet"
           }
          ],
          "scattergeo": [
           {
            "marker": {
             "colorbar": {
              "outlinewidth": 0,
              "ticks": ""
             }
            },
            "type": "scattergeo"
           }
          ],
          "scattergl": [
           {
            "marker": {
             "colorbar": {
              "outlinewidth": 0,
              "ticks": ""
             }
            },
            "type": "scattergl"
           }
          ],
          "scattermapbox": [
           {
            "marker": {
             "colorbar": {
              "outlinewidth": 0,
              "ticks": ""
             }
            },
            "type": "scattermapbox"
           }
          ],
          "scatterpolar": [
           {
            "marker": {
             "colorbar": {
              "outlinewidth": 0,
              "ticks": ""
             }
            },
            "type": "scatterpolar"
           }
          ],
          "scatterpolargl": [
           {
            "marker": {
             "colorbar": {
              "outlinewidth": 0,
              "ticks": ""
             }
            },
            "type": "scatterpolargl"
           }
          ],
          "scatterternary": [
           {
            "marker": {
             "colorbar": {
              "outlinewidth": 0,
              "ticks": ""
             }
            },
            "type": "scatterternary"
           }
          ],
          "surface": [
           {
            "colorbar": {
             "outlinewidth": 0,
             "ticks": ""
            },
            "colorscale": [
             [
              0,
              "#0d0887"
             ],
             [
              0.1111111111111111,
              "#46039f"
             ],
             [
              0.2222222222222222,
              "#7201a8"
             ],
             [
              0.3333333333333333,
              "#9c179e"
             ],
             [
              0.4444444444444444,
              "#bd3786"
             ],
             [
              0.5555555555555556,
              "#d8576b"
             ],
             [
              0.6666666666666666,
              "#ed7953"
             ],
             [
              0.7777777777777778,
              "#fb9f3a"
             ],
             [
              0.8888888888888888,
              "#fdca26"
             ],
             [
              1,
              "#f0f921"
             ]
            ],
            "type": "surface"
           }
          ],
          "table": [
           {
            "cells": {
             "fill": {
              "color": "#EBF0F8"
             },
             "line": {
              "color": "white"
             }
            },
            "header": {
             "fill": {
              "color": "#C8D4E3"
             },
             "line": {
              "color": "white"
             }
            },
            "type": "table"
           }
          ]
         },
         "layout": {
          "annotationdefaults": {
           "arrowcolor": "#2a3f5f",
           "arrowhead": 0,
           "arrowwidth": 1
          },
          "autotypenumbers": "strict",
          "coloraxis": {
           "colorbar": {
            "outlinewidth": 0,
            "ticks": ""
           }
          },
          "colorscale": {
           "diverging": [
            [
             0,
             "#8e0152"
            ],
            [
             0.1,
             "#c51b7d"
            ],
            [
             0.2,
             "#de77ae"
            ],
            [
             0.3,
             "#f1b6da"
            ],
            [
             0.4,
             "#fde0ef"
            ],
            [
             0.5,
             "#f7f7f7"
            ],
            [
             0.6,
             "#e6f5d0"
            ],
            [
             0.7,
             "#b8e186"
            ],
            [
             0.8,
             "#7fbc41"
            ],
            [
             0.9,
             "#4d9221"
            ],
            [
             1,
             "#276419"
            ]
           ],
           "sequential": [
            [
             0,
             "#0d0887"
            ],
            [
             0.1111111111111111,
             "#46039f"
            ],
            [
             0.2222222222222222,
             "#7201a8"
            ],
            [
             0.3333333333333333,
             "#9c179e"
            ],
            [
             0.4444444444444444,
             "#bd3786"
            ],
            [
             0.5555555555555556,
             "#d8576b"
            ],
            [
             0.6666666666666666,
             "#ed7953"
            ],
            [
             0.7777777777777778,
             "#fb9f3a"
            ],
            [
             0.8888888888888888,
             "#fdca26"
            ],
            [
             1,
             "#f0f921"
            ]
           ],
           "sequentialminus": [
            [
             0,
             "#0d0887"
            ],
            [
             0.1111111111111111,
             "#46039f"
            ],
            [
             0.2222222222222222,
             "#7201a8"
            ],
            [
             0.3333333333333333,
             "#9c179e"
            ],
            [
             0.4444444444444444,
             "#bd3786"
            ],
            [
             0.5555555555555556,
             "#d8576b"
            ],
            [
             0.6666666666666666,
             "#ed7953"
            ],
            [
             0.7777777777777778,
             "#fb9f3a"
            ],
            [
             0.8888888888888888,
             "#fdca26"
            ],
            [
             1,
             "#f0f921"
            ]
           ]
          },
          "colorway": [
           "#636efa",
           "#EF553B",
           "#00cc96",
           "#ab63fa",
           "#FFA15A",
           "#19d3f3",
           "#FF6692",
           "#B6E880",
           "#FF97FF",
           "#FECB52"
          ],
          "font": {
           "color": "#2a3f5f"
          },
          "geo": {
           "bgcolor": "white",
           "lakecolor": "white",
           "landcolor": "#E5ECF6",
           "showlakes": true,
           "showland": true,
           "subunitcolor": "white"
          },
          "hoverlabel": {
           "align": "left"
          },
          "hovermode": "closest",
          "mapbox": {
           "style": "light"
          },
          "paper_bgcolor": "white",
          "plot_bgcolor": "#E5ECF6",
          "polar": {
           "angularaxis": {
            "gridcolor": "white",
            "linecolor": "white",
            "ticks": ""
           },
           "bgcolor": "#E5ECF6",
           "radialaxis": {
            "gridcolor": "white",
            "linecolor": "white",
            "ticks": ""
           }
          },
          "scene": {
           "xaxis": {
            "backgroundcolor": "#E5ECF6",
            "gridcolor": "white",
            "gridwidth": 2,
            "linecolor": "white",
            "showbackground": true,
            "ticks": "",
            "zerolinecolor": "white"
           },
           "yaxis": {
            "backgroundcolor": "#E5ECF6",
            "gridcolor": "white",
            "gridwidth": 2,
            "linecolor": "white",
            "showbackground": true,
            "ticks": "",
            "zerolinecolor": "white"
           },
           "zaxis": {
            "backgroundcolor": "#E5ECF6",
            "gridcolor": "white",
            "gridwidth": 2,
            "linecolor": "white",
            "showbackground": true,
            "ticks": "",
            "zerolinecolor": "white"
           }
          },
          "shapedefaults": {
           "line": {
            "color": "#2a3f5f"
           }
          },
          "ternary": {
           "aaxis": {
            "gridcolor": "white",
            "linecolor": "white",
            "ticks": ""
           },
           "baxis": {
            "gridcolor": "white",
            "linecolor": "white",
            "ticks": ""
           },
           "bgcolor": "#E5ECF6",
           "caxis": {
            "gridcolor": "white",
            "linecolor": "white",
            "ticks": ""
           }
          },
          "title": {
           "x": 0.05
          },
          "xaxis": {
           "automargin": true,
           "gridcolor": "white",
           "linecolor": "white",
           "ticks": "",
           "title": {
            "standoff": 15
           },
           "zerolinecolor": "white",
           "zerolinewidth": 2
          },
          "yaxis": {
           "automargin": true,
           "gridcolor": "white",
           "linecolor": "white",
           "ticks": "",
           "title": {
            "standoff": 15
           },
           "zerolinecolor": "white",
           "zerolinewidth": 2
          }
         }
        },
        "title": {
         "font": {
          "color": "Ivory"
         },
         "text": "Conteo por Carrera"
        },
        "width": 800
       }
      },
      "text/html": [
       "<div>                            <div id=\"48522edb-36e7-4865-ac0d-6fa96ce98b6a\" class=\"plotly-graph-div\" style=\"height:800px; width:800px;\"></div>            <script type=\"text/javascript\">                require([\"plotly\"], function(Plotly) {                    window.PLOTLYENV=window.PLOTLYENV || {};                                    if (document.getElementById(\"48522edb-36e7-4865-ac0d-6fa96ce98b6a\")) {                    Plotly.newPlot(                        \"48522edb-36e7-4865-ac0d-6fa96ce98b6a\",                        [{\"cells\":{\"align\":\"left\",\"fill\":{\"color\":\"#b8c5d6\"},\"values\":[[1,1,1,1,2,2,2,2,3,3,3,3,3,3,3,3,4,4,4,4,5,5,5,5,5,6,6,6,7,8,9,9,9,10,10,10,10,10,10,10,10,10,10,10,10,10,10,10,11,11,11,11,11,11,11,11,11,11,11,11,11,11,12,12,12,12,13,13,13,13,13,13,13,14,15,16,19,44,66,90,91,94,95,100,100,100,100,100,100,100,100,100,100,100,100,100,100,100,100,100,200,200,200,200,200,200,200,200,200,200,200,200,200,200,200,200,200,200,200,200,200,300,300,300,300,300,300,300,300,400,400,400,400,400,400,400,400,400,400,400,400,400,400,400,400,500,500,500,500,500,500,500,500,500,600,600,600,600,600,600,600,700,700,700,700,700,700,700,700,700,700,700,700],[\"Fac. Arquitectura\",\"Fac. Arquitectura\",\"Fac. Arquitectura\",\"Fac. Arquitectura\",\"Fac. Artes y Dise\\u00f1o\",\"Fac. Artes y Dise\\u00f1o\",\"Fac. Artes y Dise\\u00f1o\",\"Fac. Artes y Dise\\u00f1o\",\"Fac. Ciencias\",\"Fac. Ciencias\",\"Fac. Ciencias\",\"Fac. Ciencias\",\"Fac. Ciencias\",\"Fac. Ciencias\",\"Fac. Ciencias\",\"Fac. Ciencias\",\"Fac. Ciencias Pol\\u00edticas y Sociales\",\"Fac. Ciencias Pol\\u00edticas y Sociales\",\"Fac. Ciencias Pol\\u00edticas y Sociales\",\"Fac. Ciencias Pol\\u00edticas y Sociales\",\"Fac. Qu\\u00edmica\",\"Fac. Qu\\u00edmica\",\"Fac. Qu\\u00edmica\",\"Fac. Qu\\u00edmica\",\"Fac. Qu\\u00edmica\",\"Fac. Contadur\\u00eda y Administraci\\u00f3n\",\"Fac. Contadur\\u00eda y Administraci\\u00f3n\",\"Fac. Contadur\\u00eda y Administraci\\u00f3n\",\"Fac. Derecho\",\"Fac. Econom\\u00eda\",\"Esc. Nac. Enfermer\\u00eda y Obstetricia\",\"Esc. Nac. Enfermer\\u00eda y Obstetricia\",\"Esc. Nac. Enfermer\\u00eda y Obstetricia\",\"Fac. Filosof\\u00eda y Letras\",\"Fac. Filosof\\u00eda y Letras\",\"Fac. Filosof\\u00eda y Letras\",\"Fac. Filosof\\u00eda y Letras\",\"Fac. Filosof\\u00eda y Letras\",\"Fac. Filosof\\u00eda y Letras\",\"Fac. Filosof\\u00eda y Letras\",\"Fac. Filosof\\u00eda y Letras\",\"Fac. Filosof\\u00eda y Letras\",\"Fac. Filosof\\u00eda y Letras\",\"Fac. Filosof\\u00eda y Letras\",\"Fac. Filosof\\u00eda y Letras\",\"Fac. Filosof\\u00eda y Letras\",\"Fac. Filosof\\u00eda y Letras\",\"Fac. Filosof\\u00eda y Letras\",\"Fac. Ingenier\\u00eda\",\"Fac. Ingenier\\u00eda\",\"Fac. Ingenier\\u00eda\",\"Fac. Ingenier\\u00eda\",\"Fac. Ingenier\\u00eda\",\"Fac. Ingenier\\u00eda\",\"Fac. Ingenier\\u00eda\",\"Fac. Ingenier\\u00eda\",\"Fac. Ingenier\\u00eda\",\"Fac. Ingenier\\u00eda\",\"Fac. Ingenier\\u00eda\",\"Fac. Ingenier\\u00eda\",\"Fac. Ingenier\\u00eda\",\"Fac. Ingenier\\u00eda\",\"Fac. Medicina\",\"Fac. Medicina\",\"Fac. Medicina\",\"Fac. Medicina\",\"Fac. M\\u00fasica\",\"Fac. M\\u00fasica\",\"Fac. M\\u00fasica\",\"Fac. M\\u00fasica\",\"Fac. M\\u00fasica\",\"Fac. M\\u00fasica\",\"Fac. M\\u00fasica\",\"Fac. Odontolog\\u00eda\",\"Esc. Nac. Trabajo Social\",\"Fac. Medicina Veterinaria y Zootecnia\",\"Fac. Psicolog\\u00eda\",\"Esc. Nac. Artes Cinematogr\\u00e1ficas\",\"Cent. Ciencias Gen\\u00f3micas / Inst. Biotecnolog\\u00eda\",\"Inst. Energ\\u00edas Renovables\",\"Cent. Nanociencias y Nanotecnolog\\u00eda\",\"Cent. Peninsular en Humanidades y Ciencias Sociales\",\"Cent. F\\u00edsica Aplicada y Tecnolog\\u00eda Avanzada\",\"FES Cuautitl\\u00e1n\",\"FES Cuautitl\\u00e1n\",\"FES Cuautitl\\u00e1n\",\"FES Cuautitl\\u00e1n\",\"FES Cuautitl\\u00e1n\",\"FES Cuautitl\\u00e1n\",\"FES Cuautitl\\u00e1n\",\"FES Cuautitl\\u00e1n\",\"FES Cuautitl\\u00e1n\",\"FES Cuautitl\\u00e1n\",\"FES Cuautitl\\u00e1n\",\"FES Cuautitl\\u00e1n\",\"FES Cuautitl\\u00e1n\",\"FES Cuautitl\\u00e1n\",\"FES Cuautitl\\u00e1n\",\"FES Cuautitl\\u00e1n\",\"FES Cuautitl\\u00e1n\",\"FES Acatl\\u00e1n\",\"FES Acatl\\u00e1n\",\"FES Acatl\\u00e1n\",\"FES Acatl\\u00e1n\",\"FES Acatl\\u00e1n\",\"FES Acatl\\u00e1n\",\"FES Acatl\\u00e1n\",\"FES Acatl\\u00e1n\",\"FES Acatl\\u00e1n\",\"FES Acatl\\u00e1n\",\"FES Acatl\\u00e1n\",\"FES Acatl\\u00e1n\",\"FES Acatl\\u00e1n\",\"FES Acatl\\u00e1n\",\"FES Acatl\\u00e1n\",\"FES Acatl\\u00e1n\",\"FES Acatl\\u00e1n\",\"FES Acatl\\u00e1n\",\"FES Acatl\\u00e1n\",\"FES Acatl\\u00e1n\",\"FES Acatl\\u00e1n\",\"FES Iztacala\",\"FES Iztacala\",\"FES Iztacala\",\"FES Iztacala\",\"FES Iztacala\",\"FES Iztacala\",\"FES Iztacala\",\"FES Iztacala\",\"FES Arag\\u00f3n\",\"FES Arag\\u00f3n\",\"FES Arag\\u00f3n\",\"FES Arag\\u00f3n\",\"FES Arag\\u00f3n\",\"FES Arag\\u00f3n\",\"FES Arag\\u00f3n\",\"FES Arag\\u00f3n\",\"FES Arag\\u00f3n\",\"FES Arag\\u00f3n\",\"FES Arag\\u00f3n\",\"FES Arag\\u00f3n\",\"FES Arag\\u00f3n\",\"FES Arag\\u00f3n\",\"FES Arag\\u00f3n\",\"FES Arag\\u00f3n\",\"FES Zaragoza\",\"FES Zaragoza\",\"FES Zaragoza\",\"FES Zaragoza\",\"FES Zaragoza\",\"FES Zaragoza\",\"FES Zaragoza\",\"FES Zaragoza\",\"FES Zaragoza\",\"ENES Le\\u00f3n\",\"ENES Le\\u00f3n\",\"ENES Le\\u00f3n\",\"ENES Le\\u00f3n\",\"ENES Le\\u00f3n\",\"ENES Le\\u00f3n\",\"ENES Le\\u00f3n\",\"ENES Morelia\",\"ENES Morelia\",\"ENES Morelia\",\"ENES Morelia\",\"ENES Morelia\",\"ENES Morelia\",\"ENES Morelia\",\"ENES Morelia\",\"ENES Morelia\",\"ENES Morelia\",\"ENES Morelia\",\"ENES Morelia\"],[102,103,105,123,401,406,423,434,101,104,106,122,127,134,201,217,302,303,310,311,118,119,211,212,213,301,304,308,305,306,203,220,501,307,402,409,411,412,414,415,416,417,418,419,420,421,429,430,107,108,109,110,111,112,113,114,115,116,117,124,125,135,206,208,221,224,403,404,407,410,413,422,436,202,312,207,210,435,215,128,129,429,126,423,118,205,211,213,214,218,219,301,304,308,114,116,130,207,204,126,102,406,101,302,303,310,311,315,305,306,411,412,414,421,107,121,408,424,425,426,427,201,203,220,501,208,202,210,209,102,105,302,310,311,316,305,306,421,107,109,110,114,115,116,309,201,118,213,203,220,501,208,202,210,314,313,429,221,222,501,223,434,131,132,133,216,225,501,317,431,432,433,437],[\"Arquitectura\",\"Arquitectura del Paisaje\",\"Dise\\u00f1o Industrial\",\"Urbanismo\",\"Artes Visuales\",\"Dise\\u00f1o Gr\\u00e1fico\",\"Dise\\u00f1o y Comunicaci\\u00f3n Visual\",\"Arte y Dise\\u00f1o\",\"Actuar\\u00eda\",\"Ciencias de la Computaci\\u00f3n\",\"F\\u00edsica\",\"Matem\\u00e1ticas\",\"Ciencias de la Tierra\",\"F\\u00edsica Biom\\u00e9dica\",\"Biolog\\u00eda\",\"Manejo Sustentable de Zonas Costeras\",\"Ciencias de la Comunicaci\\u00f3n (Periodismo)\",\"Ciencias Pol\\u00edticas y Administraci\\u00f3n P\\u00fablica\",\"Relaciones Internacionales\",\"Sociolog\\u00eda\",\"Ingenier\\u00eda Qu\\u00edmica\",\"Ingenier\\u00eda Qu\\u00edmica y Metal\\u00fargica\",\"Qu\\u00edmica\",\"Qu\\u00edmica de Alimentos\",\"Qu\\u00edmica Farmac\\u00e9utico Biol\\u00f3gica\",\"Administraci\\u00f3n\",\"Contadur\\u00eda\",\"Inform\\u00e1tica\",\"Derecho\",\"Econom\\u00eda\",\"Enfermer\\u00eda y Obstetricia\",\"Enfermer\\u00eda\",\"T\\u00e9cnico\",\"Geograf\\u00eda\",\"Bibliotecolog\\u00eda\",\"Estudios Latinoamericanos\",\"Filosof\\u00eda\",\"Historia\",\"Lengua y Literaturas Hisp\\u00e1nicas\",\"Lengua y Literaturas Modernas Alemanas\",\"Lengua y Literaturas Modernas Francesas\",\"Lengua y Literaturas Modernas Inglesas\",\"Lengua y Literaturas Modernas Italianas\",\"Letras Cl\\u00e1sicas\",\"Literatura Dram\\u00e1tica y Teatro\",\"Pedagog\\u00eda\",\"Desarrollo y Gesti\\u00f3n Interculturales\",\"Lengua y Literaturas Modernas Portuguesas\",\"Ingenier\\u00eda Civil\",\"Ingenier\\u00eda de Minas y Metalurgia\",\"Ingenier\\u00eda El\\u00e9ctrica y Electr\\u00f3nica\",\"Ingenier\\u00eda en Computaci\\u00f3n\",\"Ingenier\\u00eda en Telecomunicaciones\",\"Ingenier\\u00eda Geof\\u00edsica\",\"Ingenier\\u00eda Geol\\u00f3gica\",\"Ingenier\\u00eda Industrial\",\"Ingenier\\u00eda Mec\\u00e1nica\",\"Ingenier\\u00eda Mec\\u00e1nica El\\u00e9ctrica\",\"Ingenier\\u00eda Petrolera\",\"Ingenier\\u00eda Mecatr\\u00f3nica\",\"Ingenier\\u00eda Geom\\u00e1tica\",\"Ingenier\\u00eda en Sistemas Biom\\u00e9dicos\",\"Investigaci\\u00f3n Biom\\u00e9dica B\\u00e1sica\",\"M\\u00e9dico Cirujano\",\"Fisioterapia\",\"Ciencia Forense\",\"Canto\",\"Composici\\u00f3n\",\"Educaci\\u00f3n Musical\",\"Etnomusicolog\\u00eda\",\"Instrumentista\",\"Piano\",\"Teatro y Actuaci\\u00f3n\",\"Cirujano Dentista\",\"Trabajo Social\",\"Medicina Veterinaria y Zootecnia\",\"Psicolog\\u00eda\",\"Cinematograf\\u00eda\",\"Ciencias Gen\\u00f3micas\",\"Ingenier\\u00eda en Energ\\u00edas Renovables\",\"Nanotecnolog\\u00eda\",\"Desarrollo y Gesti\\u00f3n Interculturales\",\"Tecnolog\\u00eda\",\"Dise\\u00f1o y Comunicaci\\u00f3n Visual\",\"Ingenier\\u00eda Qu\\u00edmica\",\"Ingenier\\u00eda en Alimentos\",\"Qu\\u00edmica\",\"Qu\\u00edmica Farmac\\u00e9utico Biol\\u00f3gica\",\"Qu\\u00edmica Industrial\",\"Bioqu\\u00edmica Diagn\\u00f3stica\",\"Farmacia\",\"Administraci\\u00f3n\",\"Contadur\\u00eda\",\"Inform\\u00e1tica\",\"Ingenier\\u00eda Industrial\",\"Ingenier\\u00eda Mec\\u00e1nica El\\u00e9ctrica\",\"Ingenier\\u00eda en Telecomunicaciones, Sistemas y Electr\\u00f3nica\",\"Medicina Veterinaria y Zootecnia\",\"Ingenier\\u00eda Agr\\u00edcola\",\"Tecnolog\\u00eda\",\"Arquitectura\",\"Dise\\u00f1o Gr\\u00e1fico\",\"Actuar\\u00eda\",\"Ciencias de la Comunicaci\\u00f3n (Periodismo)\",\"Ciencias Pol\\u00edticas y Administraci\\u00f3n P\\u00fablica\",\"Relaciones Internacionales\",\"Sociolog\\u00eda\",\"Comunicaci\\u00f3n\",\"Derecho\",\"Econom\\u00eda\",\"Filosof\\u00eda\",\"Historia\",\"Lengua y Literaturas Hisp\\u00e1nicas\",\"Pedagog\\u00eda\",\"Ingenier\\u00eda Civil\",\"Matem\\u00e1ticas Aplicadas y Computaci\\u00f3n\",\"Ense\\u00f1anza de Ingl\\u00e9s\",\"Ense\\u00f1anza de Alem\\u00e1n como Lengua Extranjera\",\"Ense\\u00f1anza de Espa\\u00f1ol como Lengua Extranjera\",\"Ense\\u00f1anza de Franc\\u00e9s como Lengua Extranjera\",\"Ense\\u00f1anza de Ingl\\u00e9s como Lengua Extranjera\",\"Biolog\\u00eda\",\"Enfermer\\u00eda y Obstetricia\",\"Enfermer\\u00eda\",\"T\\u00e9cnico\",\"M\\u00e9dico Cirujano\",\"Cirujano Dentista\",\"Psicolog\\u00eda\",\"Optometr\\u00eda\",\"Arquitectura\",\"Dise\\u00f1o Industrial\",\"Ciencias de la Comunicaci\\u00f3n (Periodismo)\",\"Relaciones Internacionales\",\"Sociolog\\u00eda\",\"Comunicaci\\u00f3n y Periodismo\",\"Derecho\",\"Econom\\u00eda\",\"Pedagog\\u00eda\",\"Ingenier\\u00eda Civil\",\"Ingenier\\u00eda El\\u00e9ctrica y Electr\\u00f3nica\",\"Ingenier\\u00eda en Computaci\\u00f3n\",\"Ingenier\\u00eda Industrial\",\"Ingenier\\u00eda Mec\\u00e1nica\",\"Ingenier\\u00eda Mec\\u00e1nica El\\u00e9ctrica\",\"Planificaci\\u00f3n para el Desarrollo Agropecuario\",\"Biolog\\u00eda\",\"Ingenier\\u00eda Qu\\u00edmica\",\"Qu\\u00edmica Farmac\\u00e9utico Biol\\u00f3gica\",\"Enfermer\\u00eda y Obstetricia\",\"Enfermer\\u00eda\",\"T\\u00e9cnico\",\"M\\u00e9dico Cirujano\",\"Cirujano Dentista\",\"Psicolog\\u00eda\",\"Administraci\\u00f3n Agropecuaria\",\"Econom\\u00eda Industrial\",\"Desarrollo y Gesti\\u00f3n Interculturales\",\"Fisioterapia\",\"Odontolog\\u00eda\",\"T\\u00e9cnico\",\"Ciencias Agrogen\\u00f3micas\",\"Arte y Dise\\u00f1o\",\"Geociencias\",\"Tecnolog\\u00edas para la Informaci\\u00f3n en Ciencias\",\"Ciencia de Materiales Sustentables\",\"Ciencias Ambientales\",\"Ecolog\\u00eda\",\"T\\u00e9cnico\",\"Estudios Sociales y Gesti\\u00f3n Local\",\"Geohistoria\",\"Literatura Intercultural\",\"Historia del Arte\",\"Administraci\\u00f3n de Archivos y Gesti\\u00f3n Documental\"],[309,7,19,7,3,0,8,4,7,4,12,14,4,0,7,0,11,20,20,8,11,3,3,5,5,31,46,6,29,24,3,21,0,8,9,0,2,0,8,0,1,4,2,0,3,12,0,0,14,2,0,1,0,6,1,8,15,1,10,7,2,0,1,34,2,1,0,0,0,0,2,1,0,8,10,8,30,1,0,0,0,0,1,0,3,2,0,0,0,4,3,7,7,4,1,1,0,2,2,1,5,4,1,0,3,4,1,2,21,3,0,3,2,4,2,4,3,0,1,0,0,4,0,4,0,22,3,30,3,4,1,1,4,0,4,13,5,9,9,6,4,3,2,0,2,6,7,6,0,9,0,11,5,5,0,1,0,1,3,0,0,0,2,0,0,3,0,0,0,0,1,0,0],[10,3,7,2,27,1,24,12,22,6,15,20,7,1,17,2,27,19,17,28,14,13,13,13,20,28,33,19,21,23,11,36,1,14,16,4,15,24,14,5,3,9,3,2,13,15,8,0,18,4,14,24,22,21,15,18,22,2,17,6,7,0,0,18,22,15,2,4,0,2,15,3,1,19,21,18,22,3,2,8,5,2,1,15,11,15,1,2,4,18,3,25,22,9,7,13,13,23,6,3,18,16,23,5,18,12,18,30,23,12,10,15,8,24,15,16,13,1,3,1,6,14,0,14,0,6,16,18,8,13,10,2,10,6,19,21,12,13,12,16,14,12,9,0,10,14,10,11,0,22,0,16,23,24,3,6,2,15,4,0,1,9,3,0,1,5,0,0,2,1,5,1,0]]},\"header\":{\"align\":\"left\",\"fill\":{\"color\":\"#454ADE\"},\"font\":{\"color\":\"Ivory\"},\"values\":[\"Clave Plantel\",\"Plantel\",\"Clave Carrera\",\"Carrera\",\"Internet\",\"Telefonicas\"]},\"type\":\"table\"}],                        {\"template\":{\"data\":{\"bar\":[{\"error_x\":{\"color\":\"#2a3f5f\"},\"error_y\":{\"color\":\"#2a3f5f\"},\"marker\":{\"line\":{\"color\":\"#E5ECF6\",\"width\":0.5},\"pattern\":{\"fillmode\":\"overlay\",\"size\":10,\"solidity\":0.2}},\"type\":\"bar\"}],\"barpolar\":[{\"marker\":{\"line\":{\"color\":\"#E5ECF6\",\"width\":0.5},\"pattern\":{\"fillmode\":\"overlay\",\"size\":10,\"solidity\":0.2}},\"type\":\"barpolar\"}],\"carpet\":[{\"aaxis\":{\"endlinecolor\":\"#2a3f5f\",\"gridcolor\":\"white\",\"linecolor\":\"white\",\"minorgridcolor\":\"white\",\"startlinecolor\":\"#2a3f5f\"},\"baxis\":{\"endlinecolor\":\"#2a3f5f\",\"gridcolor\":\"white\",\"linecolor\":\"white\",\"minorgridcolor\":\"white\",\"startlinecolor\":\"#2a3f5f\"},\"type\":\"carpet\"}],\"choropleth\":[{\"colorbar\":{\"outlinewidth\":0,\"ticks\":\"\"},\"type\":\"choropleth\"}],\"contour\":[{\"colorbar\":{\"outlinewidth\":0,\"ticks\":\"\"},\"colorscale\":[[0.0,\"#0d0887\"],[0.1111111111111111,\"#46039f\"],[0.2222222222222222,\"#7201a8\"],[0.3333333333333333,\"#9c179e\"],[0.4444444444444444,\"#bd3786\"],[0.5555555555555556,\"#d8576b\"],[0.6666666666666666,\"#ed7953\"],[0.7777777777777778,\"#fb9f3a\"],[0.8888888888888888,\"#fdca26\"],[1.0,\"#f0f921\"]],\"type\":\"contour\"}],\"contourcarpet\":[{\"colorbar\":{\"outlinewidth\":0,\"ticks\":\"\"},\"type\":\"contourcarpet\"}],\"heatmap\":[{\"colorbar\":{\"outlinewidth\":0,\"ticks\":\"\"},\"colorscale\":[[0.0,\"#0d0887\"],[0.1111111111111111,\"#46039f\"],[0.2222222222222222,\"#7201a8\"],[0.3333333333333333,\"#9c179e\"],[0.4444444444444444,\"#bd3786\"],[0.5555555555555556,\"#d8576b\"],[0.6666666666666666,\"#ed7953\"],[0.7777777777777778,\"#fb9f3a\"],[0.8888888888888888,\"#fdca26\"],[1.0,\"#f0f921\"]],\"type\":\"heatmap\"}],\"heatmapgl\":[{\"colorbar\":{\"outlinewidth\":0,\"ticks\":\"\"},\"colorscale\":[[0.0,\"#0d0887\"],[0.1111111111111111,\"#46039f\"],[0.2222222222222222,\"#7201a8\"],[0.3333333333333333,\"#9c179e\"],[0.4444444444444444,\"#bd3786\"],[0.5555555555555556,\"#d8576b\"],[0.6666666666666666,\"#ed7953\"],[0.7777777777777778,\"#fb9f3a\"],[0.8888888888888888,\"#fdca26\"],[1.0,\"#f0f921\"]],\"type\":\"heatmapgl\"}],\"histogram\":[{\"marker\":{\"pattern\":{\"fillmode\":\"overlay\",\"size\":10,\"solidity\":0.2}},\"type\":\"histogram\"}],\"histogram2d\":[{\"colorbar\":{\"outlinewidth\":0,\"ticks\":\"\"},\"colorscale\":[[0.0,\"#0d0887\"],[0.1111111111111111,\"#46039f\"],[0.2222222222222222,\"#7201a8\"],[0.3333333333333333,\"#9c179e\"],[0.4444444444444444,\"#bd3786\"],[0.5555555555555556,\"#d8576b\"],[0.6666666666666666,\"#ed7953\"],[0.7777777777777778,\"#fb9f3a\"],[0.8888888888888888,\"#fdca26\"],[1.0,\"#f0f921\"]],\"type\":\"histogram2d\"}],\"histogram2dcontour\":[{\"colorbar\":{\"outlinewidth\":0,\"ticks\":\"\"},\"colorscale\":[[0.0,\"#0d0887\"],[0.1111111111111111,\"#46039f\"],[0.2222222222222222,\"#7201a8\"],[0.3333333333333333,\"#9c179e\"],[0.4444444444444444,\"#bd3786\"],[0.5555555555555556,\"#d8576b\"],[0.6666666666666666,\"#ed7953\"],[0.7777777777777778,\"#fb9f3a\"],[0.8888888888888888,\"#fdca26\"],[1.0,\"#f0f921\"]],\"type\":\"histogram2dcontour\"}],\"mesh3d\":[{\"colorbar\":{\"outlinewidth\":0,\"ticks\":\"\"},\"type\":\"mesh3d\"}],\"parcoords\":[{\"line\":{\"colorbar\":{\"outlinewidth\":0,\"ticks\":\"\"}},\"type\":\"parcoords\"}],\"pie\":[{\"automargin\":true,\"type\":\"pie\"}],\"scatter\":[{\"marker\":{\"colorbar\":{\"outlinewidth\":0,\"ticks\":\"\"}},\"type\":\"scatter\"}],\"scatter3d\":[{\"line\":{\"colorbar\":{\"outlinewidth\":0,\"ticks\":\"\"}},\"marker\":{\"colorbar\":{\"outlinewidth\":0,\"ticks\":\"\"}},\"type\":\"scatter3d\"}],\"scattercarpet\":[{\"marker\":{\"colorbar\":{\"outlinewidth\":0,\"ticks\":\"\"}},\"type\":\"scattercarpet\"}],\"scattergeo\":[{\"marker\":{\"colorbar\":{\"outlinewidth\":0,\"ticks\":\"\"}},\"type\":\"scattergeo\"}],\"scattergl\":[{\"marker\":{\"colorbar\":{\"outlinewidth\":0,\"ticks\":\"\"}},\"type\":\"scattergl\"}],\"scattermapbox\":[{\"marker\":{\"colorbar\":{\"outlinewidth\":0,\"ticks\":\"\"}},\"type\":\"scattermapbox\"}],\"scatterpolar\":[{\"marker\":{\"colorbar\":{\"outlinewidth\":0,\"ticks\":\"\"}},\"type\":\"scatterpolar\"}],\"scatterpolargl\":[{\"marker\":{\"colorbar\":{\"outlinewidth\":0,\"ticks\":\"\"}},\"type\":\"scatterpolargl\"}],\"scatterternary\":[{\"marker\":{\"colorbar\":{\"outlinewidth\":0,\"ticks\":\"\"}},\"type\":\"scatterternary\"}],\"surface\":[{\"colorbar\":{\"outlinewidth\":0,\"ticks\":\"\"},\"colorscale\":[[0.0,\"#0d0887\"],[0.1111111111111111,\"#46039f\"],[0.2222222222222222,\"#7201a8\"],[0.3333333333333333,\"#9c179e\"],[0.4444444444444444,\"#bd3786\"],[0.5555555555555556,\"#d8576b\"],[0.6666666666666666,\"#ed7953\"],[0.7777777777777778,\"#fb9f3a\"],[0.8888888888888888,\"#fdca26\"],[1.0,\"#f0f921\"]],\"type\":\"surface\"}],\"table\":[{\"cells\":{\"fill\":{\"color\":\"#EBF0F8\"},\"line\":{\"color\":\"white\"}},\"header\":{\"fill\":{\"color\":\"#C8D4E3\"},\"line\":{\"color\":\"white\"}},\"type\":\"table\"}]},\"layout\":{\"annotationdefaults\":{\"arrowcolor\":\"#2a3f5f\",\"arrowhead\":0,\"arrowwidth\":1},\"autotypenumbers\":\"strict\",\"coloraxis\":{\"colorbar\":{\"outlinewidth\":0,\"ticks\":\"\"}},\"colorscale\":{\"diverging\":[[0,\"#8e0152\"],[0.1,\"#c51b7d\"],[0.2,\"#de77ae\"],[0.3,\"#f1b6da\"],[0.4,\"#fde0ef\"],[0.5,\"#f7f7f7\"],[0.6,\"#e6f5d0\"],[0.7,\"#b8e186\"],[0.8,\"#7fbc41\"],[0.9,\"#4d9221\"],[1,\"#276419\"]],\"sequential\":[[0.0,\"#0d0887\"],[0.1111111111111111,\"#46039f\"],[0.2222222222222222,\"#7201a8\"],[0.3333333333333333,\"#9c179e\"],[0.4444444444444444,\"#bd3786\"],[0.5555555555555556,\"#d8576b\"],[0.6666666666666666,\"#ed7953\"],[0.7777777777777778,\"#fb9f3a\"],[0.8888888888888888,\"#fdca26\"],[1.0,\"#f0f921\"]],\"sequentialminus\":[[0.0,\"#0d0887\"],[0.1111111111111111,\"#46039f\"],[0.2222222222222222,\"#7201a8\"],[0.3333333333333333,\"#9c179e\"],[0.4444444444444444,\"#bd3786\"],[0.5555555555555556,\"#d8576b\"],[0.6666666666666666,\"#ed7953\"],[0.7777777777777778,\"#fb9f3a\"],[0.8888888888888888,\"#fdca26\"],[1.0,\"#f0f921\"]]},\"colorway\":[\"#636efa\",\"#EF553B\",\"#00cc96\",\"#ab63fa\",\"#FFA15A\",\"#19d3f3\",\"#FF6692\",\"#B6E880\",\"#FF97FF\",\"#FECB52\"],\"font\":{\"color\":\"#2a3f5f\"},\"geo\":{\"bgcolor\":\"white\",\"lakecolor\":\"white\",\"landcolor\":\"#E5ECF6\",\"showlakes\":true,\"showland\":true,\"subunitcolor\":\"white\"},\"hoverlabel\":{\"align\":\"left\"},\"hovermode\":\"closest\",\"mapbox\":{\"style\":\"light\"},\"paper_bgcolor\":\"white\",\"plot_bgcolor\":\"#E5ECF6\",\"polar\":{\"angularaxis\":{\"gridcolor\":\"white\",\"linecolor\":\"white\",\"ticks\":\"\"},\"bgcolor\":\"#E5ECF6\",\"radialaxis\":{\"gridcolor\":\"white\",\"linecolor\":\"white\",\"ticks\":\"\"}},\"scene\":{\"xaxis\":{\"backgroundcolor\":\"#E5ECF6\",\"gridcolor\":\"white\",\"gridwidth\":2,\"linecolor\":\"white\",\"showbackground\":true,\"ticks\":\"\",\"zerolinecolor\":\"white\"},\"yaxis\":{\"backgroundcolor\":\"#E5ECF6\",\"gridcolor\":\"white\",\"gridwidth\":2,\"linecolor\":\"white\",\"showbackground\":true,\"ticks\":\"\",\"zerolinecolor\":\"white\"},\"zaxis\":{\"backgroundcolor\":\"#E5ECF6\",\"gridcolor\":\"white\",\"gridwidth\":2,\"linecolor\":\"white\",\"showbackground\":true,\"ticks\":\"\",\"zerolinecolor\":\"white\"}},\"shapedefaults\":{\"line\":{\"color\":\"#2a3f5f\"}},\"ternary\":{\"aaxis\":{\"gridcolor\":\"white\",\"linecolor\":\"white\",\"ticks\":\"\"},\"baxis\":{\"gridcolor\":\"white\",\"linecolor\":\"white\",\"ticks\":\"\"},\"bgcolor\":\"#E5ECF6\",\"caxis\":{\"gridcolor\":\"white\",\"linecolor\":\"white\",\"ticks\":\"\"}},\"title\":{\"x\":0.05},\"xaxis\":{\"automargin\":true,\"gridcolor\":\"white\",\"linecolor\":\"white\",\"ticks\":\"\",\"title\":{\"standoff\":15},\"zerolinecolor\":\"white\",\"zerolinewidth\":2},\"yaxis\":{\"automargin\":true,\"gridcolor\":\"white\",\"linecolor\":\"white\",\"ticks\":\"\",\"title\":{\"standoff\":15},\"zerolinecolor\":\"white\",\"zerolinewidth\":2}}},\"title\":{\"text\":\"Conteo por Carrera\",\"font\":{\"color\":\"Ivory\"}},\"margin\":{\"l\":30,\"r\":30,\"t\":80,\"b\":50},\"autosize\":false,\"width\":800,\"height\":800,\"paper_bgcolor\":\"#605B56\"},                        {\"responsive\": true}                    ).then(function(){\n",
       "                            \n",
       "var gd = document.getElementById('48522edb-36e7-4865-ac0d-6fa96ce98b6a');\n",
       "var x = new MutationObserver(function (mutations, observer) {{\n",
       "        var display = window.getComputedStyle(gd).display;\n",
       "        if (!display || display === 'none') {{\n",
       "            console.log([gd, 'removed!']);\n",
       "            Plotly.purge(gd);\n",
       "            observer.disconnect();\n",
       "        }}\n",
       "}});\n",
       "\n",
       "// Listen for the removal of the full notebook cells\n",
       "var notebookContainer = gd.closest('#notebook-container');\n",
       "if (notebookContainer) {{\n",
       "    x.observe(notebookContainer, {childList: true});\n",
       "}}\n",
       "\n",
       "// Listen for the clearing of the current output cell\n",
       "var outputEl = gd.closest('.output');\n",
       "if (outputEl) {{\n",
       "    x.observe(outputEl, {childList: true});\n",
       "}}\n",
       "\n",
       "                        })                };                });            </script>        </div>"
      ]
     },
     "metadata": {},
     "output_type": "display_data"
    }
   ],
   "source": [
    "import plotly.graph_objects as go\n",
    "\n",
    "df = context['porCarrera']\n",
    "fig = go.Figure(data = [go.Table(header = dict(values = ['Clave Plantel', 'Plantel', 'Clave Carrera', 'Carrera', 'Internet', 'Telefonicas'], fill_color='#454ADE', align='left', font=dict(color='Ivory')),\n",
    "                                 cells = dict(values=[df.ClavePlantel, df.Plantel, df.ClaveCarrera, df.Carrera, df.Internet, df.Telefonicas], align='left', fill_color= '#b8c5d6'))],\n",
    "                layout_title_text ='Conteo por Carrera',\n",
    "                layout_title_font = go.layout.title.Font(color = 'Ivory'))\n",
    "\n",
    "fig_params = {'autosize':False,\n",
    "    'width':800,\n",
    "    'height': 800,\n",
    "    'paper_bgcolor':\"#605B56\",\n",
    "    'margin' : dict(l=30, r=30, t=80, b=50)}\n",
    "\n",
    "fig.update_layout(fig_params)\n",
    "fig.update_layout()\n",
    "fig.show()"
   ]
  },
  {
   "cell_type": "code",
   "execution_count": 64,
   "metadata": {},
   "outputs": [
    {
     "name": "stdout",
     "output_type": "stream",
     "text": [
      "Collecting pyarrow\n",
      "  Downloading pyarrow-9.0.0-cp39-cp39-win_amd64.whl (19.6 MB)\n",
      "Requirement already satisfied: numpy>=1.16.6 in c:\\users\\hrangel\\anaconda3\\lib\\site-packages (from pyarrow) (1.21.5)\n",
      "Installing collected packages: pyarrow\n",
      "Successfully installed pyarrow-9.0.0\n"
     ]
    }
   ],
   "source": [
    "# ! pip install pyarrow"
   ]
  },
  {
   "cell_type": "code",
   "execution_count": 65,
   "metadata": {},
   "outputs": [
    {
     "name": "stdout",
     "output_type": "stream",
     "text": [
      "Collecting fastparquet\n",
      "  Downloading fastparquet-0.8.3-cp39-cp39-win_amd64.whl (605 kB)\n",
      "Requirement already satisfied: fsspec in c:\\users\\hrangel\\anaconda3\\lib\\site-packages (from fastparquet) (2022.2.0)\n",
      "Collecting cramjam>=2.3.0\n",
      "  Downloading cramjam-2.5.0-cp39-none-win_amd64.whl (993 kB)\n",
      "Requirement already satisfied: packaging in c:\\users\\hrangel\\anaconda3\\lib\\site-packages (from fastparquet) (21.3)\n",
      "Requirement already satisfied: pandas>=1.1.0 in c:\\users\\hrangel\\anaconda3\\lib\\site-packages (from fastparquet) (1.4.2)\n",
      "Requirement already satisfied: numpy>=1.18 in c:\\users\\hrangel\\anaconda3\\lib\\site-packages (from fastparquet) (1.21.5)\n",
      "Requirement already satisfied: python-dateutil>=2.8.1 in c:\\users\\hrangel\\anaconda3\\lib\\site-packages (from pandas>=1.1.0->fastparquet) (2.8.2)\n",
      "Requirement already satisfied: pytz>=2020.1 in c:\\users\\hrangel\\anaconda3\\lib\\site-packages (from pandas>=1.1.0->fastparquet) (2021.3)\n",
      "Requirement already satisfied: six>=1.5 in c:\\users\\hrangel\\anaconda3\\lib\\site-packages (from python-dateutil>=2.8.1->pandas>=1.1.0->fastparquet) (1.16.0)\n",
      "Requirement already satisfied: pyparsing!=3.0.5,>=2.0.2 in c:\\users\\hrangel\\anaconda3\\lib\\site-packages (from packaging->fastparquet) (3.0.4)\n",
      "Installing collected packages: cramjam, fastparquet\n",
      "Successfully installed cramjam-2.5.0 fastparquet-0.8.3\n"
     ]
    }
   ],
   "source": [
    "# ! pip install fastparquet"
   ]
  },
  {
   "cell_type": "code",
   "execution_count": 66,
   "metadata": {},
   "outputs": [],
   "source": [
    "dgae.to_parquet(\"C:/Users/hrangel/Documents/dgae.parquet\", compression=None)"
   ]
  },
  {
   "cell_type": "code",
   "execution_count": 70,
   "metadata": {},
   "outputs": [
    {
     "name": "stdout",
     "output_type": "stream",
     "text": [
      "0.08460783958435059\n"
     ]
    }
   ],
   "source": [
    "t = time.time()\n",
    "dgae2 = pd.read_parquet(\"modules/files/dgae.parquet\", engine=\"fastparquet\")\n",
    "print(time.time()-t)"
   ]
  },
  {
   "cell_type": "code",
   "execution_count": 69,
   "metadata": {},
   "outputs": [
    {
     "data": {
      "text/html": [
       "<div>\n",
       "<style scoped>\n",
       "    .dataframe tbody tr th:only-of-type {\n",
       "        vertical-align: middle;\n",
       "    }\n",
       "\n",
       "    .dataframe tbody tr th {\n",
       "        vertical-align: top;\n",
       "    }\n",
       "\n",
       "    .dataframe thead th {\n",
       "        text-align: right;\n",
       "    }\n",
       "</style>\n",
       "<table border=\"1\" class=\"dataframe\">\n",
       "  <thead>\n",
       "    <tr style=\"text-align: right;\">\n",
       "      <th></th>\n",
       "      <th>NUM</th>\n",
       "      <th>ANIO</th>\n",
       "      <th>ANIO_NUM</th>\n",
       "      <th>CUENTA</th>\n",
       "      <th>APELLIDO1</th>\n",
       "      <th>APELLIDO2</th>\n",
       "      <th>NOMBRE</th>\n",
       "      <th>SEXO</th>\n",
       "      <th>FECHA_NACIMIENTO</th>\n",
       "      <th>TELEFONO</th>\n",
       "      <th>...</th>\n",
       "      <th>TITULADO</th>\n",
       "      <th>SISTEMA</th>\n",
       "      <th>BACHILLERATO</th>\n",
       "      <th>NOMBRE_PLANTEL_BACH</th>\n",
       "      <th>TELEFONO1</th>\n",
       "      <th>CORREO_COMUNIDAD_UNAM1</th>\n",
       "      <th>CORREO_ALTERNO1</th>\n",
       "      <th>TELEFONO_MODIFICADO</th>\n",
       "      <th>CORREO_COMUNIDAD_UNAM_MODIFICADO</th>\n",
       "      <th>CORREO_ALTERNO_MODIFICADO</th>\n",
       "    </tr>\n",
       "  </thead>\n",
       "  <tbody>\n",
       "    <tr>\n",
       "      <th>0</th>\n",
       "      <td>1</td>\n",
       "      <td>2016</td>\n",
       "      <td>1</td>\n",
       "      <td>78523579</td>\n",
       "      <td>SANCHEZ</td>\n",
       "      <td>HERNANDEZ</td>\n",
       "      <td>JOSE LUIS</td>\n",
       "      <td>M</td>\n",
       "      <td>1951-09-21</td>\n",
       "      <td>5.536263e+09</td>\n",
       "      <td>...</td>\n",
       "      <td>NO</td>\n",
       "      <td>E</td>\n",
       "      <td>NaN</td>\n",
       "      <td>None</td>\n",
       "      <td>5.536263e+09</td>\n",
       "      <td>None</td>\n",
       "      <td>sanzacapulco51@yahoo.com.mx</td>\n",
       "      <td>NaN</td>\n",
       "      <td>NaN</td>\n",
       "      <td>NaN</td>\n",
       "    </tr>\n",
       "    <tr>\n",
       "      <th>1</th>\n",
       "      <td>2</td>\n",
       "      <td>2016</td>\n",
       "      <td>2</td>\n",
       "      <td>75442297</td>\n",
       "      <td>PEREZ</td>\n",
       "      <td>FLORES</td>\n",
       "      <td>NORBERTO</td>\n",
       "      <td>M</td>\n",
       "      <td>1956-12-02</td>\n",
       "      <td>5.558632e+09</td>\n",
       "      <td>...</td>\n",
       "      <td>SI</td>\n",
       "      <td>E</td>\n",
       "      <td>26.0</td>\n",
       "      <td>E.N.P. 6 \"ANTONIO CASO\"</td>\n",
       "      <td>5.558632e+09</td>\n",
       "      <td>None</td>\n",
       "      <td>norberto7544@yahoo.com</td>\n",
       "      <td>NaN</td>\n",
       "      <td>NaN</td>\n",
       "      <td>NaN</td>\n",
       "    </tr>\n",
       "    <tr>\n",
       "      <th>2</th>\n",
       "      <td>3</td>\n",
       "      <td>2016</td>\n",
       "      <td>3</td>\n",
       "      <td>79238177</td>\n",
       "      <td>HERNANDEZ</td>\n",
       "      <td>SEGURA</td>\n",
       "      <td>HILDA</td>\n",
       "      <td>F</td>\n",
       "      <td>1962-11-14</td>\n",
       "      <td>5.550269e+09</td>\n",
       "      <td>...</td>\n",
       "      <td>NO</td>\n",
       "      <td>E</td>\n",
       "      <td>26.0</td>\n",
       "      <td>E.N.P. 6 \"ANTONIO CASO\"</td>\n",
       "      <td>5.550269e+09</td>\n",
       "      <td>None</td>\n",
       "      <td>dahils62@yahoo.com.mx</td>\n",
       "      <td>NaN</td>\n",
       "      <td>NaN</td>\n",
       "      <td>NaN</td>\n",
       "    </tr>\n",
       "    <tr>\n",
       "      <th>3</th>\n",
       "      <td>4</td>\n",
       "      <td>2016</td>\n",
       "      <td>4</td>\n",
       "      <td>84473259</td>\n",
       "      <td>LEON</td>\n",
       "      <td>VELAZQUEZ</td>\n",
       "      <td>MARIA EUGENIA</td>\n",
       "      <td>F</td>\n",
       "      <td>1961-11-06</td>\n",
       "      <td>5.555791e+09</td>\n",
       "      <td>...</td>\n",
       "      <td>NO</td>\n",
       "      <td>E</td>\n",
       "      <td>NaN</td>\n",
       "      <td>None</td>\n",
       "      <td>5.555791e+09</td>\n",
       "      <td>None</td>\n",
       "      <td>eugenia3249@hotmail.com</td>\n",
       "      <td>NaN</td>\n",
       "      <td>NaN</td>\n",
       "      <td>NaN</td>\n",
       "    </tr>\n",
       "    <tr>\n",
       "      <th>4</th>\n",
       "      <td>5</td>\n",
       "      <td>2016</td>\n",
       "      <td>5</td>\n",
       "      <td>83390728</td>\n",
       "      <td>MENDOZA</td>\n",
       "      <td>PEREZ</td>\n",
       "      <td>CLAUDIA</td>\n",
       "      <td>F</td>\n",
       "      <td>1967-02-18</td>\n",
       "      <td>5.555957e+09</td>\n",
       "      <td>...</td>\n",
       "      <td>NO</td>\n",
       "      <td>E</td>\n",
       "      <td>28.0</td>\n",
       "      <td>E.N.P. 8 \"MIGUEL E. SCHULZ\"</td>\n",
       "      <td>5.555957e+09</td>\n",
       "      <td>None</td>\n",
       "      <td>mklaudita@hotmail.com</td>\n",
       "      <td>NaN</td>\n",
       "      <td>NaN</td>\n",
       "      <td>NaN</td>\n",
       "    </tr>\n",
       "    <tr>\n",
       "      <th>...</th>\n",
       "      <td>...</td>\n",
       "      <td>...</td>\n",
       "      <td>...</td>\n",
       "      <td>...</td>\n",
       "      <td>...</td>\n",
       "      <td>...</td>\n",
       "      <td>...</td>\n",
       "      <td>...</td>\n",
       "      <td>...</td>\n",
       "      <td>...</td>\n",
       "      <td>...</td>\n",
       "      <td>...</td>\n",
       "      <td>...</td>\n",
       "      <td>...</td>\n",
       "      <td>...</td>\n",
       "      <td>...</td>\n",
       "      <td>...</td>\n",
       "      <td>...</td>\n",
       "      <td>...</td>\n",
       "      <td>...</td>\n",
       "      <td>...</td>\n",
       "    </tr>\n",
       "    <tr>\n",
       "      <th>118007</th>\n",
       "      <td>118008</td>\n",
       "      <td>2019</td>\n",
       "      <td>32154</td>\n",
       "      <td>416030381</td>\n",
       "      <td>GUTIERREZ</td>\n",
       "      <td>DAVILA</td>\n",
       "      <td>DANIELA</td>\n",
       "      <td>F</td>\n",
       "      <td>1996-08-26</td>\n",
       "      <td>4.433232e+09</td>\n",
       "      <td>...</td>\n",
       "      <td>NO</td>\n",
       "      <td>E</td>\n",
       "      <td>NaN</td>\n",
       "      <td>None</td>\n",
       "      <td>4.433232e+09</td>\n",
       "      <td>None</td>\n",
       "      <td>daniee-gutierrez1996@outlook.es</td>\n",
       "      <td>NaN</td>\n",
       "      <td>NaN</td>\n",
       "      <td>NaN</td>\n",
       "    </tr>\n",
       "    <tr>\n",
       "      <th>118008</th>\n",
       "      <td>118009</td>\n",
       "      <td>2019</td>\n",
       "      <td>32155</td>\n",
       "      <td>416064515</td>\n",
       "      <td>TELLEZ</td>\n",
       "      <td>SALAZAR</td>\n",
       "      <td>ANDREA SOPHIA</td>\n",
       "      <td>F</td>\n",
       "      <td>1995-01-23</td>\n",
       "      <td>4.433825e+09</td>\n",
       "      <td>...</td>\n",
       "      <td>NO</td>\n",
       "      <td>E</td>\n",
       "      <td>NaN</td>\n",
       "      <td>None</td>\n",
       "      <td>4.433825e+09</td>\n",
       "      <td>None</td>\n",
       "      <td>sophita95@hotmail.com</td>\n",
       "      <td>NaN</td>\n",
       "      <td>NaN</td>\n",
       "      <td>NaN</td>\n",
       "    </tr>\n",
       "    <tr>\n",
       "      <th>118009</th>\n",
       "      <td>118010</td>\n",
       "      <td>2019</td>\n",
       "      <td>32156</td>\n",
       "      <td>416074972</td>\n",
       "      <td>SKEWES</td>\n",
       "      <td>LOPEZ</td>\n",
       "      <td>GREYSS</td>\n",
       "      <td>F</td>\n",
       "      <td>1997-08-10</td>\n",
       "      <td>7.717143e+09</td>\n",
       "      <td>...</td>\n",
       "      <td>NO</td>\n",
       "      <td>E</td>\n",
       "      <td>NaN</td>\n",
       "      <td>None</td>\n",
       "      <td>7.717143e+09</td>\n",
       "      <td>None</td>\n",
       "      <td>yuiskelo@gmail.com</td>\n",
       "      <td>NaN</td>\n",
       "      <td>NaN</td>\n",
       "      <td>NaN</td>\n",
       "    </tr>\n",
       "    <tr>\n",
       "      <th>118010</th>\n",
       "      <td>118011</td>\n",
       "      <td>2019</td>\n",
       "      <td>32157</td>\n",
       "      <td>415093394</td>\n",
       "      <td>FIGUEROA</td>\n",
       "      <td>ALCANTARA</td>\n",
       "      <td>ABRAHAM</td>\n",
       "      <td>M</td>\n",
       "      <td>1995-02-18</td>\n",
       "      <td>9.512181e+09</td>\n",
       "      <td>...</td>\n",
       "      <td>NO</td>\n",
       "      <td>E</td>\n",
       "      <td>NaN</td>\n",
       "      <td>None</td>\n",
       "      <td>9.512181e+09</td>\n",
       "      <td>abrahamfigueroa@comunidad.unam.mx</td>\n",
       "      <td>abrahamfigueroa.alc@gmail.com</td>\n",
       "      <td>NaN</td>\n",
       "      <td>NaN</td>\n",
       "      <td>NaN</td>\n",
       "    </tr>\n",
       "    <tr>\n",
       "      <th>118011</th>\n",
       "      <td>118012</td>\n",
       "      <td>2019</td>\n",
       "      <td>32158</td>\n",
       "      <td>313028526</td>\n",
       "      <td>GLEAVES</td>\n",
       "      <td>AYALA</td>\n",
       "      <td>NICOLLE</td>\n",
       "      <td>F</td>\n",
       "      <td>1996-06-01</td>\n",
       "      <td>5.553531e+09</td>\n",
       "      <td>...</td>\n",
       "      <td>NO</td>\n",
       "      <td>E</td>\n",
       "      <td>29.0</td>\n",
       "      <td>E.N.P. 9 \"PEDRO DE ALBA\"</td>\n",
       "      <td>5.553531e+09</td>\n",
       "      <td>ngleaves@comunidad.unam.mx</td>\n",
       "      <td>nikk.glay@gmail.com</td>\n",
       "      <td>NaN</td>\n",
       "      <td>NaN</td>\n",
       "      <td>NaN</td>\n",
       "    </tr>\n",
       "  </tbody>\n",
       "</table>\n",
       "<p>118012 rows × 31 columns</p>\n",
       "</div>"
      ],
      "text/plain": [
       "           NUM  ANIO  ANIO_NUM     CUENTA  APELLIDO1  APELLIDO2  \\\n",
       "0            1  2016         1   78523579    SANCHEZ  HERNANDEZ   \n",
       "1            2  2016         2   75442297      PEREZ     FLORES   \n",
       "2            3  2016         3   79238177  HERNANDEZ     SEGURA   \n",
       "3            4  2016         4   84473259       LEON  VELAZQUEZ   \n",
       "4            5  2016         5   83390728    MENDOZA      PEREZ   \n",
       "...        ...   ...       ...        ...        ...        ...   \n",
       "118007  118008  2019     32154  416030381  GUTIERREZ     DAVILA   \n",
       "118008  118009  2019     32155  416064515     TELLEZ    SALAZAR   \n",
       "118009  118010  2019     32156  416074972     SKEWES      LOPEZ   \n",
       "118010  118011  2019     32157  415093394   FIGUEROA  ALCANTARA   \n",
       "118011  118012  2019     32158  313028526    GLEAVES      AYALA   \n",
       "\n",
       "               NOMBRE SEXO FECHA_NACIMIENTO      TELEFONO  ... TITULADO  \\\n",
       "0           JOSE LUIS    M       1951-09-21  5.536263e+09  ...       NO   \n",
       "1            NORBERTO    M       1956-12-02  5.558632e+09  ...       SI   \n",
       "2               HILDA    F       1962-11-14  5.550269e+09  ...       NO   \n",
       "3       MARIA EUGENIA    F       1961-11-06  5.555791e+09  ...       NO   \n",
       "4             CLAUDIA    F       1967-02-18  5.555957e+09  ...       NO   \n",
       "...               ...  ...              ...           ...  ...      ...   \n",
       "118007        DANIELA    F       1996-08-26  4.433232e+09  ...       NO   \n",
       "118008  ANDREA SOPHIA    F       1995-01-23  4.433825e+09  ...       NO   \n",
       "118009         GREYSS    F       1997-08-10  7.717143e+09  ...       NO   \n",
       "118010        ABRAHAM    M       1995-02-18  9.512181e+09  ...       NO   \n",
       "118011        NICOLLE    F       1996-06-01  5.553531e+09  ...       NO   \n",
       "\n",
       "       SISTEMA  BACHILLERATO          NOMBRE_PLANTEL_BACH     TELEFONO1  \\\n",
       "0            E           NaN                         None  5.536263e+09   \n",
       "1            E          26.0      E.N.P. 6 \"ANTONIO CASO\"  5.558632e+09   \n",
       "2            E          26.0      E.N.P. 6 \"ANTONIO CASO\"  5.550269e+09   \n",
       "3            E           NaN                         None  5.555791e+09   \n",
       "4            E          28.0  E.N.P. 8 \"MIGUEL E. SCHULZ\"  5.555957e+09   \n",
       "...        ...           ...                          ...           ...   \n",
       "118007       E           NaN                         None  4.433232e+09   \n",
       "118008       E           NaN                         None  4.433825e+09   \n",
       "118009       E           NaN                         None  7.717143e+09   \n",
       "118010       E           NaN                         None  9.512181e+09   \n",
       "118011       E          29.0     E.N.P. 9 \"PEDRO DE ALBA\"  5.553531e+09   \n",
       "\n",
       "                   CORREO_COMUNIDAD_UNAM1                  CORREO_ALTERNO1  \\\n",
       "0                                    None      sanzacapulco51@yahoo.com.mx   \n",
       "1                                    None           norberto7544@yahoo.com   \n",
       "2                                    None            dahils62@yahoo.com.mx   \n",
       "3                                    None          eugenia3249@hotmail.com   \n",
       "4                                    None            mklaudita@hotmail.com   \n",
       "...                                   ...                              ...   \n",
       "118007                               None  daniee-gutierrez1996@outlook.es   \n",
       "118008                               None            sophita95@hotmail.com   \n",
       "118009                               None               yuiskelo@gmail.com   \n",
       "118010  abrahamfigueroa@comunidad.unam.mx    abrahamfigueroa.alc@gmail.com   \n",
       "118011         ngleaves@comunidad.unam.mx              nikk.glay@gmail.com   \n",
       "\n",
       "       TELEFONO_MODIFICADO  CORREO_COMUNIDAD_UNAM_MODIFICADO  \\\n",
       "0                      NaN                               NaN   \n",
       "1                      NaN                               NaN   \n",
       "2                      NaN                               NaN   \n",
       "3                      NaN                               NaN   \n",
       "4                      NaN                               NaN   \n",
       "...                    ...                               ...   \n",
       "118007                 NaN                               NaN   \n",
       "118008                 NaN                               NaN   \n",
       "118009                 NaN                               NaN   \n",
       "118010                 NaN                               NaN   \n",
       "118011                 NaN                               NaN   \n",
       "\n",
       "        CORREO_ALTERNO_MODIFICADO  \n",
       "0                             NaN  \n",
       "1                             NaN  \n",
       "2                             NaN  \n",
       "3                             NaN  \n",
       "4                             NaN  \n",
       "...                           ...  \n",
       "118007                        NaN  \n",
       "118008                        NaN  \n",
       "118009                        NaN  \n",
       "118010                        NaN  \n",
       "118011                        NaN  \n",
       "\n",
       "[118012 rows x 31 columns]"
      ]
     },
     "execution_count": 69,
     "metadata": {},
     "output_type": "execute_result"
    }
   ],
   "source": [
    "dgae2"
   ]
  }
 ],
 "metadata": {
  "kernelspec": {
   "display_name": "Python 3 (ipykernel)",
   "language": "python",
   "name": "python3"
  },
  "language_info": {
   "codemirror_mode": {
    "name": "ipython",
    "version": 3
   },
   "file_extension": ".py",
   "mimetype": "text/x-python",
   "name": "python",
   "nbconvert_exporter": "python",
   "pygments_lexer": "ipython3",
   "version": "3.9.12"
  },
  "vscode": {
   "interpreter": {
    "hash": "691c30968716edfc9a50ab67417207932f1639e5a02ab9a46676693cc08be54b"
   }
  }
 },
 "nbformat": 4,
 "nbformat_minor": 2
}
